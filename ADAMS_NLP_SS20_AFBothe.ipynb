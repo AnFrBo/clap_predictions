{
  "nbformat": 4,
  "nbformat_minor": 0,
  "metadata": {
    "colab": {
      "name": "ADAMS-NLP-SS20-AFBothe.ipynb",
      "provenance": [],
      "collapsed_sections": [
        "2SgVg7SVynW1",
        "qqa4fMcB5JKT",
        "38UCz9885Trp",
        "_d1yCdXiDfNT",
        "drqNlQ-xHfF6",
        "u2xxU01oFrQa",
        "GVnYGDgSkdko",
        "OUnBgMMlBDhg",
        "WoNWaNBwA6Ct",
        "c2A43Kv4kmsN",
        "IMBlYVuUi_Aw"
      ],
      "toc_visible": true,
      "authorship_tag": "ABX9TyPYTcoB4HILPoBFQoc4PpEs",
      "include_colab_link": true
    },
    "kernelspec": {
      "name": "python3",
      "display_name": "Python 3"
    }
  },
  "cells": [
    {
      "cell_type": "markdown",
      "metadata": {
        "id": "view-in-github",
        "colab_type": "text"
      },
      "source": [
        "<a href=\"https://colab.research.google.com/github/AnFrBo/clap_predictions/blob/main/ADAMS_NLP_SS20_AFBothe.ipynb\" target=\"_parent\"><img src=\"https://colab.research.google.com/assets/colab-badge.svg\" alt=\"Open In Colab\"/></a>"
      ]
    },
    {
      "cell_type": "markdown",
      "metadata": {
        "id": "__inXi-9oHsk"
      },
      "source": [
        "#Assignment ADAMS SS 2020\n",
        "\n",
        "by Anna Franziska Bothe (576309)"
      ]
    },
    {
      "cell_type": "markdown",
      "metadata": {
        "id": "MxogqT7x1Nha"
      },
      "source": [
        "##Introduction\n",
        "\n",
        "The underlying data are retrieved from the blog Medium and contain variables such as the text, author, published date, comments and the total number of claps (equivalent to a like) of many posts. The task is to predict the number of claps on a given data set. Since we have rich textual information like the header, texts and several tags (tag_name, slug, name), we will mainly focus on natural language processing (NLP). Nevertheless, other categorical and numerical features will be implemented. The first part of the assignment consists of setting up the environment and exploring the data, followed by data preparation and text cleaning. Moreover, we will have a look at different methods and constructions of word embedding and compare the performance of \"self\"-pretrained word embeddings to pretrained word embeddings. Least but not least, the best performing word embedding will be apply to different neural network architecture which will be compared to a baseline models. The model with the lowest MSE will be used for the final prediction.<br>\n",
        "To give an overview over all chapters and subchapters, Google Colab as well as Jupyter Notebook provide an excellent, responsive table of contents located on the top of the bar on the left."
      ]
    },
    {
      "cell_type": "markdown",
      "metadata": {
        "id": "xEtPDqmR51an"
      },
      "source": [
        "###Set-up System "
      ]
    },
    {
      "cell_type": "code",
      "metadata": {
        "id": "KUHyESHuoNfm",
        "colab": {
          "base_uri": "https://localhost:8080/",
          "height": 54
        },
        "outputId": "10127b57-814f-48a4-cfcd-2ccb9fd18ab1"
      },
      "source": [
        "from google.colab import drive\n",
        "drive.mount(\"/content/gdrive\")"
      ],
      "execution_count": null,
      "outputs": [
        {
          "output_type": "stream",
          "text": [
            "Drive already mounted at /content/gdrive; to attempt to forcibly remount, call drive.mount(\"/content/gdrive\", force_remount=True).\n"
          ],
          "name": "stdout"
        }
      ]
    },
    {
      "cell_type": "code",
      "metadata": {
        "id": "4YC9gQK8zqjH",
        "colab": {
          "base_uri": "https://localhost:8080/",
          "height": 153
        },
        "outputId": "7243cc86-1b69-43a1-bdcf-3f60636c6ec4"
      },
      "source": [
        "#load packages/libraries\n",
        "import pandas as pd\n",
        "import numpy as np\n",
        "import seaborn as sns\n",
        "import time\n",
        "import os\n",
        "import pickle\n",
        "\n",
        "#plots\n",
        "import matplotlib.pyplot as plt\n",
        "%matplotlib inline  \n",
        "plt.rcParams[\"figure.figsize\"] = (18,5)\n",
        "\n",
        "#text cleaning\n",
        "import nltk\n",
        "from nltk.tokenize import word_tokenize\n",
        "from nltk.corpus import stopwords\n",
        "from nltk.stem import WordNetLemmatizer\n",
        "nltk.download(\"punkt\")\n",
        "nltk.download(\"stopwords\")\n",
        "nltk.download(\"wordnet\")\n",
        "import re\n",
        "from bs4 import BeautifulSoup\n",
        "!pip install unidecode\n",
        "import unidecode\n",
        "import spacy #lemmatize and stopwords\n",
        "from nltk.tokenize.treebank import TreebankWordDetokenizer\n",
        "\n",
        "#sentiment analysis\n",
        "!pip install afinn\n",
        "from afinn import Afinn\n",
        "\n",
        "#embeddings/NN\n",
        "from sklearn.model_selection import train_test_split\n",
        "import collections\n",
        "import gensim\n",
        "from gensim.models import Word2Vec \n",
        "from gensim.models import Phrases\n",
        "from gensim import models\n",
        "from gensim.models.phrases import Phraser\n",
        "from gensim.models import KeyedVectors\n",
        "import unicodedata\n",
        "\n",
        "from sklearn.linear_model import ElasticNet\n",
        "from sklearn.model_selection import GridSearchCV\n",
        "from sklearn.metrics import mean_squared_error\n",
        "from sklearn.model_selection import train_test_split\n",
        "from keras.preprocessing.text import Tokenizer\n",
        "from keras.preprocessing.sequence import pad_sequences\n",
        "from sklearn.preprocessing import StandardScaler\n",
        "from keras.models import Sequential\n",
        "from keras.layers import Dense, Embedding, GRU, Dropout, Input\n",
        "from keras.layers.embeddings import Embedding\n",
        "from keras.initializers import Constant\n",
        "from tensorflow import keras\n",
        "from keras.layers import Bidirectional\n",
        "from keras.models import load_model\n",
        "\n"
      ],
      "execution_count": null,
      "outputs": [
        {
          "output_type": "stream",
          "text": [
            "[nltk_data] Downloading package punkt to /root/nltk_data...\n",
            "[nltk_data]   Package punkt is already up-to-date!\n",
            "[nltk_data] Downloading package stopwords to /root/nltk_data...\n",
            "[nltk_data]   Package stopwords is already up-to-date!\n",
            "[nltk_data] Downloading package wordnet to /root/nltk_data...\n",
            "[nltk_data]   Package wordnet is already up-to-date!\n",
            "Requirement already satisfied: unidecode in /usr/local/lib/python3.6/dist-packages (1.1.1)\n",
            "Requirement already satisfied: afinn in /usr/local/lib/python3.6/dist-packages (0.1)\n"
          ],
          "name": "stdout"
        }
      ]
    },
    {
      "cell_type": "markdown",
      "metadata": {
        "id": "LjvvP-vpK4lS"
      },
      "source": [
        "###Set-up Data\n",
        "---\n",
        "\n"
      ]
    },
    {
      "cell_type": "code",
      "metadata": {
        "id": "a1KB_FubK23N"
      },
      "source": [
        "#set working directory\n",
        "os.chdir(\"/content/gdrive/My Drive/ADAMS/Assignment\") #TO DO: please change to your corresponding wd"
      ],
      "execution_count": null,
      "outputs": []
    },
    {
      "cell_type": "code",
      "metadata": {
        "id": "jZ9jQR01oaNc"
      },
      "source": [
        "#load data file\n",
        "data_file = \"Train.csv\"\n",
        "train = pd.read_csv(data_file, index_col = False, encoding = \"utf-8\")\n",
        "\n",
        "data_file = \"Test.csv\"\n",
        "test = pd.read_csv(data_file, index_col = False, encoding = \"utf-8\")\n",
        "\n",
        "#train.info() #102.9+ MB"
      ],
      "execution_count": null,
      "outputs": []
    },
    {
      "cell_type": "markdown",
      "metadata": {
        "id": "vevfcRXk3upM"
      },
      "source": [
        "##EDA/Descriptive Statistics"
      ]
    },
    {
      "cell_type": "markdown",
      "metadata": {
        "id": "Y0q826Kh9TyE"
      },
      "source": [
        "The training data set consists of 279.577 entries and contains 50 different variables representing the meta data retrieved from the scrapped blog posts. All datat was scrapped at November 04, 2018. The testing data set have only 8 different variables and 514 entries. The variable are all in a similar form represented in the training data set.<br>\n",
        "As the boxplot below shows, the target variable \"totalClapCount\" has a wide range and extreme outliers. We manually checked some of the extreme outliers to make sure that it is not a scrapping mistake. 50% of the blog posts have 8 claps or less and 75% have 72 claps or less. However, the maximum clap count is 291.706 claps. <br>\n",
        "In the following subchapter we will concentrate on the descriptives of the train data set. All measurements that are applied to the train set will be applied analogously to the test set before the final prediction (if necessary)."
      ]
    },
    {
      "cell_type": "code",
      "metadata": {
        "id": "sYy2RMKNlx8h",
        "colab": {
          "base_uri": "https://localhost:8080/",
          "height": 534
        },
        "outputId": "8a8c8b62-867e-4435-b860-b129a34919ef"
      },
      "source": [
        "train.head()"
      ],
      "execution_count": null,
      "outputs": [
        {
          "output_type": "execute_result",
          "data": {
            "text/html": [
              "<div>\n",
              "<style scoped>\n",
              "    .dataframe tbody tr th:only-of-type {\n",
              "        vertical-align: middle;\n",
              "    }\n",
              "\n",
              "    .dataframe tbody tr th {\n",
              "        vertical-align: top;\n",
              "    }\n",
              "\n",
              "    .dataframe thead th {\n",
              "        text-align: right;\n",
              "    }\n",
              "</style>\n",
              "<table border=\"1\" class=\"dataframe\">\n",
              "  <thead>\n",
              "    <tr style=\"text-align: right;\">\n",
              "      <th></th>\n",
              "      <th>audioVersionDurationSec</th>\n",
              "      <th>codeBlock</th>\n",
              "      <th>codeBlockCount</th>\n",
              "      <th>collectionId</th>\n",
              "      <th>createdDate</th>\n",
              "      <th>createdDatetime</th>\n",
              "      <th>firstPublishedDate</th>\n",
              "      <th>firstPublishedDatetime</th>\n",
              "      <th>imageCount</th>\n",
              "      <th>isSubscriptionLocked</th>\n",
              "      <th>language</th>\n",
              "      <th>latestPublishedDate</th>\n",
              "      <th>latestPublishedDatetime</th>\n",
              "      <th>linksCount</th>\n",
              "      <th>postId</th>\n",
              "      <th>readingTime</th>\n",
              "      <th>recommends</th>\n",
              "      <th>responsesCreatedCount</th>\n",
              "      <th>socialRecommendsCount</th>\n",
              "      <th>subTitle</th>\n",
              "      <th>tagsCount</th>\n",
              "      <th>text</th>\n",
              "      <th>title</th>\n",
              "      <th>totalClapCount</th>\n",
              "      <th>uniqueSlug</th>\n",
              "      <th>updatedDate</th>\n",
              "      <th>updatedDatetime</th>\n",
              "      <th>url</th>\n",
              "      <th>vote</th>\n",
              "      <th>wordCount</th>\n",
              "      <th>publicationdescription</th>\n",
              "      <th>publicationdomain</th>\n",
              "      <th>publicationfacebookPageName</th>\n",
              "      <th>publicationfollowerCount</th>\n",
              "      <th>publicationname</th>\n",
              "      <th>publicationpublicEmail</th>\n",
              "      <th>publicationslug</th>\n",
              "      <th>publicationtags</th>\n",
              "      <th>publicationtwitterUsername</th>\n",
              "      <th>tag_name</th>\n",
              "      <th>slug</th>\n",
              "      <th>name</th>\n",
              "      <th>postCount</th>\n",
              "      <th>author</th>\n",
              "      <th>bio</th>\n",
              "      <th>userId</th>\n",
              "      <th>userName</th>\n",
              "      <th>usersFollowedByCount</th>\n",
              "      <th>usersFollowedCount</th>\n",
              "      <th>scrappedDate</th>\n",
              "    </tr>\n",
              "  </thead>\n",
              "  <tbody>\n",
              "    <tr>\n",
              "      <th>0</th>\n",
              "      <td>0</td>\n",
              "      <td>NaN</td>\n",
              "      <td>0.0</td>\n",
              "      <td>638f418c8464</td>\n",
              "      <td>2018-09-18</td>\n",
              "      <td>2018-09-18 20:55:34</td>\n",
              "      <td>2018-09-18</td>\n",
              "      <td>2018-09-18 20:57:03</td>\n",
              "      <td>1</td>\n",
              "      <td>False</td>\n",
              "      <td>en</td>\n",
              "      <td>2018-09-18</td>\n",
              "      <td>2018-09-18 20:58:20</td>\n",
              "      <td>1</td>\n",
              "      <td>10007d3018fe</td>\n",
              "      <td>0.958491</td>\n",
              "      <td>2</td>\n",
              "      <td>0</td>\n",
              "      <td>0</td>\n",
              "      <td>A major private IT company implements blockcha...</td>\n",
              "      <td>5</td>\n",
              "      <td>Private Business, Government and Blockchain\\n\\...</td>\n",
              "      <td>Private Business, Government and Blockchain</td>\n",
              "      <td>100</td>\n",
              "      <td>private-business-government-and-blockchain-100...</td>\n",
              "      <td>2018-09-18</td>\n",
              "      <td>2018-09-18 20:58:20</td>\n",
              "      <td>https://medium.com/s/story/private-business-go...</td>\n",
              "      <td>False</td>\n",
              "      <td>201</td>\n",
              "      <td>ICOBox is the first and the biggest new genera...</td>\n",
              "      <td>NaN</td>\n",
              "      <td>icobox.io</td>\n",
              "      <td>NaN</td>\n",
              "      <td>ICOBox</td>\n",
              "      <td>support@icobox.io</td>\n",
              "      <td>icobox-io</td>\n",
              "      <td>BLOCKCHAIN,ICO,ETHEREUM,ETHEREUM BLOCKCHAIN,TO...</td>\n",
              "      <td>icobox_io</td>\n",
              "      <td>Blockchain</td>\n",
              "      <td>blockchain</td>\n",
              "      <td>Blockchain</td>\n",
              "      <td>265164.0</td>\n",
              "      <td>Anar Babaev</td>\n",
              "      <td>NaN</td>\n",
              "      <td>f1ad85af0169</td>\n",
              "      <td>babaevanar</td>\n",
              "      <td>450.0</td>\n",
              "      <td>404.0</td>\n",
              "      <td>20181104</td>\n",
              "    </tr>\n",
              "    <tr>\n",
              "      <th>1</th>\n",
              "      <td>0</td>\n",
              "      <td>NaN</td>\n",
              "      <td>0.0</td>\n",
              "      <td>638f418c8464</td>\n",
              "      <td>2018-09-18</td>\n",
              "      <td>2018-09-18 20:55:34</td>\n",
              "      <td>2018-09-18</td>\n",
              "      <td>2018-09-18 20:57:03</td>\n",
              "      <td>1</td>\n",
              "      <td>False</td>\n",
              "      <td>en</td>\n",
              "      <td>2018-09-18</td>\n",
              "      <td>2018-09-18 20:58:20</td>\n",
              "      <td>1</td>\n",
              "      <td>10007d3018fe</td>\n",
              "      <td>0.958491</td>\n",
              "      <td>2</td>\n",
              "      <td>0</td>\n",
              "      <td>0</td>\n",
              "      <td>A major private IT company implements blockcha...</td>\n",
              "      <td>5</td>\n",
              "      <td>Private Business, Government and Blockchain\\n\\...</td>\n",
              "      <td>Private Business, Government and Blockchain</td>\n",
              "      <td>100</td>\n",
              "      <td>private-business-government-and-blockchain-100...</td>\n",
              "      <td>2018-09-18</td>\n",
              "      <td>2018-09-18 20:58:20</td>\n",
              "      <td>https://medium.com/s/story/private-business-go...</td>\n",
              "      <td>False</td>\n",
              "      <td>201</td>\n",
              "      <td>ICOBox is the first and the biggest new genera...</td>\n",
              "      <td>NaN</td>\n",
              "      <td>icobox.io</td>\n",
              "      <td>NaN</td>\n",
              "      <td>ICOBox</td>\n",
              "      <td>support@icobox.io</td>\n",
              "      <td>icobox-io</td>\n",
              "      <td>BLOCKCHAIN,ICO,ETHEREUM,ETHEREUM BLOCKCHAIN,TO...</td>\n",
              "      <td>icobox_io</td>\n",
              "      <td>Samsung</td>\n",
              "      <td>samsung</td>\n",
              "      <td>Samsung</td>\n",
              "      <td>5708.0</td>\n",
              "      <td>Anar Babaev</td>\n",
              "      <td>NaN</td>\n",
              "      <td>f1ad85af0169</td>\n",
              "      <td>babaevanar</td>\n",
              "      <td>450.0</td>\n",
              "      <td>404.0</td>\n",
              "      <td>20181104</td>\n",
              "    </tr>\n",
              "    <tr>\n",
              "      <th>2</th>\n",
              "      <td>0</td>\n",
              "      <td>NaN</td>\n",
              "      <td>0.0</td>\n",
              "      <td>638f418c8464</td>\n",
              "      <td>2018-09-18</td>\n",
              "      <td>2018-09-18 20:55:34</td>\n",
              "      <td>2018-09-18</td>\n",
              "      <td>2018-09-18 20:57:03</td>\n",
              "      <td>1</td>\n",
              "      <td>False</td>\n",
              "      <td>en</td>\n",
              "      <td>2018-09-18</td>\n",
              "      <td>2018-09-18 20:58:20</td>\n",
              "      <td>1</td>\n",
              "      <td>10007d3018fe</td>\n",
              "      <td>0.958491</td>\n",
              "      <td>2</td>\n",
              "      <td>0</td>\n",
              "      <td>0</td>\n",
              "      <td>A major private IT company implements blockcha...</td>\n",
              "      <td>5</td>\n",
              "      <td>Private Business, Government and Blockchain\\n\\...</td>\n",
              "      <td>Private Business, Government and Blockchain</td>\n",
              "      <td>100</td>\n",
              "      <td>private-business-government-and-blockchain-100...</td>\n",
              "      <td>2018-09-18</td>\n",
              "      <td>2018-09-18 20:58:20</td>\n",
              "      <td>https://medium.com/s/story/private-business-go...</td>\n",
              "      <td>False</td>\n",
              "      <td>201</td>\n",
              "      <td>ICOBox is the first and the biggest new genera...</td>\n",
              "      <td>NaN</td>\n",
              "      <td>icobox.io</td>\n",
              "      <td>NaN</td>\n",
              "      <td>ICOBox</td>\n",
              "      <td>support@icobox.io</td>\n",
              "      <td>icobox-io</td>\n",
              "      <td>BLOCKCHAIN,ICO,ETHEREUM,ETHEREUM BLOCKCHAIN,TO...</td>\n",
              "      <td>icobox_io</td>\n",
              "      <td>It</td>\n",
              "      <td>it</td>\n",
              "      <td>It</td>\n",
              "      <td>3720.0</td>\n",
              "      <td>Anar Babaev</td>\n",
              "      <td>NaN</td>\n",
              "      <td>f1ad85af0169</td>\n",
              "      <td>babaevanar</td>\n",
              "      <td>450.0</td>\n",
              "      <td>404.0</td>\n",
              "      <td>20181104</td>\n",
              "    </tr>\n",
              "    <tr>\n",
              "      <th>3</th>\n",
              "      <td>0</td>\n",
              "      <td>NaN</td>\n",
              "      <td>0.0</td>\n",
              "      <td>NaN</td>\n",
              "      <td>2018-01-07</td>\n",
              "      <td>2018-01-07 17:04:37</td>\n",
              "      <td>2018-01-07</td>\n",
              "      <td>2018-01-07 17:06:29</td>\n",
              "      <td>13</td>\n",
              "      <td>False</td>\n",
              "      <td>en</td>\n",
              "      <td>2018-01-07</td>\n",
              "      <td>2018-01-07 17:18:38</td>\n",
              "      <td>24</td>\n",
              "      <td>1000c43bcb97</td>\n",
              "      <td>19.716981</td>\n",
              "      <td>0</td>\n",
              "      <td>0</td>\n",
              "      <td>0</td>\n",
              "      <td>Introduction</td>\n",
              "      <td>5</td>\n",
              "      <td>EPQ draft 1 (4844 words)\\nhttps://upload.wikim...</td>\n",
              "      <td>EPQ draft 1 (4844 words)</td>\n",
              "      <td>0</td>\n",
              "      <td>introduction-3-1000c43bcb97</td>\n",
              "      <td>2018-01-07</td>\n",
              "      <td>2018-01-07 17:18:39</td>\n",
              "      <td>https://medium.com/s/story/introduction-3-1000...</td>\n",
              "      <td>False</td>\n",
              "      <td>4854</td>\n",
              "      <td>NaN</td>\n",
              "      <td>NaN</td>\n",
              "      <td>NaN</td>\n",
              "      <td>NaN</td>\n",
              "      <td>NaN</td>\n",
              "      <td>NaN</td>\n",
              "      <td>NaN</td>\n",
              "      <td>NaN</td>\n",
              "      <td>NaN</td>\n",
              "      <td>Technology</td>\n",
              "      <td>technology</td>\n",
              "      <td>Technology</td>\n",
              "      <td>166125.0</td>\n",
              "      <td>George Sykes</td>\n",
              "      <td>NaN</td>\n",
              "      <td>93b9e94f08ca</td>\n",
              "      <td>tasty231</td>\n",
              "      <td>6.0</td>\n",
              "      <td>22.0</td>\n",
              "      <td>20181104</td>\n",
              "    </tr>\n",
              "    <tr>\n",
              "      <th>4</th>\n",
              "      <td>0</td>\n",
              "      <td>NaN</td>\n",
              "      <td>0.0</td>\n",
              "      <td>NaN</td>\n",
              "      <td>2018-01-07</td>\n",
              "      <td>2018-01-07 17:04:37</td>\n",
              "      <td>2018-01-07</td>\n",
              "      <td>2018-01-07 17:06:29</td>\n",
              "      <td>13</td>\n",
              "      <td>False</td>\n",
              "      <td>en</td>\n",
              "      <td>2018-01-07</td>\n",
              "      <td>2018-01-07 17:18:38</td>\n",
              "      <td>24</td>\n",
              "      <td>1000c43bcb97</td>\n",
              "      <td>19.716981</td>\n",
              "      <td>0</td>\n",
              "      <td>0</td>\n",
              "      <td>0</td>\n",
              "      <td>Introduction</td>\n",
              "      <td>5</td>\n",
              "      <td>EPQ draft 1 (4844 words)\\nhttps://upload.wikim...</td>\n",
              "      <td>EPQ draft 1 (4844 words)</td>\n",
              "      <td>0</td>\n",
              "      <td>introduction-3-1000c43bcb97</td>\n",
              "      <td>2018-01-07</td>\n",
              "      <td>2018-01-07 17:18:39</td>\n",
              "      <td>https://medium.com/s/story/introduction-3-1000...</td>\n",
              "      <td>False</td>\n",
              "      <td>4854</td>\n",
              "      <td>NaN</td>\n",
              "      <td>NaN</td>\n",
              "      <td>NaN</td>\n",
              "      <td>NaN</td>\n",
              "      <td>NaN</td>\n",
              "      <td>NaN</td>\n",
              "      <td>NaN</td>\n",
              "      <td>NaN</td>\n",
              "      <td>NaN</td>\n",
              "      <td>Robotics</td>\n",
              "      <td>robotics</td>\n",
              "      <td>Robotics</td>\n",
              "      <td>9103.0</td>\n",
              "      <td>George Sykes</td>\n",
              "      <td>NaN</td>\n",
              "      <td>93b9e94f08ca</td>\n",
              "      <td>tasty231</td>\n",
              "      <td>6.0</td>\n",
              "      <td>22.0</td>\n",
              "      <td>20181104</td>\n",
              "    </tr>\n",
              "  </tbody>\n",
              "</table>\n",
              "</div>"
            ],
            "text/plain": [
              "   audioVersionDurationSec codeBlock  ...  usersFollowedCount scrappedDate\n",
              "0                        0       NaN  ...               404.0     20181104\n",
              "1                        0       NaN  ...               404.0     20181104\n",
              "2                        0       NaN  ...               404.0     20181104\n",
              "3                        0       NaN  ...                22.0     20181104\n",
              "4                        0       NaN  ...                22.0     20181104\n",
              "\n",
              "[5 rows x 50 columns]"
            ]
          },
          "metadata": {
            "tags": []
          },
          "execution_count": 172
        }
      ]
    },
    {
      "cell_type": "code",
      "metadata": {
        "id": "N1H9pfAdn-6Q",
        "colab": {
          "base_uri": "https://localhost:8080/",
          "height": 167
        },
        "outputId": "a1f9a8b9-394a-4b61-e47b-d2ce610a4ca4"
      },
      "source": [
        "print(train[\"totalClapCount\"].describe())"
      ],
      "execution_count": null,
      "outputs": [
        {
          "output_type": "stream",
          "text": [
            "count    279577.000000\n",
            "mean        184.963473\n",
            "std        1985.353004\n",
            "min           0.000000\n",
            "25%           0.000000\n",
            "50%           8.000000\n",
            "75%          72.000000\n",
            "max      291706.000000\n",
            "Name: totalClapCount, dtype: float64\n"
          ],
          "name": "stdout"
        }
      ]
    },
    {
      "cell_type": "code",
      "metadata": {
        "id": "LcqNpIjxwX-1",
        "colab": {
          "base_uri": "https://localhost:8080/",
          "height": 486
        },
        "outputId": "b2d69729-b5dc-493e-c25a-086487f0708d"
      },
      "source": [
        "print(train[\"totalClapCount\"].describe())\n",
        "print(sns.boxplot(train[\"totalClapCount\"]))"
      ],
      "execution_count": null,
      "outputs": [
        {
          "output_type": "stream",
          "text": [
            "count    279577.000000\n",
            "mean        184.932983\n",
            "std        1985.685059\n",
            "min           0.000000\n",
            "25%           0.000000\n",
            "50%           8.000000\n",
            "75%          72.000000\n",
            "max      291706.000000\n",
            "Name: totalClapCount, dtype: float64\n",
            "AxesSubplot(0.125,0.125;0.775x0.755)\n"
          ],
          "name": "stdout"
        },
        {
          "output_type": "display_data",
          "data": {
            "image/png": "[encoded data removed]",
            "text/plain": [
              "<Figure size 1296x360 with 1 Axes>"
            ]
          },
          "metadata": {
            "tags": [],
            "needs_background": "light"
          }
        }
      ]
    },
    {
      "cell_type": "markdown",
      "metadata": {
        "id": "7ZqgtUNuMd_C"
      },
      "source": [
        "##Data Preparation and Cleaning"
      ]
    },
    {
      "cell_type": "markdown",
      "metadata": {
        "id": "JIiW39cHqiAy"
      },
      "source": [
        "###Transformation"
      ]
    },
    {
      "cell_type": "markdown",
      "metadata": {
        "id": "-kbRYXwDqmdn"
      },
      "source": [
        "All data types will be transformed to more reasonable dtype with less memory consumption and for better and more convenient processing the further analysis."
      ]
    },
    {
      "cell_type": "code",
      "metadata": {
        "id": "y-ELLF1SpnzV",
        "colab": {
          "base_uri": "https://localhost:8080/",
          "height": 886
        },
        "outputId": "c8db5023-671e-4495-afe5-0bd93c07d71b"
      },
      "source": [
        "#transform all int64 and float64 to float32\n",
        "num_vars = train.select_dtypes(include=[np.float64, np.int64 ]).columns\n",
        "train[num_vars] = train[num_vars].astype(np.float32)\n",
        "\n",
        "#transform all objects to categories\n",
        "object_vars = train.select_dtypes(exclude=np.float32).columns\n",
        "train[object_vars] = train[object_vars].astype(\"category\")\n",
        "\n",
        "train.info() #80.3 MB"
      ],
      "execution_count": null,
      "outputs": [
        {
          "output_type": "stream",
          "text": [
            "<class 'pandas.core.frame.DataFrame'>\n",
            "RangeIndex: 279577 entries, 0 to 279576\n",
            "Data columns (total 45 columns):\n",
            " #   Column                       Non-Null Count   Dtype   \n",
            "---  ------                       --------------   -----   \n",
            " 0   audioVersionDurationSec      279577 non-null  float32 \n",
            " 1   codeBlock                    25179 non-null   category\n",
            " 2   codeBlockCount               279577 non-null  float32 \n",
            " 3   collectionId                 137878 non-null  category\n",
            " 4   createdDate                  279577 non-null  category\n",
            " 5   createdDatetime              279577 non-null  category\n",
            " 6   firstPublishedDate           279577 non-null  category\n",
            " 7   firstPublishedDatetime       279577 non-null  category\n",
            " 8   imageCount                   279577 non-null  float32 \n",
            " 9   isSubscriptionLocked         279577 non-null  category\n",
            " 10  language                     279577 non-null  category\n",
            " 11  latestPublishedDate          279577 non-null  category\n",
            " 12  latestPublishedDatetime      279577 non-null  category\n",
            " 13  linksCount                   279577 non-null  float32 \n",
            " 14  postId                       279577 non-null  category\n",
            " 15  readingTime                  279577 non-null  float32 \n",
            " 16  recommends                   279577 non-null  float32 \n",
            " 17  responsesCreatedCount        279577 non-null  float32 \n",
            " 18  socialRecommendsCount        279577 non-null  float32 \n",
            " 19  subTitle                     271217 non-null  category\n",
            " 20  tagsCount                    279577 non-null  float32 \n",
            " 21  text                         279577 non-null  category\n",
            " 22  title                        279572 non-null  category\n",
            " 23  totalClapCount               279577 non-null  float32 \n",
            " 24  uniqueSlug                   279577 non-null  category\n",
            " 25  updatedDate                  279577 non-null  category\n",
            " 26  updatedDatetime              279577 non-null  category\n",
            " 27  url                          279577 non-null  category\n",
            " 28  vote                         279577 non-null  category\n",
            " 29  wordCount                    279577 non-null  float32 \n",
            " 30  publicationdescription       137231 non-null  category\n",
            " 31  publicationdomain            53972 non-null   category\n",
            " 32  publicationfacebookPageName  100874 non-null  category\n",
            " 33  publicationname              137231 non-null  category\n",
            " 34  publicationpublicEmail       101982 non-null  category\n",
            " 35  publicationslug              137231 non-null  category\n",
            " 36  publicationtags              130298 non-null  category\n",
            " 37  publicationtwitterUsername   119851 non-null  category\n",
            " 38  author                       279577 non-null  category\n",
            " 39  bio                          225480 non-null  category\n",
            " 40  userId                       279577 non-null  category\n",
            " 41  userName                     279577 non-null  category\n",
            " 42  usersFollowedByCount         279577 non-null  float32 \n",
            " 43  usersFollowedCount           279577 non-null  float32 \n",
            " 44  scrappedDate                 279577 non-null  float32 \n",
            "dtypes: category(31), float32(14)\n",
            "memory usage: 74.3 MB\n"
          ],
          "name": "stdout"
        }
      ]
    },
    {
      "cell_type": "markdown",
      "metadata": {
        "id": "d1NTUGE5GwxY"
      },
      "source": [
        "###Missing Values"
      ]
    },
    {
      "cell_type": "markdown",
      "metadata": {
        "id": "kKe1wdch-FIc"
      },
      "source": [
        "The plot below shows that the data set does not contain many variables with missing data but if they have missing entries than mostly a lot. 10 of 13 of the variable with missing variables have more than 50% NAs. The highest number of missing values -- besides the variable publication follower count with 100% NAs -- is 254398 (approx. 91 %). The corresponding variable is called codeBlock. In contrast, the variable title has the lowest number of missing values with 5 (approx. 0.002 %) missing entries. <br>\n",
        "\n",
        "Since all missing values miss textual data it is not possible to replace them with numbers such as median, mode or mean. For textual variables the three possibilities are at hand: attempt to scrap the missing data (not allowed for this assignment), replacing them manually or to dummy code them as \"available - yes, no (or unknown)\". The second approach is only feasible with a low number of missing variables such as title in our case. Also the information has to be available in general. The last approach suits variables such as social media account. They might not be missing entries but rather non-existent.<br>\n",
        "\n",
        "Spoiler: Out of all variables with missing data only the variable text will be used. The missing value will be imputed by hand.\n",
        "\n"
      ]
    },
    {
      "cell_type": "code",
      "metadata": {
        "id": "oITBs4M5yZ3B",
        "colab": {
          "base_uri": "https://localhost:8080/",
          "height": 430
        },
        "outputId": "4f3c7e2f-278f-4cf7-8049-2911ac4f9946"
      },
      "source": [
        "#visualisation of missing values\n",
        "\n",
        "sns.heatmap(train.isnull(), cbar = False); #\";\" gets rid of the message \"<matplotlib.axes._subplots.AxesSubplot at 0x7fe969b4bcf8>\""
      ],
      "execution_count": null,
      "outputs": [
        {
          "output_type": "display_data",
          "data": {
            "image/png": "[encoded data removed]",
            "text/plain": [
              "<Figure size 1296x360 with 1 Axes>"
            ]
          },
          "metadata": {
            "tags": [],
            "needs_background": "light"
          }
        }
      ]
    },
    {
      "cell_type": "code",
      "metadata": {
        "id": "hdXPsaV-5H5k",
        "colab": {
          "base_uri": "https://localhost:8080/",
          "height": 251
        },
        "outputId": "8afae12e-ef93-4de7-d6e7-020bd66dabc1"
      },
      "source": [
        "for z in train:\n",
        "  if train.loc[:,z].isnull().sum() > 0:\n",
        "    print('Missing values of {}: {} ({:.3f}%)'.format(z, train.loc[:,z].isnull().sum(), 100*train.loc[:,z].isnull().sum()/train.shape[0]))\n",
        "    #print(z, train.loc[:,z].isnull().sum())  "
      ],
      "execution_count": null,
      "outputs": [
        {
          "output_type": "stream",
          "text": [
            "Missing values of codeBlock: 254398 (90.994%)\n",
            "Missing values of collectionId: 141699 (50.683%)\n",
            "Missing values of subTitle: 8360 (2.990%)\n",
            "Missing values of title: 5 (0.002%)\n",
            "Missing values of publicationdescription: 142346 (50.915%)\n",
            "Missing values of publicationdomain: 225605 (80.695%)\n",
            "Missing values of publicationfacebookPageName: 178703 (63.919%)\n",
            "Missing values of publicationfollowerCount: 279577 (100.000%)\n",
            "Missing values of publicationname: 142346 (50.915%)\n",
            "Missing values of publicationpublicEmail: 177595 (63.523%)\n",
            "Missing values of publicationslug: 142346 (50.915%)\n",
            "Missing values of publicationtags: 149279 (53.395%)\n",
            "Missing values of publicationtwitterUsername: 159726 (57.131%)\n",
            "Missing values of bio: 54097 (19.350%)\n"
          ],
          "name": "stdout"
        }
      ]
    },
    {
      "cell_type": "markdown",
      "metadata": {
        "id": "Tm_Z9DvP4B4T"
      },
      "source": [
        "###Removing Duplicates"
      ]
    },
    {
      "cell_type": "markdown",
      "metadata": {
        "id": "jcPFheu0G4r2"
      },
      "source": [
        "As shown in the table below no variable has more than 72.337 unique items. Not even variables like postID, uniqueSlug or url which are unique by nature. This proves that the training data set contains some duplicates that have to be removed. The challenge is that the rows are not fully equal because they contain different keywords (see variables tag_name, slug and name) with corresponding postCounts. Especially the keywords provide valuable information since they sum up the main content of a text. In order to prevent the train set from loosing them, the keywords are merged and the postCounts are summed up. Afterwards, the duplicate rows are removed."
      ]
    },
    {
      "cell_type": "code",
      "metadata": {
        "id": "BSDrAsZzBedq",
        "colab": {
          "base_uri": "https://localhost:8080/",
          "height": 870
        },
        "outputId": "7ef2c7b1-b701-4dbb-c551-1e6f298ca03a"
      },
      "source": [
        "#unique value per col\n",
        "train.astype('object').describe(include='all').loc['unique', :]"
      ],
      "execution_count": null,
      "outputs": [
        {
          "output_type": "execute_result",
          "data": {
            "text/plain": [
              "audioVersionDurationSec           51\n",
              "codeBlock                       6230\n",
              "codeBlockCount                   129\n",
              "collectionId                    6527\n",
              "createdDate                      741\n",
              "createdDatetime                72209\n",
              "firstPublishedDate               610\n",
              "firstPublishedDatetime         71406\n",
              "imageCount                        89\n",
              "isSubscriptionLocked               2\n",
              "language                          52\n",
              "latestPublishedDate              577\n",
              "latestPublishedDatetime        72158\n",
              "linksCount                       162\n",
              "postId                         72337\n",
              "readingTime                    16433\n",
              "recommends                       887\n",
              "responsesCreatedCount            139\n",
              "socialRecommendsCount              4\n",
              "subTitle                       65673\n",
              "tagsCount                          6\n",
              "text                           72024\n",
              "title                          70275\n",
              "totalClapCount                  2321\n",
              "uniqueSlug                     72337\n",
              "updatedDate                      431\n",
              "updatedDatetime                71827\n",
              "url                            72337\n",
              "vote                               2\n",
              "wordCount                       4193\n",
              "publicationdescription          6506\n",
              "publicationdomain               1062\n",
              "publicationfacebookPageName     3836\n",
              "publicationfollowerCount           0\n",
              "publicationname                 6507\n",
              "publicationpublicEmail          5035\n",
              "publicationslug                 6512\n",
              "publicationtags                 5697\n",
              "publicationtwitterUsername      4861\n",
              "tag_name                       19278\n",
              "slug                           19278\n",
              "name                           19278\n",
              "postCount                       2945\n",
              "author                         31021\n",
              "bio                            22352\n",
              "userId                         31317\n",
              "userName                       31317\n",
              "usersFollowedByCount            2569\n",
              "usersFollowedCount              1584\n",
              "scrappedDate                       1\n",
              "Name: unique, dtype: object"
            ]
          },
          "metadata": {
            "tags": []
          },
          "execution_count": 260
        }
      ]
    },
    {
      "cell_type": "code",
      "metadata": {
        "id": "rOD5YRamVw-e",
        "colab": {
          "base_uri": "https://localhost:8080/",
          "height": 213
        },
        "outputId": "e7d6f05c-60a4-4040-da7f-468b9c0c77c3"
      },
      "source": [
        "#sum up postCounts (pC) per article before removing duplicates of train data set; otherwise, information gets lost\n",
        "pC = train.groupby([\"postId\"])[\"postCount\"].apply(sum).reset_index()\n",
        "#validation check: the difference between train.postCounts and pC.postCount should be 0\n",
        "print(pC.postCount.sum()-train.postCount.sum())\n",
        "pC.head()"
      ],
      "execution_count": null,
      "outputs": [
        {
          "output_type": "stream",
          "text": [
            "762.0\n"
          ],
          "name": "stdout"
        },
        {
          "output_type": "execute_result",
          "data": {
            "text/html": [
              "<div>\n",
              "<style scoped>\n",
              "    .dataframe tbody tr th:only-of-type {\n",
              "        vertical-align: middle;\n",
              "    }\n",
              "\n",
              "    .dataframe tbody tr th {\n",
              "        vertical-align: top;\n",
              "    }\n",
              "\n",
              "    .dataframe thead th {\n",
              "        text-align: right;\n",
              "    }\n",
              "</style>\n",
              "<table border=\"1\" class=\"dataframe\">\n",
              "  <thead>\n",
              "    <tr style=\"text-align: right;\">\n",
              "      <th></th>\n",
              "      <th>postId</th>\n",
              "      <th>postCount</th>\n",
              "    </tr>\n",
              "  </thead>\n",
              "  <tbody>\n",
              "    <tr>\n",
              "      <th>0</th>\n",
              "      <td>10007d3018fe</td>\n",
              "      <td>274592.0</td>\n",
              "    </tr>\n",
              "    <tr>\n",
              "      <th>1</th>\n",
              "      <td>1000b3d0d2</td>\n",
              "      <td>475794.0</td>\n",
              "    </tr>\n",
              "    <tr>\n",
              "      <th>2</th>\n",
              "      <td>1000c43bcb97</td>\n",
              "      <td>184243.0</td>\n",
              "    </tr>\n",
              "    <tr>\n",
              "      <th>3</th>\n",
              "      <td>100139913e4c</td>\n",
              "      <td>33657.0</td>\n",
              "    </tr>\n",
              "    <tr>\n",
              "      <th>4</th>\n",
              "      <td>1002a55eca89</td>\n",
              "      <td>108641.0</td>\n",
              "    </tr>\n",
              "  </tbody>\n",
              "</table>\n",
              "</div>"
            ],
            "text/plain": [
              "         postId  postCount\n",
              "0  10007d3018fe   274592.0\n",
              "1    1000b3d0d2   475794.0\n",
              "2  1000c43bcb97   184243.0\n",
              "3  100139913e4c    33657.0\n",
              "4  1002a55eca89   108641.0"
            ]
          },
          "metadata": {
            "tags": []
          },
          "execution_count": 261
        }
      ]
    },
    {
      "cell_type": "code",
      "metadata": {
        "id": "JFm-_01PNDGm",
        "colab": {
          "base_uri": "https://localhost:8080/",
          "height": 196
        },
        "outputId": "bf0b2591-c4ee-4284-e78a-ecbacd7d6a57"
      },
      "source": [
        "#merging different names \"tags\" (equal to slug and tag_name) seperated by comma before removing the duplicate entries from data set\n",
        "tags = train.groupby([\"postId\"])[\"name\"].apply(', '.join).reset_index()\n",
        "tags.head()"
      ],
      "execution_count": null,
      "outputs": [
        {
          "output_type": "execute_result",
          "data": {
            "text/html": [
              "<div>\n",
              "<style scoped>\n",
              "    .dataframe tbody tr th:only-of-type {\n",
              "        vertical-align: middle;\n",
              "    }\n",
              "\n",
              "    .dataframe tbody tr th {\n",
              "        vertical-align: top;\n",
              "    }\n",
              "\n",
              "    .dataframe thead th {\n",
              "        text-align: right;\n",
              "    }\n",
              "</style>\n",
              "<table border=\"1\" class=\"dataframe\">\n",
              "  <thead>\n",
              "    <tr style=\"text-align: right;\">\n",
              "      <th></th>\n",
              "      <th>postId</th>\n",
              "      <th>name</th>\n",
              "    </tr>\n",
              "  </thead>\n",
              "  <tbody>\n",
              "    <tr>\n",
              "      <th>0</th>\n",
              "      <td>10007d3018fe</td>\n",
              "      <td>Blockchain, Samsung, It</td>\n",
              "    </tr>\n",
              "    <tr>\n",
              "      <th>1</th>\n",
              "      <td>1000b3d0d2</td>\n",
              "      <td>Blockchain, Machine Learning, Synapse, Cryptoc...</td>\n",
              "    </tr>\n",
              "    <tr>\n",
              "      <th>2</th>\n",
              "      <td>1000c43bcb97</td>\n",
              "      <td>Technology, Robotics, Automation, Epq</td>\n",
              "    </tr>\n",
              "    <tr>\n",
              "      <th>3</th>\n",
              "      <td>100139913e4c</td>\n",
              "      <td>Data Science, Sas Training In Pune, Hadoop Tra...</td>\n",
              "    </tr>\n",
              "    <tr>\n",
              "      <th>4</th>\n",
              "      <td>1002a55eca89</td>\n",
              "      <td>Robotics, Meditation, Therapy, Artificial Inte...</td>\n",
              "    </tr>\n",
              "  </tbody>\n",
              "</table>\n",
              "</div>"
            ],
            "text/plain": [
              "         postId                                               name\n",
              "0  10007d3018fe                            Blockchain, Samsung, It\n",
              "1    1000b3d0d2  Blockchain, Machine Learning, Synapse, Cryptoc...\n",
              "2  1000c43bcb97              Technology, Robotics, Automation, Epq\n",
              "3  100139913e4c  Data Science, Sas Training In Pune, Hadoop Tra...\n",
              "4  1002a55eca89  Robotics, Meditation, Therapy, Artificial Inte..."
            ]
          },
          "metadata": {
            "tags": []
          },
          "execution_count": 262
        }
      ]
    },
    {
      "cell_type": "code",
      "metadata": {
        "id": "iBmV_Ox8dSu7"
      },
      "source": [
        "#deleted columns that have already been processed or that are constants\n",
        "\n",
        "#already used\n",
        "del train[\"tag_name\"]\n",
        "del train[\"slug\"]\n",
        "del train[\"name\"] \n",
        "del train[\"postCount\"]\n",
        "\n",
        "#variable is always null\n",
        "del train[\"publicationfollowerCount\"] \n"
      ],
      "execution_count": null,
      "outputs": []
    },
    {
      "cell_type": "code",
      "metadata": {
        "id": "gF-TFfVGSIem",
        "colab": {
          "base_uri": "https://localhost:8080/",
          "height": 584
        },
        "outputId": "c46565f4-2925-4677-b5d0-2288a1b494ed"
      },
      "source": [
        "#merge all\n",
        "train_new = pd.merge(pC, train, on='postId', how='left')\n",
        "train_new = pd.merge(train_new, tags, on='postId', how='left').drop_duplicates()\n",
        "train_new.head()"
      ],
      "execution_count": null,
      "outputs": [
        {
          "output_type": "execute_result",
          "data": {
            "text/html": [
              "<div>\n",
              "<style scoped>\n",
              "    .dataframe tbody tr th:only-of-type {\n",
              "        vertical-align: middle;\n",
              "    }\n",
              "\n",
              "    .dataframe tbody tr th {\n",
              "        vertical-align: top;\n",
              "    }\n",
              "\n",
              "    .dataframe thead th {\n",
              "        text-align: right;\n",
              "    }\n",
              "</style>\n",
              "<table border=\"1\" class=\"dataframe\">\n",
              "  <thead>\n",
              "    <tr style=\"text-align: right;\">\n",
              "      <th></th>\n",
              "      <th>postId</th>\n",
              "      <th>postCount</th>\n",
              "      <th>audioVersionDurationSec</th>\n",
              "      <th>codeBlock</th>\n",
              "      <th>codeBlockCount</th>\n",
              "      <th>collectionId</th>\n",
              "      <th>createdDate</th>\n",
              "      <th>createdDatetime</th>\n",
              "      <th>firstPublishedDate</th>\n",
              "      <th>firstPublishedDatetime</th>\n",
              "      <th>imageCount</th>\n",
              "      <th>isSubscriptionLocked</th>\n",
              "      <th>language</th>\n",
              "      <th>latestPublishedDate</th>\n",
              "      <th>latestPublishedDatetime</th>\n",
              "      <th>linksCount</th>\n",
              "      <th>readingTime</th>\n",
              "      <th>recommends</th>\n",
              "      <th>responsesCreatedCount</th>\n",
              "      <th>socialRecommendsCount</th>\n",
              "      <th>subTitle</th>\n",
              "      <th>tagsCount</th>\n",
              "      <th>text</th>\n",
              "      <th>title</th>\n",
              "      <th>totalClapCount</th>\n",
              "      <th>uniqueSlug</th>\n",
              "      <th>updatedDate</th>\n",
              "      <th>updatedDatetime</th>\n",
              "      <th>url</th>\n",
              "      <th>vote</th>\n",
              "      <th>wordCount</th>\n",
              "      <th>publicationdescription</th>\n",
              "      <th>publicationdomain</th>\n",
              "      <th>publicationfacebookPageName</th>\n",
              "      <th>publicationname</th>\n",
              "      <th>publicationpublicEmail</th>\n",
              "      <th>publicationslug</th>\n",
              "      <th>publicationtags</th>\n",
              "      <th>publicationtwitterUsername</th>\n",
              "      <th>author</th>\n",
              "      <th>bio</th>\n",
              "      <th>userId</th>\n",
              "      <th>userName</th>\n",
              "      <th>usersFollowedByCount</th>\n",
              "      <th>usersFollowedCount</th>\n",
              "      <th>scrappedDate</th>\n",
              "      <th>name</th>\n",
              "    </tr>\n",
              "  </thead>\n",
              "  <tbody>\n",
              "    <tr>\n",
              "      <th>0</th>\n",
              "      <td>10007d3018fe</td>\n",
              "      <td>274592.0</td>\n",
              "      <td>0.0</td>\n",
              "      <td>NaN</td>\n",
              "      <td>0.0</td>\n",
              "      <td>638f418c8464</td>\n",
              "      <td>2018-09-18</td>\n",
              "      <td>2018-09-18 20:55:34</td>\n",
              "      <td>2018-09-18</td>\n",
              "      <td>2018-09-18 20:57:03</td>\n",
              "      <td>1.0</td>\n",
              "      <td>False</td>\n",
              "      <td>en</td>\n",
              "      <td>2018-09-18</td>\n",
              "      <td>2018-09-18 20:58:20</td>\n",
              "      <td>1.0</td>\n",
              "      <td>0.958491</td>\n",
              "      <td>2.0</td>\n",
              "      <td>0.0</td>\n",
              "      <td>0.0</td>\n",
              "      <td>A major private IT company implements blockcha...</td>\n",
              "      <td>5.0</td>\n",
              "      <td>Private Business, Government and Blockchain\\n\\...</td>\n",
              "      <td>Private Business, Government and Blockchain</td>\n",
              "      <td>100.0</td>\n",
              "      <td>private-business-government-and-blockchain-100...</td>\n",
              "      <td>2018-09-18</td>\n",
              "      <td>2018-09-18 20:58:20</td>\n",
              "      <td>https://medium.com/s/story/private-business-go...</td>\n",
              "      <td>False</td>\n",
              "      <td>201.0</td>\n",
              "      <td>ICOBox is the first and the biggest new genera...</td>\n",
              "      <td>NaN</td>\n",
              "      <td>icobox.io</td>\n",
              "      <td>ICOBox</td>\n",
              "      <td>support@icobox.io</td>\n",
              "      <td>icobox-io</td>\n",
              "      <td>BLOCKCHAIN,ICO,ETHEREUM,ETHEREUM BLOCKCHAIN,TO...</td>\n",
              "      <td>icobox_io</td>\n",
              "      <td>Anar Babaev</td>\n",
              "      <td>NaN</td>\n",
              "      <td>f1ad85af0169</td>\n",
              "      <td>babaevanar</td>\n",
              "      <td>450.0</td>\n",
              "      <td>404.0</td>\n",
              "      <td>20181104.0</td>\n",
              "      <td>Blockchain, Samsung, It</td>\n",
              "    </tr>\n",
              "    <tr>\n",
              "      <th>3</th>\n",
              "      <td>1000b3d0d2</td>\n",
              "      <td>475794.0</td>\n",
              "      <td>0.0</td>\n",
              "      <td>NaN</td>\n",
              "      <td>0.0</td>\n",
              "      <td>ff54a0aaacd7</td>\n",
              "      <td>2017-12-06</td>\n",
              "      <td>2017-12-06 22:23:06</td>\n",
              "      <td>2018-02-24</td>\n",
              "      <td>2018-02-24 19:36:01</td>\n",
              "      <td>2.0</td>\n",
              "      <td>False</td>\n",
              "      <td>en</td>\n",
              "      <td>2018-03-01</td>\n",
              "      <td>2018-03-01 07:44:04</td>\n",
              "      <td>7.0</td>\n",
              "      <td>18.387108</td>\n",
              "      <td>8.0</td>\n",
              "      <td>0.0</td>\n",
              "      <td>0.0</td>\n",
              "      <td>Synapse CEO Dan Gailey is interviewed by Gabe ...</td>\n",
              "      <td>4.0</td>\n",
              "      <td>Democratizing Artificial intelligence by Democ...</td>\n",
              "      <td>Democratizing Artificial intelligence by Democ...</td>\n",
              "      <td>205.0</td>\n",
              "      <td>democratizing-artificial-intelligence-by-democ...</td>\n",
              "      <td>2018-03-27</td>\n",
              "      <td>2018-03-27 20:09:42</td>\n",
              "      <td>https://blog.synapse.ai/democratizing-artifici...</td>\n",
              "      <td>False</td>\n",
              "      <td>4771.0</td>\n",
              "      <td>The Official Synapse Blog</td>\n",
              "      <td>blog.synapse.ai</td>\n",
              "      <td>syntoken</td>\n",
              "      <td>Synapse AI</td>\n",
              "      <td>hello@synapse.ai</td>\n",
              "      <td>synapseai</td>\n",
              "      <td>ETHEREUM,BLOCKCHAIN,ICO,AI,CRYPTOCURRENCY</td>\n",
              "      <td>aisynapse</td>\n",
              "      <td>Dan Gailey</td>\n",
              "      <td>NaN</td>\n",
              "      <td>112dfc533722</td>\n",
              "      <td>dangailey</td>\n",
              "      <td>913.0</td>\n",
              "      <td>508.0</td>\n",
              "      <td>20181104.0</td>\n",
              "      <td>Blockchain, Machine Learning, Synapse, Cryptoc...</td>\n",
              "    </tr>\n",
              "    <tr>\n",
              "      <th>7</th>\n",
              "      <td>1000c43bcb97</td>\n",
              "      <td>184243.0</td>\n",
              "      <td>0.0</td>\n",
              "      <td>NaN</td>\n",
              "      <td>0.0</td>\n",
              "      <td>NaN</td>\n",
              "      <td>2018-01-07</td>\n",
              "      <td>2018-01-07 17:04:37</td>\n",
              "      <td>2018-01-07</td>\n",
              "      <td>2018-01-07 17:06:29</td>\n",
              "      <td>13.0</td>\n",
              "      <td>False</td>\n",
              "      <td>en</td>\n",
              "      <td>2018-01-07</td>\n",
              "      <td>2018-01-07 17:18:38</td>\n",
              "      <td>24.0</td>\n",
              "      <td>19.716982</td>\n",
              "      <td>0.0</td>\n",
              "      <td>0.0</td>\n",
              "      <td>0.0</td>\n",
              "      <td>Introduction</td>\n",
              "      <td>5.0</td>\n",
              "      <td>EPQ draft 1 (4844 words)\\nhttps://upload.wikim...</td>\n",
              "      <td>EPQ draft 1 (4844 words)</td>\n",
              "      <td>0.0</td>\n",
              "      <td>introduction-3-1000c43bcb97</td>\n",
              "      <td>2018-01-07</td>\n",
              "      <td>2018-01-07 17:18:39</td>\n",
              "      <td>https://medium.com/s/story/introduction-3-1000...</td>\n",
              "      <td>False</td>\n",
              "      <td>4854.0</td>\n",
              "      <td>NaN</td>\n",
              "      <td>NaN</td>\n",
              "      <td>NaN</td>\n",
              "      <td>NaN</td>\n",
              "      <td>NaN</td>\n",
              "      <td>NaN</td>\n",
              "      <td>NaN</td>\n",
              "      <td>NaN</td>\n",
              "      <td>George Sykes</td>\n",
              "      <td>NaN</td>\n",
              "      <td>93b9e94f08ca</td>\n",
              "      <td>tasty231</td>\n",
              "      <td>6.0</td>\n",
              "      <td>22.0</td>\n",
              "      <td>20181104.0</td>\n",
              "      <td>Technology, Robotics, Automation, Epq</td>\n",
              "    </tr>\n",
              "    <tr>\n",
              "      <th>11</th>\n",
              "      <td>100139913e4c</td>\n",
              "      <td>33657.0</td>\n",
              "      <td>0.0</td>\n",
              "      <td>NaN</td>\n",
              "      <td>0.0</td>\n",
              "      <td>NaN</td>\n",
              "      <td>2018-03-08</td>\n",
              "      <td>2018-03-08 07:04:31</td>\n",
              "      <td>2018-03-08</td>\n",
              "      <td>2018-03-08 07:07:42</td>\n",
              "      <td>1.0</td>\n",
              "      <td>False</td>\n",
              "      <td>en</td>\n",
              "      <td>2018-03-08</td>\n",
              "      <td>2018-03-08 07:07:42</td>\n",
              "      <td>3.0</td>\n",
              "      <td>2.211321</td>\n",
              "      <td>0.0</td>\n",
              "      <td>0.0</td>\n",
              "      <td>0.0</td>\n",
              "      <td>Various associations in the present days are o...</td>\n",
              "      <td>4.0</td>\n",
              "      <td>Ascent of data Science, SAS and Big data Analy...</td>\n",
              "      <td>Ascent of data Science, SAS and Big data Analy...</td>\n",
              "      <td>0.0</td>\n",
              "      <td>ascent-of-data-science-sas-and-big-data-analys...</td>\n",
              "      <td>2018-03-08</td>\n",
              "      <td>2018-03-08 07:07:42</td>\n",
              "      <td>https://medium.com/s/story/ascent-of-data-scie...</td>\n",
              "      <td>False</td>\n",
              "      <td>533.0</td>\n",
              "      <td>NaN</td>\n",
              "      <td>NaN</td>\n",
              "      <td>NaN</td>\n",
              "      <td>NaN</td>\n",
              "      <td>NaN</td>\n",
              "      <td>NaN</td>\n",
              "      <td>NaN</td>\n",
              "      <td>NaN</td>\n",
              "      <td>tech data</td>\n",
              "      <td>Tech data Providing Courses Like SaS Training ...</td>\n",
              "      <td>60a3bfd83742</td>\n",
              "      <td>techdatasolutions18</td>\n",
              "      <td>4.0</td>\n",
              "      <td>1.0</td>\n",
              "      <td>20181104.0</td>\n",
              "      <td>Data Science, Sas Training In Pune, Hadoop Tra...</td>\n",
              "    </tr>\n",
              "    <tr>\n",
              "      <th>15</th>\n",
              "      <td>1002a55eca89</td>\n",
              "      <td>108641.0</td>\n",
              "      <td>0.0</td>\n",
              "      <td>NaN</td>\n",
              "      <td>0.0</td>\n",
              "      <td>a8fc5dd0676e</td>\n",
              "      <td>2018-04-16</td>\n",
              "      <td>2018-04-16 22:49:09</td>\n",
              "      <td>2018-04-16</td>\n",
              "      <td>2018-04-16 22:58:07</td>\n",
              "      <td>0.0</td>\n",
              "      <td>False</td>\n",
              "      <td>en</td>\n",
              "      <td>2018-04-16</td>\n",
              "      <td>2018-04-16 22:58:07</td>\n",
              "      <td>2.0</td>\n",
              "      <td>0.652830</td>\n",
              "      <td>1.0</td>\n",
              "      <td>0.0</td>\n",
              "      <td>0.0</td>\n",
              "      <td>I discussed this with Michelle Tsng on my Podc...</td>\n",
              "      <td>5.0</td>\n",
              "      <td>Can a robot love us better than another human ...</td>\n",
              "      <td>Can a robot love us better than another human ...</td>\n",
              "      <td>50.0</td>\n",
              "      <td>can-a-robot-love-us-better-than-another-human-...</td>\n",
              "      <td>2018-04-20</td>\n",
              "      <td>2018-04-20 00:47:51</td>\n",
              "      <td>https://medium.com/s/story/can-a-robot-love-us...</td>\n",
              "      <td>False</td>\n",
              "      <td>173.0</td>\n",
              "      <td>Non-obvious meditation advice from people on t...</td>\n",
              "      <td>NaN</td>\n",
              "      <td>yogastew</td>\n",
              "      <td>Crazy Wisdom</td>\n",
              "      <td>salsop@yogastew.org</td>\n",
              "      <td>crazy-wisdom</td>\n",
              "      <td>MEDITATION,MINDFULNESS,YOGA,CREATIVITY,BUSINESS</td>\n",
              "      <td>stewartalsopIII</td>\n",
              "      <td>Stewart Alsop</td>\n",
              "      <td>NaN</td>\n",
              "      <td>d0481dc55f0e</td>\n",
              "      <td>stewartalsop</td>\n",
              "      <td>512.0</td>\n",
              "      <td>531.0</td>\n",
              "      <td>20181104.0</td>\n",
              "      <td>Robotics, Meditation, Therapy, Artificial Inte...</td>\n",
              "    </tr>\n",
              "  </tbody>\n",
              "</table>\n",
              "</div>"
            ],
            "text/plain": [
              "          postId  ...                                               name\n",
              "0   10007d3018fe  ...                            Blockchain, Samsung, It\n",
              "3     1000b3d0d2  ...  Blockchain, Machine Learning, Synapse, Cryptoc...\n",
              "7   1000c43bcb97  ...              Technology, Robotics, Automation, Epq\n",
              "11  100139913e4c  ...  Data Science, Sas Training In Pune, Hadoop Tra...\n",
              "15  1002a55eca89  ...  Robotics, Meditation, Therapy, Artificial Inte...\n",
              "\n",
              "[5 rows x 47 columns]"
            ]
          },
          "metadata": {
            "tags": []
          },
          "execution_count": 264
        }
      ]
    },
    {
      "cell_type": "code",
      "metadata": {
        "id": "SDwSA_pCPrUv",
        "colab": {
          "base_uri": "https://localhost:8080/",
          "height": 67
        },
        "outputId": "c79cf573-59b5-47ba-9624-76153d0b1b6d"
      },
      "source": [
        "#validation check: in the end new data set should have the length of the tags or respectively pC \n",
        "print(len(pC))\n",
        "print(len(tags))\n",
        "print(len(train_new))"
      ],
      "execution_count": null,
      "outputs": [
        {
          "output_type": "stream",
          "text": [
            "72337\n",
            "72337\n",
            "72337\n"
          ],
          "name": "stdout"
        }
      ]
    },
    {
      "cell_type": "markdown",
      "metadata": {
        "id": "1x_C9M4G5s8c"
      },
      "source": [
        "###Language Cleaning"
      ]
    },
    {
      "cell_type": "markdown",
      "metadata": {
        "id": "bo0T5eZaM6BK"
      },
      "source": [
        "The list below shows that 66380 of 72337 blog posts are written in English which is almost 92%. The second most used language is Spanish with only around 1% of the texts being in this language. It is a trade-off between introducing noise with rare data that is difficult to handle but also with holding back information not at random which might also introduce bias. Moreover, the applied models have no possibility to pick up patterns that are connected with non English posts. <br> We decided that the introduced noise due to different languages weights much heavier and therefore we excluded all languages except English from the further analysis. On top, it is possible to check the plausibility of results of the text after text cleaning. <br>\n"
      ]
    },
    {
      "cell_type": "code",
      "metadata": {
        "id": "iacCGHKi6N5F",
        "colab": {
          "base_uri": "https://localhost:8080/",
          "height": 920
        },
        "outputId": "5248c537-96b4-4bb7-8cbe-bdcaf279ae34"
      },
      "source": [
        "#language handling\n",
        "print(len(train_new))\n",
        "train_new['language'].value_counts()"
      ],
      "execution_count": null,
      "outputs": [
        {
          "output_type": "stream",
          "text": [
            "72337\n"
          ],
          "name": "stdout"
        },
        {
          "output_type": "execute_result",
          "data": {
            "text/plain": [
              "en         66380\n",
              "es           890\n",
              "zh-Hant      880\n",
              "pt           873\n",
              "fr           551\n",
              "tr           378\n",
              "th           350\n",
              "ru           347\n",
              "ja           334\n",
              "it           218\n",
              "id           200\n",
              "ko           200\n",
              "zh           105\n",
              "de           102\n",
              "un            93\n",
              "vi            88\n",
              "nl            71\n",
              "sv            57\n",
              "pl            25\n",
              "cs            22\n",
              "bn            20\n",
              "no            15\n",
              "is            15\n",
              "da            13\n",
              "my            12\n",
              "ar            10\n",
              "uk            10\n",
              "mn             9\n",
              "el             8\n",
              "lo             7\n",
              "hi             6\n",
              "la             5\n",
              "si             5\n",
              "bg             4\n",
              "sk             4\n",
              "sr             3\n",
              "fa             3\n",
              "ka             3\n",
              "ro             3\n",
              "ca             2\n",
              "lv             2\n",
              "nn             2\n",
              "ms             2\n",
              "hu             2\n",
              "te             1\n",
              "az             1\n",
              "mk             1\n",
              "sl             1\n",
              "lt             1\n",
              "mr             1\n",
              "ml             1\n",
              "fi             1\n",
              "Name: language, dtype: int64"
            ]
          },
          "metadata": {
            "tags": []
          },
          "execution_count": 266
        }
      ]
    },
    {
      "cell_type": "code",
      "metadata": {
        "id": "085mWPUpjfzC",
        "colab": {
          "base_uri": "https://localhost:8080/",
          "height": 33
        },
        "outputId": "726bfee1-de7e-48db-d5ad-829c0b864dec"
      },
      "source": [
        "train_new = train_new[train_new.language == \"en\"]\n",
        "train_new.shape"
      ],
      "execution_count": null,
      "outputs": [
        {
          "output_type": "execute_result",
          "data": {
            "text/plain": [
              "(66380, 47)"
            ]
          },
          "metadata": {
            "tags": []
          },
          "execution_count": 267
        }
      ]
    },
    {
      "cell_type": "markdown",
      "metadata": {
        "id": "XdxCy_hRo0eO"
      },
      "source": [
        "66.380 (started with: 279.577) data points will be processed in the text cleaning. About 30% of all claps are 0."
      ]
    },
    {
      "cell_type": "markdown",
      "metadata": {
        "id": "gpM036_G59J5"
      },
      "source": [
        "###Correlation"
      ]
    },
    {
      "cell_type": "markdown",
      "metadata": {
        "id": "kGa9gmcTpQDO"
      },
      "source": [
        "The upcoming chapter function as a pre-selection of non-textual variables. <br>\n",
        "The variable \"responsesCreatedCount\" in the training set is the same as the variable \"responses\" in the testing data set. The variable has no missing values and at least 75% of the variable is 0. Nevertheless, the variable has a medium correlation of about 0.58 with the target variable and\n",
        "will be used for training. The variable does not need any processing in the train set. However, in the test set the words \"responses\" and \"response\" have been removed. <br>\n",
        "Another interesting finding was the very high eta coefficient between the variable author and the target variable. An eta coefficient of 0.76 indicates a medium to strong association (depending on the source, see e.g. [2]). Thus, the variable will be integrate in the prediction task. Since it is a nominal-scaled variable, target encoding will be applied (and discussed) after train-test-splitting. This transformation is need to be able to process the data via neural networds. <br>\n",
        "Surprisingly, variables such as length of texts/word count and postCount have no strong association with the target variable. The correlations were between -0.1 and 0.1."
      ]
    },
    {
      "cell_type": "code",
      "metadata": {
        "id": "jWo1m1OLdM25",
        "colab": {
          "base_uri": "https://localhost:8080/",
          "height": 230
        },
        "outputId": "0a3dc82b-6947-417f-e1d1-47417eaf5873"
      },
      "source": [
        "print(train_new.responsesCreatedCount.describe())\n",
        "print(train_new.responsesCreatedCount.isnull().sum())\n",
        "print(np.corrcoef(train_new.responsesCreatedCount, train_new.totalClapCount))"
      ],
      "execution_count": null,
      "outputs": [
        {
          "output_type": "stream",
          "text": [
            "count    66380.000000\n",
            "mean         0.902757\n",
            "std         14.940658\n",
            "min          0.000000\n",
            "25%          0.000000\n",
            "50%          0.000000\n",
            "75%          0.000000\n",
            "max       3076.000000\n",
            "Name: responsesCreatedCount, dtype: float64\n",
            "0\n",
            "[[1.         0.57761543]\n",
            " [0.57761543 1.        ]]\n"
          ],
          "name": "stdout"
        }
      ]
    },
    {
      "cell_type": "code",
      "metadata": {
        "id": "r-RyEm7qnypU",
        "colab": {
          "base_uri": "https://localhost:8080/",
          "height": 33
        },
        "outputId": "8f5f645f-88c2-4e98-b847-9c718a4a907a"
      },
      "source": [
        "#correlation between authors and claps (eta-coefficient)\n",
        "#code source: https://towardsdatascience.com/the-search-for-categorical-correlation-a1cf7f1888c9\n",
        "\n",
        "train_new = train_new.reset_index(drop = True)\n",
        "\n",
        "def correlation_ratio(categories, measurements):\n",
        "    fcat, _ = pd.factorize(categories)\n",
        "    cat_num = np.max(fcat)+1\n",
        "    y_avg_array = np.zeros(cat_num)\n",
        "    n_array = np.zeros(cat_num)\n",
        "    for i in range(0,cat_num):\n",
        "        cat_measures = measurements[np.argwhere(fcat == i).flatten()]\n",
        "        n_array[i] = len(cat_measures)\n",
        "        y_avg_array[i] = np.average(cat_measures)\n",
        "        y_total_avg = np.sum(np.multiply(y_avg_array,n_array))/np.sum(n_array)\n",
        "        numerator = np.sum(np.multiply(n_array,np.power(np.subtract(y_avg_array,y_total_avg),2)))\n",
        "        denominator = np.sum(np.power(np.subtract(measurements,y_total_avg),2))\n",
        "        \n",
        "        if numerator == 0:\n",
        "          eta = 0.0\n",
        "        else:\n",
        "          eta = np.sqrt(numerator/denominator)\n",
        "\n",
        "    return eta\n",
        "\n",
        "correlation_ratio(train_new[\"author\"], train_new[\"totalClapCount\"])"
      ],
      "execution_count": null,
      "outputs": [
        {
          "output_type": "execute_result",
          "data": {
            "text/plain": [
              "0.7575183107222517"
            ]
          },
          "metadata": {
            "tags": []
          },
          "execution_count": 270
        }
      ]
    },
    {
      "cell_type": "code",
      "metadata": {
        "id": "MDEaJoXWCGA8",
        "colab": {
          "base_uri": "https://localhost:8080/",
          "height": 217
        },
        "outputId": "9b9df67b-252e-4cde-e9c1-86b18f592e85"
      },
      "source": [
        "#most frequent authors\n",
        "print(train_new.author.value_counts().head(10))\n",
        "train_new.author.isnull().sum()"
      ],
      "execution_count": null,
      "outputs": [
        {
          "output_type": "stream",
          "text": [
            "Synced                  377\n",
            "DEEP AERO DRONES        279\n",
            "Yves Mulkers            279\n",
            "AI Hawk                 245\n",
            "Jae Duk Seo             173\n",
            "C Gavilanes             164\n",
            "WELTARE Strategies      141\n",
            "TWiML & AI              136\n",
            "Michael K. Spencer      124\n",
            "Corsair's Publishing    121\n",
            "Name: author, dtype: int64\n"
          ],
          "name": "stdout"
        },
        {
          "output_type": "execute_result",
          "data": {
            "text/plain": [
              "0"
            ]
          },
          "metadata": {
            "tags": []
          },
          "execution_count": 20
        }
      ]
    },
    {
      "cell_type": "code",
      "metadata": {
        "id": "9gzkIANjXDYl",
        "colab": {
          "base_uri": "https://localhost:8080/",
          "height": 51
        },
        "outputId": "7718c569-5560-43f0-90e4-9b1aae9efc92"
      },
      "source": [
        "print(np.corrcoef(tr_cl.recommends, tr_cl.totalClapCount)) \n",
        "#very strong relationship: 0.96; no corresponding variable in test set"
      ],
      "execution_count": null,
      "outputs": [
        {
          "output_type": "stream",
          "text": [
            "[[1.         0.96155606]\n",
            " [0.96155606 1.        ]]\n"
          ],
          "name": "stdout"
        }
      ]
    },
    {
      "cell_type": "markdown",
      "metadata": {
        "id": "_d1yCdXiDfNT"
      },
      "source": [
        "###Text Cleaning\n",
        "\n",
        "---\n",
        "\n"
      ]
    },
    {
      "cell_type": "markdown",
      "metadata": {
        "id": "mmivvOHwxlCH"
      },
      "source": [
        "The last step of the data preparation is the text cleaning. As stated above, the variables text, header and the newly created variable tags will be used for the NLP analysis. <br> \n",
        "\n",
        "Before applying the text cleaning, we put the focus on a few lacks in content (= texts with \\n, NaN/Na or almost no content). Some texts are very short or contain no content (such as \\n, NaN etc.); however, they have claps. I randomly checked about 50 webpages that all complied with the following reason: The reason is that the original articles contain images (mostly with texts or code) that could not be scraped. The reconstruction is not possible (in case of the non-existing webpage, e.g. error code 110 (the author deleted his Medium story)) or exceeds/fails the scope of the course (extracting text from images). Thus, the representation of the text length relatively to their number of claps is not representative here and might introduce noisy and wrong indications. Anyways, the correlation of the text length and the number of claps is with 0.09 very weak (compare [3]). All texts were kept. The \"tags\" (var: name) contain the most important keywords regarding the texts; thus, they are merge with the texts. The tags are placed at the beginning of the sentence to make sure they are not lost during the cleaning process (last step: truncating the number of tokens). Also the headers are added to the text. <br> If reconstruction was possible, we imputed some missing values manually. As an example: one text got somehow stuck with the code block during the scraping process; another text with many likes existed and we just copied it to the data frame.\n"
      ]
    },
    {
      "cell_type": "code",
      "metadata": {
        "id": "UbZCDfRNrrr5",
        "colab": {
          "base_uri": "https://localhost:8080/",
          "height": 916
        },
        "outputId": "7ceefcbe-4009-4741-a3e0-9f79506e2edb"
      },
      "source": [
        "train_new[\"text\"] = train_new[\"text\"].astype(\"object\")\n",
        "\n",
        "#correlation text length and number of claps\n",
        "train_new[\"len_text\"] = [len(x) for x in train_new.text.values]\n",
        "print(np.corrcoef(train_new.len_text, train_new.totalClapCount))\n",
        "#merge name with text (includes title already) to one column; the variable name is in the beginning because it contains the most important key words of the text\n",
        "train_new[\"text\"] = train_new.name + \" \" + train_new.text\n",
        "train_new[\"len_text\"] = [len(x) for x in train_new.text.values]\n",
        "\n",
        "train_new.loc[(train_new.len_text < 100) & (train_new.totalClapCount > 0 ), [\"postId\", \"totalClapCount\", \"text\"]]"
      ],
      "execution_count": null,
      "outputs": [
        {
          "output_type": "stream",
          "text": [
            "[[1.         0.09353421]\n",
            " [0.09353421 1.        ]]\n"
          ],
          "name": "stdout"
        },
        {
          "output_type": "execute_result",
          "data": {
            "text/html": [
              "<div>\n",
              "<style scoped>\n",
              "    .dataframe tbody tr th:only-of-type {\n",
              "        vertical-align: middle;\n",
              "    }\n",
              "\n",
              "    .dataframe tbody tr th {\n",
              "        vertical-align: top;\n",
              "    }\n",
              "\n",
              "    .dataframe thead th {\n",
              "        text-align: right;\n",
              "    }\n",
              "</style>\n",
              "<table border=\"1\" class=\"dataframe\">\n",
              "  <thead>\n",
              "    <tr style=\"text-align: right;\">\n",
              "      <th></th>\n",
              "      <th>postId</th>\n",
              "      <th>totalClapCount</th>\n",
              "      <th>text</th>\n",
              "    </tr>\n",
              "  </thead>\n",
              "  <tbody>\n",
              "    <tr>\n",
              "      <th>1209</th>\n",
              "      <td>146c91e8eff3</td>\n",
              "      <td>1.0</td>\n",
              "      <td>Data Science Ilona’s Test\\nThis is simply a te...</td>\n",
              "    </tr>\n",
              "    <tr>\n",
              "      <th>6980</th>\n",
              "      <td>29b7ab1c99b0</td>\n",
              "      <td>1.0</td>\n",
              "      <td>Philosophy, Future McKenna on Super AI\\n\\n</td>\n",
              "    </tr>\n",
              "    <tr>\n",
              "      <th>7598</th>\n",
              "      <td>2bf3c93d8f85</td>\n",
              "      <td>66.0</td>\n",
              "      <td>Machine Learning, Westworld Some thoughts on v...</td>\n",
              "    </tr>\n",
              "    <tr>\n",
              "      <th>9878</th>\n",
              "      <td>345a3015e1a0</td>\n",
              "      <td>1.0</td>\n",
              "      <td>Social Media, Artificial Intelligence, Wellnes...</td>\n",
              "    </tr>\n",
              "    <tr>\n",
              "      <th>11224</th>\n",
              "      <td>3916fd0334d8</td>\n",
              "      <td>632.0</td>\n",
              "      <td>Bottos, Blockchain, Artificial Intelligence, C...</td>\n",
              "    </tr>\n",
              "    <tr>\n",
              "      <th>12685</th>\n",
              "      <td>3e691fa8543b</td>\n",
              "      <td>321.0</td>\n",
              "      <td>Burning Man, Machine Learning, Blockchain, Blo...</td>\n",
              "    </tr>\n",
              "    <tr>\n",
              "      <th>13565</th>\n",
              "      <td>41b7d4739d80</td>\n",
              "      <td>10.0</td>\n",
              "      <td>Automotive, Innovation, Robotics Autonomous Ve...</td>\n",
              "    </tr>\n",
              "    <tr>\n",
              "      <th>15565</th>\n",
              "      <td>48a0523224e5</td>\n",
              "      <td>1.0</td>\n",
              "      <td>Data Science, Learning, Tableau Homework #4-Ji...</td>\n",
              "    </tr>\n",
              "    <tr>\n",
              "      <th>16069</th>\n",
              "      <td>4a852c39df75</td>\n",
              "      <td>60.0</td>\n",
              "      <td>Chatbots, Bots, Artificial Intelligence, Machi...</td>\n",
              "    </tr>\n",
              "    <tr>\n",
              "      <th>19089</th>\n",
              "      <td>559f7443f052</td>\n",
              "      <td>2.0</td>\n",
              "      <td>Blockchain, Deepbrain DeepBrain Chain Weekly R...</td>\n",
              "    </tr>\n",
              "    <tr>\n",
              "      <th>23425</th>\n",
              "      <td>653e1c6519c0</td>\n",
              "      <td>1.0</td>\n",
              "      <td>Blockchain, Technology, Artificial Intelligenc...</td>\n",
              "    </tr>\n",
              "    <tr>\n",
              "      <th>24016</th>\n",
              "      <td>675119c12a5d</td>\n",
              "      <td>1.0</td>\n",
              "      <td>Data Analysis, Data Science, Data Analytics, D...</td>\n",
              "    </tr>\n",
              "    <tr>\n",
              "      <th>24059</th>\n",
              "      <td>677f0bafb7c7</td>\n",
              "      <td>30.0</td>\n",
              "      <td>Artificial Intelligence, Web Development MOCK ...</td>\n",
              "    </tr>\n",
              "    <tr>\n",
              "      <th>25292</th>\n",
              "      <td>6bbd49b10dd6</td>\n",
              "      <td>30.0</td>\n",
              "      <td>Science Fiction, Writing, Science, Artificial ...</td>\n",
              "    </tr>\n",
              "    <tr>\n",
              "      <th>28280</th>\n",
              "      <td>76ac1342a614</td>\n",
              "      <td>6.0</td>\n",
              "      <td>Coding, Competition, Streaming, Rustlang Eveni...</td>\n",
              "    </tr>\n",
              "    <tr>\n",
              "      <th>29136</th>\n",
              "      <td>79c62bb729c6</td>\n",
              "      <td>162.0</td>\n",
              "      <td>Bottos, Blockchain, Artificial Intelligence, C...</td>\n",
              "    </tr>\n",
              "    <tr>\n",
              "      <th>39888</th>\n",
              "      <td>a0baa2ee571a</td>\n",
              "      <td>4.0</td>\n",
              "      <td>Data Science Knowledge Extraction Projects\\nRe...</td>\n",
              "    </tr>\n",
              "    <tr>\n",
              "      <th>41029</th>\n",
              "      <td>a4d30a895a93</td>\n",
              "      <td>612.0</td>\n",
              "      <td>Information Retrieval, Linear Algebra, Machine...</td>\n",
              "    </tr>\n",
              "    <tr>\n",
              "      <th>45570</th>\n",
              "      <td>b57ba9d4862e</td>\n",
              "      <td>129.0</td>\n",
              "      <td>Art, Crowdfunding, Startup, Investing, Artific...</td>\n",
              "    </tr>\n",
              "    <tr>\n",
              "      <th>50585</th>\n",
              "      <td>c76309b17d1</td>\n",
              "      <td>1.0</td>\n",
              "      <td>Xmc, Xmedchain, Blockchain Famous ICO Review C...</td>\n",
              "    </tr>\n",
              "    <tr>\n",
              "      <th>53217</th>\n",
              "      <td>d0c58b5f2ab7</td>\n",
              "      <td>51.0</td>\n",
              "      <td>Datecoin, Denim, Blockchain, Dating What is Da...</td>\n",
              "    </tr>\n",
              "    <tr>\n",
              "      <th>53274</th>\n",
              "      <td>d0efa707315e</td>\n",
              "      <td>6.0</td>\n",
              "      <td>Artificial Intelligence, Robots 6 Scariest Thi...</td>\n",
              "    </tr>\n",
              "    <tr>\n",
              "      <th>55674</th>\n",
              "      <td>d982685ae4f7</td>\n",
              "      <td>1.0</td>\n",
              "      <td>Machine Learning, Python Build a basic ML mode...</td>\n",
              "    </tr>\n",
              "    <tr>\n",
              "      <th>55872</th>\n",
              "      <td>da33297b668c</td>\n",
              "      <td>185.0</td>\n",
              "      <td>Blockchain, Matrix, Crypto, Bitcoin Why MATRIX...</td>\n",
              "    </tr>\n",
              "    <tr>\n",
              "      <th>60653</th>\n",
              "      <td>eb484d556</td>\n",
              "      <td>22.0</td>\n",
              "      <td>Artificial Intelligence, Education, Inspiratio...</td>\n",
              "    </tr>\n",
              "    <tr>\n",
              "      <th>66042</th>\n",
              "      <td>fecb4e514c4b</td>\n",
              "      <td>6.0</td>\n",
              "      <td>Machine Learning, Numpy, Python, Arrays, Deep ...</td>\n",
              "    </tr>\n",
              "    <tr>\n",
              "      <th>66054</th>\n",
              "      <td>fed2e269ae58</td>\n",
              "      <td>229.0</td>\n",
              "      <td>Bottos, Blockchain, Artificial Intelligence, C...</td>\n",
              "    </tr>\n",
              "    <tr>\n",
              "      <th>66216</th>\n",
              "      <td>ff6589097809</td>\n",
              "      <td>1.0</td>\n",
              "      <td>Data Science, Python, Data Visualization, Rese...</td>\n",
              "    </tr>\n",
              "  </tbody>\n",
              "</table>\n",
              "</div>"
            ],
            "text/plain": [
              "             postId  ...                                               text\n",
              "1209   146c91e8eff3  ...  Data Science Ilona’s Test\\nThis is simply a te...\n",
              "6980   29b7ab1c99b0  ...         Philosophy, Future McKenna on Super AI\\n\\n\n",
              "7598   2bf3c93d8f85  ...  Machine Learning, Westworld Some thoughts on v...\n",
              "9878   345a3015e1a0  ...  Social Media, Artificial Intelligence, Wellnes...\n",
              "11224  3916fd0334d8  ...  Bottos, Blockchain, Artificial Intelligence, C...\n",
              "12685  3e691fa8543b  ...  Burning Man, Machine Learning, Blockchain, Blo...\n",
              "13565  41b7d4739d80  ...  Automotive, Innovation, Robotics Autonomous Ve...\n",
              "15565  48a0523224e5  ...  Data Science, Learning, Tableau Homework #4-Ji...\n",
              "16069  4a852c39df75  ...  Chatbots, Bots, Artificial Intelligence, Machi...\n",
              "19089  559f7443f052  ...  Blockchain, Deepbrain DeepBrain Chain Weekly R...\n",
              "23425  653e1c6519c0  ...  Blockchain, Technology, Artificial Intelligenc...\n",
              "24016  675119c12a5d  ...  Data Analysis, Data Science, Data Analytics, D...\n",
              "24059  677f0bafb7c7  ...  Artificial Intelligence, Web Development MOCK ...\n",
              "25292  6bbd49b10dd6  ...  Science Fiction, Writing, Science, Artificial ...\n",
              "28280  76ac1342a614  ...  Coding, Competition, Streaming, Rustlang Eveni...\n",
              "29136  79c62bb729c6  ...  Bottos, Blockchain, Artificial Intelligence, C...\n",
              "39888  a0baa2ee571a  ...  Data Science Knowledge Extraction Projects\\nRe...\n",
              "41029  a4d30a895a93  ...  Information Retrieval, Linear Algebra, Machine...\n",
              "45570  b57ba9d4862e  ...  Art, Crowdfunding, Startup, Investing, Artific...\n",
              "50585   c76309b17d1  ...  Xmc, Xmedchain, Blockchain Famous ICO Review C...\n",
              "53217  d0c58b5f2ab7  ...  Datecoin, Denim, Blockchain, Dating What is Da...\n",
              "53274  d0efa707315e  ...  Artificial Intelligence, Robots 6 Scariest Thi...\n",
              "55674  d982685ae4f7  ...  Machine Learning, Python Build a basic ML mode...\n",
              "55872  da33297b668c  ...  Blockchain, Matrix, Crypto, Bitcoin Why MATRIX...\n",
              "60653     eb484d556  ...  Artificial Intelligence, Education, Inspiratio...\n",
              "66042  fecb4e514c4b  ...  Machine Learning, Numpy, Python, Arrays, Deep ...\n",
              "66054  fed2e269ae58  ...  Bottos, Blockchain, Artificial Intelligence, C...\n",
              "66216  ff6589097809  ...  Data Science, Python, Data Visualization, Rese...\n",
              "\n",
              "[28 rows x 3 columns]"
            ]
          },
          "metadata": {
            "tags": []
          },
          "execution_count": 279
        }
      ]
    },
    {
      "cell_type": "code",
      "metadata": {
        "id": "YbM_unEqRkNw"
      },
      "source": [
        "#in this case the code block contains the original text; the variable text is empty, thus, the empty text will be replace by the text of the codeBlock\n",
        "train_new.text[train_new.postId == \"6bbd49b10dd6\"] = train_new.codeBlock[train_new.postId == \"6bbd49b10dd6\"]"
      ],
      "execution_count": null,
      "outputs": []
    },
    {
      "cell_type": "code",
      "metadata": {
        "id": "DOJTHRlWyxIF"
      },
      "source": [
        "#this text was not scraped properly, however it contains many claps and the text exists; thus, I decided to copy and implement the text manually\n",
        "print(train_new.url[53531])\n",
        "text_3e691fa8543b = \"one of my earliest memories where I am alone, I am writing in a little notebook. at the time I carried around with me inventor notebooks that contained different types of inventions. I had one for safety inventions, one for toys I invented, and my favorite one, the one with the most designs and specs was my flying car notebook. It was filled with every way I could think of that could make a “car” fly. At the time I was ~7 and only drove one of these: When I got older I started to throw out ideas to solve social problems, they ranged from //saving dogs from kill shelters and giving them to families with mental health problems like my own// to //creating spaces for community members to come together and cook//. Unfortunately at the time I was relatively shy and had a hard time telling anyone my ideas beyond my Mother and Father. Me, Kirsten (my american girl doll), my mother Sharon Reddick, my father Edward Chilmonik ll, and Cissy my first Dog just deeep in the 90's My house sat just across the river from the Colville Reservation in Omak, Washington. I had lived on the reservation side for a while when I was younger but as non-tribal members my parents couldn't by property on tribal lands. Omak is 2 hours from a mall and 4 hours from a commercial airport. The biggest event of the year there is the Suicide Race, the steepest horse race in the world. During my senior year my science teacher, Nancy Ridenour, asked my class to do a report on a STEM job. I chose civil/environmental engineering nearly at random out of a list. After presenting the report, I thought, “I guess this is my destiny.” I had done ballet for 16 years, competed in California and had won 1st place in a National Point Solo competition last year, but had broken my foot this year and realized how uncertain a career in the arts could be for me. Mrs. Ridenour was an inspiration to me as a young woman who had talents in math and science and so it felt simply <right> I was extremely supported in Omak. I was a cheerleader, a dancer, a church goer, close to my family, had lots of friends, was prom princess, and valedictorian. My first step out of that fishbowl was college. ~engineering school~is harrrddd. I wasn’t a studier. I had trouble concentrating in long classes. I realized that school was competitive and people weren’t always nice. I tore my ACL after my first month of school and felt utterly alone. My biggest bright spot was my roommate Pooja. We had met at orientation and our mothers liked each other immediately & they set us up as roommates. She was a brilliant young woman with high ambitions and endless empathy. She was studying Biomedical Engineering with a Father in Computer Science and through her I learned a lot more about the other options in engineering. Because I couldn’t dance at my previous level anymore I started to paint as well. This combination pushed me toward the intersection of software and art. Taking a class in transportation engineering was my final straw. I thought this might draw me closer to my *flying~car~dreams* but I ended up on a street corner counting cars for homework. I was done. I decided to switch my major to Systems Engineering. It had much more to do with math and programming. After school and a job as a developer in DC at a startup called Routeam I moved to NYC to accept a job at Thicket Labs. Since then I have learned and done a lot of things. During a period of depression being separated again from friends and family I asked myself what will make me get up each morning? What can I promise myself that will motivate me? What do I think is worth living for? Machine Learning was my answer the podcast Linear Digressions probably kept me alive. I spent most of my free time learning about ML algorithms and trying them out on my computer. I avoided any classes because they would take all the fun out of it for me. My boss Deepthi Welaratna suggested I apply for NASA datanauts. This was one of the best decisions for my career and social life. I was invited to present at NASA Headquarters in DC, that year I spoke at SXSW on behalf of Thicket Labs about self organizing maps (a kind of neural net), spoke to young data scientists at the American Museum of Natural History in NYC and taught a class at CoLab-Factory on Machine Learning for Business Application. Coming up on this last winter of 2017 I took time off work to explore how I could really support this new habit through my work in the most impactful way. ~Enter Byzantine~ Sam Hutch had been my roommate when I first moved to NYC and we worked together at Thicket Labs for a while before she left. There she has always astonished me with the quality and quantity of her work. She was amazing at design, UX, UI, and understanding complexity but most of all was a person I believed to be good at heart & quite cunning. She had reached out to me about a new company she was forming with another one of our former coworkers and introduced me to the new-new world of blockchain! back in college I had dabbled in crypto investing a small amount into Bitcoin (HODL) and had read early white papers at that time, but hadn’t been an avid follower of the industry for the last two years. They contacted me about their vision and hinted that they were interested in working with me. Immediately I learned everything about the industry I could. I fell in love once again with a tech revolution that gave me life. I have deep respect for Sam and luckily for me they saw that spark of an inventor, tinkerer, polymath and experimentalist in me and asked me to become Chief Discovery Officer. I SAID YES! At Byzantine we aren’t just stopping with tech innovation, we are blurring the lines between the physical and digital worlds. Byzantine has a space in Brooklyn over 92,000 sq. ft and our footprint will be expanding fast. We are managing a community called Liminal (our cute name that means “the place in between” in this case — digital and physical worlds) in our spaces that provides digital creators, technologists, and artists a place to co-create with access to resources like — Motion capture suits from Rokoko, Sound production booths, Live streaming studios, Maker Equipment, Mixed Reality Cubes, High speed computing, even higher speed internet (necessary for blockchain & game development), gallery space and much more. You may say ~WHOA there, that sounds EXpExnSive! Well it is! But thats why Byzantine has a two pronged approach — providing resources and building resources. We are in development of a Mobile IOS game with live player interactions built on the blockchain. The idea for the game came from Sam who brilliantly came up with a deeply engaging strategy game thats a mix between Farmville/Animal Crossing and Burning Man culture called *PLAYA*. The in game currencies are NFTs or unique encrypted tokens built on the blockchain. If you don’t know how transformative that is, I don’t blame you. This industry is moving fast. but it basically turns the gaming industry on its head because now game players can actually extract monetary IRL/Fiat/USD (etc.) value out of their in-game assets. Playa will push the boundaries between digital and physical environments even more by interacting through beacons with the physical spaces Byzantine and partners own, and unlocking events, rooms, and more though in-game achievements. Our first step toward releasing this game is #Space Quest# it is the first round of tokens for sale for use in the game! This is a product sale for in-game and IRL perks but happily can also be traded/sold on the market once they are all bought. After the last Space Quest Tile is sold there will be a “Flip Event” where the tiles will expose their metadata and the unique art that has meaning in Playa lore will be revealed. “Imagine if every dollar was a unique piece of art” The tiles are valued in Ethereum (ETH) which at the time of publishing was worth $ USD and climbing. The tiles are sold at increasing rates according to a step function (SALE is over since time of publishing) I hope that the Liminal spaces and similar innovative spaces we are building today will be the “Open Source Bell Labs” that will finally make my 10 types of flying cars a reality. My inner child is most excited about supporting all types of artists, technologists, philosophers, and makers to move past incremental innovations into a new age of radical innovation through cross-pollination of industries and radical inclusion.\"\n",
        "train_new.text[train_new.postId == \"3e691fa8543b\"] = text_3e691fa8543b"
      ],
      "execution_count": null,
      "outputs": []
    },
    {
      "cell_type": "markdown",
      "metadata": {
        "id": "pX8OjBMYEOIk"
      },
      "source": [
        "As already stated, the variable title has only 5 missing values. Since the title represents a crucial information and is needed before text cleaning, the missing values will be looked up and imputed manually."
      ]
    },
    {
      "cell_type": "code",
      "metadata": {
        "id": "b8Po1ZYM1PBS"
      },
      "source": [
        "#add the missing titles manually; where all the same\n",
        "train_new.title[train_new.title.isnull()] = \"How I Became Chief Discovery Officer of a Blockchain Company by age 25\""
      ],
      "execution_count": null,
      "outputs": []
    },
    {
      "cell_type": "markdown",
      "metadata": {
        "id": "XG_I2E9B226d"
      },
      "source": [
        "In order to make the text cleaning more efficient, we cut the max. sentence length at 2000. Since we will cut the max. length after processing to 400 anyways, setting it to 2000 reduces the computational time but ensures that no information that is needed it lost. <br>\n",
        "Of course, we applied a stop word removal; however, we decided that words such as no, not and nothing might have a contextual impact. Moreover, we used contraction mapping to keep certain sequences such as \"does not\" which would otherwised be removed during the cleaning process. <br>\n",
        "Lemmatization transforms a word into its lexicographically correct word and thus is used to reduce the amount of words but minimizes minor difference such as a word in singluar and plural which can be analysed as being the same word. The package nltk as well as spaCy both have excellent functions for the lemmatization of words. <br>\n",
        "Furthermore, the following cleaning steps have been applied:\n",
        "\n",
        "* removal of hmtl tags\n",
        "* removal of non alphanumeric letters (numbers, punctuation, hypens)\n",
        "* lowering text\n",
        "* removal white spaces if there are more than one between words\n",
        "* replace \"data\" to \"datum\" (falsely change during lemmatization and costs are higher for loosing the word data then for falsely misreplacing datum)\n",
        "* removal of single letters \n"
      ]
    },
    {
      "cell_type": "code",
      "metadata": {
        "id": "UM_QgGNMiPgc"
      },
      "source": [
        "#general setting for preparation of the cleaning process such as:\n",
        "\n",
        "max_len_sentence = 2000\n",
        "\n",
        "  #loading stop words and excluding no, not and nothing since they might have a strong contextual impact and the meaning of a\n",
        "  #sequence in order to be able to detect all see next step: contractionmapping\n",
        "\n",
        "nlp = spacy.load(\"en\", disable=['parser', 'ner']) #keeping only tagger component needed for lemmatization and contains of list of english stop words (see nlp.Defaults.stop_words)\n",
        "\n",
        "#keep\n",
        "keep = {\"no\", \"not\", \"nothing\"} \n",
        "\n",
        "#remove\n",
        "remove = {\"www\", \"http\", \"https\", \"com\", \"html\"} #these tokens should be removed\n",
        "stop_words = set([re.sub(r\"\\W\", \"\", word) for word in nlp.Defaults.stop_words if word not in keep])\n",
        "  \n",
        "  #constraction mapper --> especially used to be able to keep the \"not\" which contain an important contextual message and should\n",
        "  #not be lost during the cleaning process; they will also be excluded from removing the stopwords -- as well as the words \"no\" and \"nothing\".\n",
        "  #source: https://github.com/dipanjanS/practical-machine-learning-with-python/blob/master/bonus%20content/nlp%20proven%20approach/contractions.py\n",
        "  \n",
        "contraction_mapping = { \n",
        "    \"ain't\": \"is not\", \n",
        "    \"aren't\": \"are not\", \n",
        "    \"can't\": \"cannot\", \n",
        "    \"'cause\": \"because\", \n",
        "    \"could've\": \"could have\", \n",
        "    \"couldn't\": \"could not\",\n",
        "    \"didn't\": \"did not\", \n",
        "    \"doesn't\": \"does not\", \n",
        "    \"don't\": \"do not\", \n",
        "    \"hadn't\": \"had not\", \n",
        "    \"hasn't\": \"has not\", \n",
        "    \"haven't\": \"have not\",\n",
        "    \"he'd\": \"he would\", \n",
        "    \"he'll\": \"he will\", \n",
        "    \"he's\": \"he is\", \n",
        "    \"how'd\": \"how did\", \n",
        "    \"how'd'y\": \"how do you\", \n",
        "    \"how'll\": \"how will\", \n",
        "    \"how's\": \"how is\",\n",
        "    \"I'd\": \"I would\", \n",
        "    \"I'd've\": \"I would have\", \n",
        "    \"I'll\": \"I will\", \n",
        "    \"I'll've\": \"I will have\", \n",
        "    \"I'm\": \"I am\", \n",
        "    \"I've\": \"I have\", \n",
        "    \"i'd\": \"i would\",\n",
        "    \"i'd've\": \"i would have\", \n",
        "    \"i'll\": \"i will\", \n",
        "    \"i'll've\": \"i will have\", \n",
        "    \"i'm\": \"i am\", \n",
        "    \"i've\": \"i have\", \n",
        "    \"isn't\": \"is not\", \n",
        "    \"it'd\": \"it would\",\n",
        "    \"it'd've\": \"it would have\", \n",
        "    \"it'll\": \"it will\", \n",
        "    \"it'll've\": \"it will have\", \n",
        "    \"it's\": \"it is\", \n",
        "    \"let's\": \"let us\", \n",
        "    \"ma'am\": \"madam\",\n",
        "    \"mayn't\": \"may not\", \n",
        "    \"might've\": \"might have\", \n",
        "    \"mightn't\": \"might not\", \n",
        "    \"mightn't've\": \"might not have\", \n",
        "    \"must've\": \"must have\",\n",
        "    \"mustn't\": \"must not\", \n",
        "    \"mustn't've\": \"must not have\", \n",
        "    \"needn't\": \"need not\", \n",
        "    \"needn't've\": \"need not have\", \n",
        "    \"o'clock\": \"of the clock\",\n",
        "    \"oughtn't\": \"ought not\", \n",
        "    \"oughtn't've\": \"ought not have\", \n",
        "    \"shan't\": \"shall not\", \n",
        "    \"sha'n't\": \"shall not\", \n",
        "    \"shan't've\": \"shall not have\",\n",
        "    \"she'd\": \"she would\", \n",
        "    \"she'd've\": \"she would have\", \n",
        "    \"she'll\": \"she will\", \n",
        "    \"she'll've\": \"she will have\", \n",
        "    \"she's\": \"she is\",\n",
        "    \"should've\": \"should have\", \n",
        "    \"shouldn't\": \"should not\", \n",
        "    \"shouldn't've\": \"should not have\", \n",
        "    \"so've\": \"so have\", \n",
        "    \"so's\": \"so as\",\n",
        "    \"this's\": \"this is\", \n",
        "    \"that'd\": \"that would\", \n",
        "    \"that'd've\": \"that would have\", \n",
        "    \"that's\": \"that is\", \n",
        "    \"there'd\": \"there would\",\n",
        "    \"there'd've\": \"there would have\", \n",
        "    \"there's\": \"there is\", \n",
        "    \"here's\": \"here is\", \n",
        "    \"they'd\": \"they would\", \n",
        "    \"they'd've\": \"they would have\",\n",
        "    \"they'll\": \"they will\", \n",
        "    \"they'll've\": \"they will have\", \n",
        "    \"they're\": \"they are\", \n",
        "    \"they've\": \"they have\", \n",
        "    \"to've\": \"to have\",\n",
        "    \"wasn't\": \"was not\", \n",
        "    \"we'd\": \"we would\", \n",
        "    \"we'd've\": \"we would have\", \n",
        "    \"we'll\": \"we will\", \n",
        "    \"we'll've\": \"we will have\", \n",
        "    \"we're\": \"we are\",\n",
        "    \"we've\": \"we have\", \n",
        "    \"weren't\": \"were not\", \n",
        "    \"what'll\": \"what will\", \n",
        "    \"what'll've\": \"what will have\", \n",
        "    \"what're\": \"what are\",\n",
        "    \"what's\": \"what is\", \n",
        "    \"what've\": \"what have\", \n",
        "    \"when's\": \"when is\", \n",
        "    \"when've\": \"when have\", \n",
        "    \"where'd\": \"where did\", \n",
        "    \"where's\": \"where is\",\n",
        "    \"where've\": \"where have\", \n",
        "    \"who'll\": \"who will\", \n",
        "    \"who'll've\": \"who will have\", \n",
        "    \"who's\": \"who is\", \n",
        "    \"who've\": \"who have\",\n",
        "    \"why's\": \"why is\", \n",
        "    \"why've\": \"why have\", \n",
        "    \"will've\": \"will have\", \n",
        "    \"won't\": \"will not\", \n",
        "    \"won't've\": \"will not have\",\n",
        "    \"would've\": \"would have\", \n",
        "    \"wouldn't\": \"would not\", \n",
        "    \"wouldn't've\": \"would not have\", \n",
        "    \"y'all\": \"you all\",\n",
        "    \"y'all'd\": \"you all would\", \n",
        "    \"y'all'd've\": \"you all would have\", \n",
        "    \"y'all're\": \"you all are\", \n",
        "    \"y'all've\": \"you all have\",\n",
        "    \"you'd\": \"you would\", \n",
        "    \"you'd've\": \"you would have\", \n",
        "    \"you'll\": \"you will\", \n",
        "    \"you'll've\": \"you will have\",\n",
        "    \"you're\": \"you are\", \n",
        "    \"you've\": \"you have\"}"
      ],
      "execution_count": null,
      "outputs": []
    },
    {
      "cell_type": "code",
      "metadata": {
        "id": "E3-JCmHPO82E"
      },
      "source": [
        "#cleaning functions\n",
        "#source https://www.kdnuggets.com/2018/08/practitioners-guide-processing-understanding-text-2.html\n",
        "\n",
        "def lemmatize_function(text):\n",
        "\n",
        "    text = nlp(text)\n",
        "    text = \" \".join([word.lemma_ if word.lemma_ != \"-PRON-\" else word.text for word in text])\n",
        "    \n",
        "    return text\n",
        "   \n",
        "def cleaning_function(text):\n",
        "\n",
        "    text = \" \".join([contraction_mapping[word] if word in contraction_mapping else word for word in text.split(\" \")]) #split up words that are listed in the contraction map in order to not lose the meaning during text cleaning\n",
        "    text = BeautifulSoup(text).text #doing hmtl cleaning etc\n",
        "    \n",
        "    text = re.sub(\"[^a-zA-Z]\", \" \", text) #removes non alphanumeric letters (numbers, punctuation, hypens)\n",
        "    text = text.lower() #lowers text\n",
        "  \n",
        "    text = re.sub(\"\\s\\s+\" , \" \", text) #removes white spaces if there are more than one between words\n",
        "\n",
        "    text = text.replace(\"datum\", \" data \") #lemma changes data to datum quite often (of course in some case this correction might be wrong; however, it costs more to misinterpret the word \"data\" than the word \"datum\")\n",
        "    \n",
        "    text = re.sub(\"(\\\\b[A-Za-z] \\\\b|\\\\b [A-Za-z]\\\\b)\", \"\", text) #removes single letters \n",
        "    \n",
        "    text = word_tokenize(text)\n",
        "    text = [token for token in text if token.lower() not in stop_words | remove] #kicks out all the stopwords\n",
        "\n",
        "    text = text[:max_len_sentence] #sets text to max. length of 2000 tokens\n",
        "    \n",
        "    text = TreebankWordDetokenizer().detokenize(text)\n",
        "    text = lemmatize_function(text)\n",
        "    text = text.replace(\"datum\", \"data\")\n",
        "    \n",
        "    text = word_tokenize(text)\n",
        "\n",
        "    return text"
      ],
      "execution_count": null,
      "outputs": []
    },
    {
      "cell_type": "code",
      "metadata": {
        "id": "-men8E23S39w"
      },
      "source": [
        "#apply all functions to every row of the col \"text\"\n",
        "\n",
        "def clean_all(row, df_length):\n",
        "  \n",
        "  row[\"text\"] = cleaning_function(row[\"text\"])\n",
        "\n",
        "  print(f\"\\rcompleted: {row.name + 1} of {df_length}\", end=\"\")\n",
        "  return row\n",
        "\n",
        "t1 = time.perf_counter()\n",
        "#train_cleaned = tr_new.reset_index()\n",
        "#train_cleaned = train_cleaned.drop(\"index\", axis=1)\n",
        "train_cleaned = tr_new.apply(lambda row: clean_all(row, len(tr_new)), axis=1)\n",
        "t2 = time.perf_counter()"
      ],
      "execution_count": null,
      "outputs": []
    },
    {
      "cell_type": "code",
      "metadata": {
        "id": "N7bMzydxTYaz"
      },
      "source": [
        "t3 = (t2-t1)/60\n",
        "print(\"It took {:.2f} minutes.\".format(t3))\n",
        "#full data (old cleaning): It took 154.10 minutes.\n",
        "#full data (new cleaning): It took 139.45 minutes.\n",
        "#full data (updated cleaning): It took 9.12 minutes (without lemmatization)\n",
        "#data (updated cleaning): It took ~40 (6.43 for 9999) minutes (with lemmatization)\n",
        "#data (updated cleaning): It took ~30 (4.59 for 9999) minutes (with tokenize, detokenize, lemmatize, tokenize)\n",
        "#full data (final cleaning): It took 31.93 minutes."
      ],
      "execution_count": null,
      "outputs": []
    },
    {
      "cell_type": "code",
      "metadata": {
        "id": "4cAGD2PvlJrh"
      },
      "source": [
        "#clean dates regarding the first time the articles where published\n",
        "#remove \"-\"\" and all white spaces\n",
        "#the corresponding date to the var \"PublicationDetails\" is not the created but rather a published date\n",
        "train_cleaned[\"firstPublishedDate\"] = [re.sub(\"[^0-9]\", \" \", x) for x in train_cleaned.firstPublishedDate]\n",
        "train_cleaned[\"firstPublishedDate\"] = [re.sub(\" \", \"\", x) for x in train_cleaned.firstPublishedDate]\n",
        "train_cleaned[\"firstPublishedDate\"] = train_cleaned[\"firstPublishedDate\"].astype(\"int64\")\n",
        "#only year\n",
        "train_cleaned[\"firstPublishedYear\"] = [int(str(x)[:4]) for x in train_cleaned.firstPublishedDate]"
      ],
      "execution_count": null,
      "outputs": []
    },
    {
      "cell_type": "code",
      "metadata": {
        "id": "ROfON_QhGdHM",
        "colab": {
          "base_uri": "https://localhost:8080/",
          "height": 85
        },
        "outputId": "7970766b-7971-43cc-cd17-d8b60945d40b"
      },
      "source": [
        "print(np.corrcoef(tr_cl.firstPublishedYear, tr_cl.totalClapCount)) \n",
        "#correlation of only year is: -0.024 (very weak)\n",
        "print(np.corrcoef(tr_cl.firstPublishedDate, tr_cl.totalClapCount)) \n",
        "#correlation of year-month-day is: -0.026 (very weak)"
      ],
      "execution_count": null,
      "outputs": [
        {
          "output_type": "stream",
          "text": [
            "[[ 1.         -0.02415034]\n",
            " [-0.02415034  1.        ]]\n",
            "[[ 1.         -0.02595821]\n",
            " [-0.02595821  1.        ]]\n"
          ],
          "name": "stdout"
        }
      ]
    },
    {
      "cell_type": "markdown",
      "metadata": {
        "id": "bY6huUZH8mj8"
      },
      "source": [
        "Statistics"
      ]
    },
    {
      "cell_type": "code",
      "metadata": {
        "id": "LijVsdrV6uqD",
        "colab": {
          "base_uri": "https://localhost:8080/",
          "height": 50
        },
        "outputId": "5678102d-34e0-464b-9412-812e2c7234b4"
      },
      "source": [
        "len_text = [len(x) for x in tr_cl.text.values]\n",
        "import statistics\n",
        "statistics.mean(len_text) #average length of tokens after cleaning\n",
        "print(max(len_text))\n",
        "print(min(len_text))"
      ],
      "execution_count": null,
      "outputs": [
        {
          "output_type": "stream",
          "text": [
            "2028\n",
            "3\n"
          ],
          "name": "stdout"
        }
      ]
    },
    {
      "cell_type": "code",
      "metadata": {
        "id": "T0YIEue8-iYG",
        "colab": {
          "base_uri": "https://localhost:8080/",
          "height": 50
        },
        "outputId": "4d5dfca6-7337-4b02-d986-19c0ed6f5cb9"
      },
      "source": [
        "tr_cl[\"len_text\"] = [len(x) for x in tr_cl.text.values]\n",
        "print(np.corrcoef(tr_cl.len_text, tr_cl.totalClapCount))"
      ],
      "execution_count": null,
      "outputs": [
        {
          "output_type": "stream",
          "text": [
            "[[1.         0.09367424]\n",
            " [0.09367424 1.        ]]\n"
          ],
          "name": "stdout"
        }
      ]
    },
    {
      "cell_type": "code",
      "metadata": {
        "id": "7o0YCo916wcR",
        "colab": {
          "base_uri": "https://localhost:8080/",
          "height": 404
        },
        "outputId": "43390541-7fc9-42a1-af0f-227cee9e0a65"
      },
      "source": [
        "plt.figure(figsize=(10, 6))\n",
        "plt.subplot(1, 2, 1)\n",
        "\n",
        "#Tokens Length Plot\n",
        "plt.hist(tr_cl.len_text, 50, color= \"green\")\n",
        "plt.title(\"Text Length\")\n",
        "plt.xlabel(\"Number of Words after Text Cleaning\")\n",
        "plt.ylabel(\"No of articles\")\n",
        "\n",
        "plt.show()"
      ],
      "execution_count": null,
      "outputs": [
        {
          "output_type": "display_data",
          "data": {
            "image/png": "[encoded data removed]",
            "text/plain": [
              "<Figure size 720x432 with 1 Axes>"
            ]
          },
          "metadata": {
            "tags": [],
            "needs_background": "light"
          }
        }
      ]
    },
    {
      "cell_type": "code",
      "metadata": {
        "id": "WDfWUVehiwoW",
        "colab": {
          "base_uri": "https://localhost:8080/",
          "height": 187
        },
        "outputId": "a691290f-0a69-4896-9ec6-2202febc9475"
      },
      "source": [
        "#post-cleaning\n",
        "print(tr_cl.text[4])\n",
        "#pre-cleaning\n",
        "tr_new = tr_new.reset_index(drop = True)\n",
        "print(tr_new.text[4])\n",
        "\n",
        "##changes better to well but best to good"
      ],
      "execution_count": null,
      "outputs": [
        {
          "output_type": "stream",
          "text": [
            "['robotic', 'meditation', 'therapy', 'artificial', 'intelligence', 'feeling', 'robot', 'love', 'well', 'human', 'discuss', 'michelle', 'tsng', 'podcast', 'crazy', 'wisdom', 'say', 'robot', 'love', 'well', 'human', 'no', 'judgement', 'human', 'being', 'particularly', 'one', 'traumatize', 'subconsciously', 'detect', 'judge', 'know', 'true', 'feeling', 'hide', 'people', 'judge', 'good', 'guide', 'find', 'withhold', 'judgmental', 'thought', 'express', 'safe', 'warm', 'loving', 'connection', 'robot', 'sophisticated', 'able', 'provide', 'love', 'warm', 'connection', 'audio', 'clip', 'michelle', 'discuss', 'experience', 'talk', 'sofia', 'robotic', 'companion', 'human', 'being', 'say', 'soon', 'build', 'robot', 'well', 'love', 'human', 'think', 'feel', 'comfortable', 'share', 'intimate', 'experience', 'seek', 'therapeutic', 'treatment', 'robot', 'check', 'interview', 'website']\n",
            "Robotics, Meditation, Therapy, Artificial Intelligence, Feelings Can a robot love us better than another human can?\n",
            "\n",
            "I discussed this with Michelle Tsng on my Podcast “Crazy Wisdom”.\n",
            "She says that a robot can love us better than a human being because there is no judgement. Human beings, particularly ones who have been traumatized can subconsciously detect when someone is judging them. They know when to keep their true feelings hidden from people who judge them and thus the best guide they can find is someone who can withhold judgmental thoughts and just express a safe, warm, and loving connection.\n",
            "As robots become more sophisticated they might be able to provide this loving and warm connection. In this audio clip, Michelle discusses her experiences talking with Sofia, a robotic companion to human beings. She says that soon we will build robots who are better at love than humans are.\n",
            "What do you think? Would you ever feel comfortable sharing your most intimate experiences or seeking therapeutic treatment from a robot?\n",
            "You can check out the full interview on my website.\n",
            "\n"
          ],
          "name": "stdout"
        }
      ]
    },
    {
      "cell_type": "markdown",
      "metadata": {
        "id": "u-hwW4Z97mOB"
      },
      "source": [
        "Short texts (less than ten tokens) seem to have less claps than longer texts with a few exceptions. However, those exceptions are the mentioned blog posts that contain images with text rather than \"scrappable\" text."
      ]
    },
    {
      "cell_type": "code",
      "metadata": {
        "id": "zV7U6LT38Owq",
        "colab": {
          "base_uri": "https://localhost:8080/",
          "height": 286
        },
        "outputId": "0add5f92-1c63-4b27-9a23-89f7ce048a47"
      },
      "source": [
        "tr_cl[\"text_len\"] = [len(x) for x in tr_cl.text.values]\n",
        "text_short = tr_cl.loc[tr_cl.text_len < 10, [\"totalClapCount\"]]\n",
        "text_short.describe()"
      ],
      "execution_count": null,
      "outputs": [
        {
          "output_type": "execute_result",
          "data": {
            "text/html": [
              "<div>\n",
              "<style scoped>\n",
              "    .dataframe tbody tr th:only-of-type {\n",
              "        vertical-align: middle;\n",
              "    }\n",
              "\n",
              "    .dataframe tbody tr th {\n",
              "        vertical-align: top;\n",
              "    }\n",
              "\n",
              "    .dataframe thead th {\n",
              "        text-align: right;\n",
              "    }\n",
              "</style>\n",
              "<table border=\"1\" class=\"dataframe\">\n",
              "  <thead>\n",
              "    <tr style=\"text-align: right;\">\n",
              "      <th></th>\n",
              "      <th>totalClapCount</th>\n",
              "    </tr>\n",
              "  </thead>\n",
              "  <tbody>\n",
              "    <tr>\n",
              "      <th>count</th>\n",
              "      <td>102.000000</td>\n",
              "    </tr>\n",
              "    <tr>\n",
              "      <th>mean</th>\n",
              "      <td>23.784314</td>\n",
              "    </tr>\n",
              "    <tr>\n",
              "      <th>std</th>\n",
              "      <td>94.378281</td>\n",
              "    </tr>\n",
              "    <tr>\n",
              "      <th>min</th>\n",
              "      <td>0.000000</td>\n",
              "    </tr>\n",
              "    <tr>\n",
              "      <th>25%</th>\n",
              "      <td>0.000000</td>\n",
              "    </tr>\n",
              "    <tr>\n",
              "      <th>50%</th>\n",
              "      <td>0.000000</td>\n",
              "    </tr>\n",
              "    <tr>\n",
              "      <th>75%</th>\n",
              "      <td>1.000000</td>\n",
              "    </tr>\n",
              "    <tr>\n",
              "      <th>max</th>\n",
              "      <td>632.000000</td>\n",
              "    </tr>\n",
              "  </tbody>\n",
              "</table>\n",
              "</div>"
            ],
            "text/plain": [
              "       totalClapCount\n",
              "count      102.000000\n",
              "mean        23.784314\n",
              "std         94.378281\n",
              "min          0.000000\n",
              "25%          0.000000\n",
              "50%          0.000000\n",
              "75%          1.000000\n",
              "max        632.000000"
            ]
          },
          "metadata": {
            "tags": []
          },
          "execution_count": 300
        }
      ]
    },
    {
      "cell_type": "markdown",
      "metadata": {
        "id": "4j6fux7p6TPD"
      },
      "source": [
        "**Checkpoint**"
      ]
    },
    {
      "cell_type": "code",
      "metadata": {
        "id": "3zXff84IgfaG"
      },
      "source": [
        "#SAVE cleaned training data file\n",
        "import pickle\n",
        "with open(\"train_cleaned\", \"wb\") as path_name:\n",
        "  pickle.dump(train_cleaned, path_name)"
      ],
      "execution_count": null,
      "outputs": []
    },
    {
      "cell_type": "code",
      "metadata": {
        "id": "8_y4FRMkguX9",
        "colab": {
          "base_uri": "https://localhost:8080/",
          "height": 53
        },
        "outputId": "e7ba7159-0ea8-4d4d-a599-ea4b21f14e80"
      },
      "source": [
        "#LOAD cleaned training data file\n",
        "import pickle\n",
        "with open(\"train_cleaned\", \"rb\") as path_name:\n",
        "  tr_cl = pickle.load(path_name)\n",
        "\n",
        "print(tr_cl.loc[10, \"text\"])"
      ],
      "execution_count": null,
      "outputs": [
        {
          "output_type": "stream",
          "text": [
            "['artificial', 'intelligence', 'ai', 'impact', 'world', 'actually', 'ai', 'efiicte', 'world', 'good', 'way', 'efficient', 'way', 'go', 'to', 'kill', 'no', 'different', 'job', 'world', 'today', 'go', 'to', 'automate', 'open', 'open', 'no', 'opportunity', 'different', 'job', 'jobs', 'people', 'like', 'current', 'world', 'save', 'complex', 'statistic', 'mathematics', 'didn', 'ai', 'ai', 'get', 'new', 'feature', 'like', 'machine', 'talk', 'like', 'human', 'someday', 'machine', 'not', 'machine', 'human', 'like', 'solve', 'no', 'current', 'problem', 'fear', 'ai', 'apoocylapse', 'not', 'usedsny', 'command', 'line', 'server', 'language', 'programmer', 'know', 'machine', 'way', 'dumb', 'human']\n"
          ],
          "name": "stdout"
        }
      ]
    },
    {
      "cell_type": "code",
      "metadata": {
        "id": "xEHImqADtYdx"
      },
      "source": [
        "from nltk.tokenize.treebank import TreebankWordDetokenizer\n",
        "tr_cl[\"text_cl\"] = [TreebankWordDetokenizer().detokenize(token) for token in tr_cl.text] #needed as an input for afinn and for one-hot-encoding"
      ],
      "execution_count": null,
      "outputs": []
    },
    {
      "cell_type": "markdown",
      "metadata": {
        "id": "drqNlQ-xHfF6"
      },
      "source": [
        "###Sentiment Analysis"
      ]
    },
    {
      "cell_type": "markdown",
      "metadata": {
        "id": "mbWjbmDdxRP8"
      },
      "source": [
        "The idea behind conducting a sentiment analysis, even though the scrapped articles were mainly tech related article which are not exactly famous for their emotionality, was that we observed that the very high claps were blog posts with emotional topic such as chronic depression or groundbreaking skills. However, the results were not very promising and thus were not examined any further. For the sake of completeness the brief sentiment is still in the assignment post since I might be an interesting topic for further research."
      ]
    },
    {
      "cell_type": "code",
      "metadata": {
        "id": "eNEgvnLfXyjK",
        "colab": {
          "base_uri": "https://localhost:8080/",
          "height": 67
        },
        "outputId": "2e3277b4-428a-4941-b36d-9561513ced91"
      },
      "source": [
        "a = \"totalClapCount > 150000\"\n",
        "highclaps = tr_cl.query(a)\n",
        "highclaps[\"title\"]"
      ],
      "execution_count": null,
      "outputs": [
        {
          "output_type": "execute_result",
          "data": {
            "text/plain": [
              "35112    My name is Wil Wheaton. I Live With Chronic De...\n",
              "38329           The Most Important Skill Nobody Taught You\n",
              "Name: title, dtype: object"
            ]
          },
          "metadata": {
            "tags": []
          },
          "execution_count": 303
        }
      ]
    },
    {
      "cell_type": "code",
      "metadata": {
        "id": "HAO8AaGZuF5a",
        "colab": {
          "base_uri": "https://localhost:8080/",
          "height": 204
        },
        "outputId": "12236d80-057a-4dd8-f966-a02298a531fd"
      },
      "source": [
        "af = Afinn()\n",
        "#Afinn - dictionary based results might be biased towards positive articles as the result showed in the tut #11 regarding the reviews of movies."
      ],
      "execution_count": null,
      "outputs": [
        {
          "output_type": "stream",
          "text": [
            "Collecting afinn\n",
            "\u001b[?25l  Downloading https://files.pythonhosted.org/packages/86/e5/ffbb7ee3cca21ac6d310ac01944fb163c20030b45bda25421d725d8a859a/afinn-0.1.tar.gz (52kB)\n",
            "\r\u001b[K     |██████▎                         | 10kB 11.2MB/s eta 0:00:01\r\u001b[K     |████████████▌                   | 20kB 1.8MB/s eta 0:00:01\r\u001b[K     |██████████████████▊             | 30kB 2.3MB/s eta 0:00:01\r\u001b[K     |█████████████████████████       | 40kB 2.6MB/s eta 0:00:01\r\u001b[K     |███████████████████████████████▏| 51kB 2.1MB/s eta 0:00:01\r\u001b[K     |████████████████████████████████| 61kB 1.8MB/s \n",
            "\u001b[?25hBuilding wheels for collected packages: afinn\n",
            "  Building wheel for afinn (setup.py) ... \u001b[?25l\u001b[?25hdone\n",
            "  Created wheel for afinn: filename=afinn-0.1-cp36-none-any.whl size=53453 sha256=03608037d68ca8d78fcfbbbc805ec57cbfbf9befd00315a00abda1824dbd53db\n",
            "  Stored in directory: /root/.cache/pip/wheels/b5/1c/de/428301f3333ca509dcf20ff358690eb23a1388fbcbbde008b2\n",
            "Successfully built afinn\n",
            "Installing collected packages: afinn\n",
            "Successfully installed afinn-0.1\n"
          ],
          "name": "stdout"
        }
      ]
    },
    {
      "cell_type": "code",
      "metadata": {
        "id": "XtZu3syGn1mm"
      },
      "source": [
        "tr_cl[\"text_cl\"] = tr_cl[\"text_cl\"][:400] "
      ],
      "execution_count": null,
      "outputs": []
    },
    {
      "cell_type": "code",
      "metadata": {
        "id": "yBcOqe511x2B"
      },
      "source": [
        "start = time.time()\n",
        "tr_cl[\"sentiment\"] = tr_cl[\"text_cl\"].apply(af.score)\n",
        "end = time.time()\n",
        "\n",
        "print(\"Processed {} articles in {:.0f} sec.\".format(tr_cl.shape[0], end-start))"
      ],
      "execution_count": null,
      "outputs": []
    },
    {
      "cell_type": "code",
      "metadata": {
        "id": "Cph0lb39yGI0"
      },
      "source": [
        "tr_cl[\"text_len\"] = tr_cl.text.apply(len)\n",
        "#tr_cl[\"rel_sentiment\"] = tr_cl.apply(lambda row: row[\"sentiment\"] / row[\"text_len\"], axis=1)"
      ],
      "execution_count": null,
      "outputs": []
    },
    {
      "cell_type": "code",
      "metadata": {
        "id": "jI0eP-h7igM8"
      },
      "source": [
        "tr_cl[[\"totalClapCount\", \"sentiment\", \"text_len\", \"emotionality\"]]"
      ],
      "execution_count": null,
      "outputs": []
    },
    {
      "cell_type": "code",
      "metadata": {
        "id": "h61NQ9hycgYS"
      },
      "source": [
        "tr_cl[\"emotionality\"] = np.where((tr_cl[\"sentiment\"] > 70) | (tr_cl[\"sentiment\"] < -70), 1, 0) #1 = very emotional"
      ],
      "execution_count": null,
      "outputs": []
    },
    {
      "cell_type": "code",
      "metadata": {
        "id": "KWhMC2CTdaLJ",
        "colab": {
          "base_uri": "https://localhost:8080/",
          "height": 68
        },
        "outputId": "45af097b-098f-46ff-f360-6ed338c56a64"
      },
      "source": [
        "tr_cl.emotionality.value_counts()"
      ],
      "execution_count": null,
      "outputs": [
        {
          "output_type": "execute_result",
          "data": {
            "text/plain": [
              "0    17101\n",
              "1     2898\n",
              "Name: emotionality, dtype: int64"
            ]
          },
          "metadata": {
            "tags": []
          },
          "execution_count": 69
        }
      ]
    },
    {
      "cell_type": "code",
      "metadata": {
        "id": "pPp40-j0gW4g"
      },
      "source": [
        "emotional = tr_cl.loc[tr_cl.emotionality == 1, [\"totalClapCount\"]]\n",
        "unemotional = tr_cl.loc[tr_cl.emotionality == 0, [\"totalClapCount\"]]"
      ],
      "execution_count": null,
      "outputs": []
    },
    {
      "cell_type": "code",
      "metadata": {
        "id": "RcI_8yICf2px"
      },
      "source": [
        "#total clap counts of emotional texts\n",
        "plt.figure(figsize=(10, 6))\n",
        "plt.subplot(1, 2, 1)\n",
        "plt.hist(emotional.totalClapCount, 200, color = \"green\", density = True , range = (10,400))\n",
        "plt.title(\"Total Clap Counts of emotional articles\")\n",
        "plt.xlabel(\"# of Claps\")\n",
        "#total clap counts of less emotional texts\n",
        "plt.subplot(1, 2, 2)\n",
        "plt.hist(unemotional.totalClapCount, 200,color = \"darkorange\", density = True , range = (10,400))\n",
        "plt.title(\"Total clap counts of less emotional texts\")\n",
        "plt.xlabel(\"# of Claps\")\n",
        "plt.subplots_adjust(bottom=0.25, top=0.75)\n",
        "plt.show()"
      ],
      "execution_count": null,
      "outputs": []
    },
    {
      "cell_type": "code",
      "metadata": {
        "id": "Uhub9WAKkDBd",
        "colab": {
          "base_uri": "https://localhost:8080/",
          "height": 328
        },
        "outputId": "f41eb9bc-60df-450f-e025-6573d5ae9dc9"
      },
      "source": [
        "highclaps = tr_cl.loc[tr_cl.totalClapCount > 30000, [\"totalClapCount\", \"emotionality\", \"sentiment\", \"title\"]]\n",
        "highclaps"
      ],
      "execution_count": null,
      "outputs": [
        {
          "output_type": "execute_result",
          "data": {
            "text/html": [
              "<div>\n",
              "<style scoped>\n",
              "    .dataframe tbody tr th:only-of-type {\n",
              "        vertical-align: middle;\n",
              "    }\n",
              "\n",
              "    .dataframe tbody tr th {\n",
              "        vertical-align: top;\n",
              "    }\n",
              "\n",
              "    .dataframe thead th {\n",
              "        text-align: right;\n",
              "    }\n",
              "</style>\n",
              "<table border=\"1\" class=\"dataframe\">\n",
              "  <thead>\n",
              "    <tr style=\"text-align: right;\">\n",
              "      <th></th>\n",
              "      <th>totalClapCount</th>\n",
              "      <th>emotionality</th>\n",
              "      <th>sentiment</th>\n",
              "      <th>title</th>\n",
              "    </tr>\n",
              "  </thead>\n",
              "  <tbody>\n",
              "    <tr>\n",
              "      <th>590</th>\n",
              "      <td>47445.0</td>\n",
              "      <td>0</td>\n",
              "      <td>23.0</td>\n",
              "      <td>Learning Python: From Zero to Hero</td>\n",
              "    </tr>\n",
              "    <tr>\n",
              "      <th>2930</th>\n",
              "      <td>39376.0</td>\n",
              "      <td>0</td>\n",
              "      <td>13.0</td>\n",
              "      <td>Want to know how Deep Learning works? Here’s a...</td>\n",
              "    </tr>\n",
              "    <tr>\n",
              "      <th>5729</th>\n",
              "      <td>49838.0</td>\n",
              "      <td>0</td>\n",
              "      <td>21.0</td>\n",
              "      <td>I interviewed at five top companies in Silicon...</td>\n",
              "    </tr>\n",
              "    <tr>\n",
              "      <th>12640</th>\n",
              "      <td>79766.0</td>\n",
              "      <td>0</td>\n",
              "      <td>9.0</td>\n",
              "      <td>Towards a Bra-free Instagram Experience</td>\n",
              "    </tr>\n",
              "    <tr>\n",
              "      <th>14560</th>\n",
              "      <td>33856.0</td>\n",
              "      <td>0</td>\n",
              "      <td>12.0</td>\n",
              "      <td>The Snips AIR Token Sale</td>\n",
              "    </tr>\n",
              "    <tr>\n",
              "      <th>16485</th>\n",
              "      <td>112595.0</td>\n",
              "      <td>0</td>\n",
              "      <td>-2.0</td>\n",
              "      <td>We fired our top talent. Best decision we ever...</td>\n",
              "    </tr>\n",
              "    <tr>\n",
              "      <th>17956</th>\n",
              "      <td>32693.0</td>\n",
              "      <td>0</td>\n",
              "      <td>30.0</td>\n",
              "      <td>What exactly can you do with Python? Here are ...</td>\n",
              "    </tr>\n",
              "    <tr>\n",
              "      <th>18499</th>\n",
              "      <td>42710.0</td>\n",
              "      <td>0</td>\n",
              "      <td>27.0</td>\n",
              "      <td>Fast-forward twenty years with Anything App.</td>\n",
              "    </tr>\n",
              "    <tr>\n",
              "      <th>19092</th>\n",
              "      <td>35192.0</td>\n",
              "      <td>0</td>\n",
              "      <td>-14.0</td>\n",
              "      <td>Cognitive bias cheat sheet</td>\n",
              "    </tr>\n",
              "  </tbody>\n",
              "</table>\n",
              "</div>"
            ],
            "text/plain": [
              "       totalClapCount  ...                                              title\n",
              "590           47445.0  ...                 Learning Python: From Zero to Hero\n",
              "2930          39376.0  ...  Want to know how Deep Learning works? Here’s a...\n",
              "5729          49838.0  ...  I interviewed at five top companies in Silicon...\n",
              "12640         79766.0  ...            Towards a Bra-free Instagram Experience\n",
              "14560         33856.0  ...                           The Snips AIR Token Sale\n",
              "16485        112595.0  ...  We fired our top talent. Best decision we ever...\n",
              "17956         32693.0  ...  What exactly can you do with Python? Here are ...\n",
              "18499         42710.0  ...       Fast-forward twenty years with Anything App.\n",
              "19092         35192.0  ...                         Cognitive bias cheat sheet\n",
              "\n",
              "[9 rows x 4 columns]"
            ]
          },
          "metadata": {
            "tags": []
          },
          "execution_count": 88
        }
      ]
    },
    {
      "cell_type": "code",
      "metadata": {
        "id": "0JxjjJN0kqrp",
        "colab": {
          "base_uri": "https://localhost:8080/",
          "height": 235
        },
        "outputId": "248b9e67-af3e-4035-87fc-8e83c980f6d8"
      },
      "source": [
        "neg_senti = tr_cl.loc[tr_cl.sentiment < -80, [\"totalClapCount\", \"emotionality\", \"sentiment\", \"title\"]]\n",
        "neg_senti #very negative sentiment has barely any claps"
      ],
      "execution_count": null,
      "outputs": [
        {
          "output_type": "execute_result",
          "data": {
            "text/html": [
              "<div>\n",
              "<style scoped>\n",
              "    .dataframe tbody tr th:only-of-type {\n",
              "        vertical-align: middle;\n",
              "    }\n",
              "\n",
              "    .dataframe tbody tr th {\n",
              "        vertical-align: top;\n",
              "    }\n",
              "\n",
              "    .dataframe thead th {\n",
              "        text-align: right;\n",
              "    }\n",
              "</style>\n",
              "<table border=\"1\" class=\"dataframe\">\n",
              "  <thead>\n",
              "    <tr style=\"text-align: right;\">\n",
              "      <th></th>\n",
              "      <th>totalClapCount</th>\n",
              "      <th>emotionality</th>\n",
              "      <th>sentiment</th>\n",
              "      <th>title</th>\n",
              "    </tr>\n",
              "  </thead>\n",
              "  <tbody>\n",
              "    <tr>\n",
              "      <th>663</th>\n",
              "      <td>2.0</td>\n",
              "      <td>1</td>\n",
              "      <td>-100.0</td>\n",
              "      <td>Fraud Detection with ML</td>\n",
              "    </tr>\n",
              "    <tr>\n",
              "      <th>2936</th>\n",
              "      <td>0.0</td>\n",
              "      <td>1</td>\n",
              "      <td>-156.0</td>\n",
              "      <td>Pdf Download eBook Free Fraud Analytics Using ...</td>\n",
              "    </tr>\n",
              "    <tr>\n",
              "      <th>7065</th>\n",
              "      <td>0.0</td>\n",
              "      <td>1</td>\n",
              "      <td>-160.0</td>\n",
              "      <td>Download pdf Online No bullshit guide to linea...</td>\n",
              "    </tr>\n",
              "    <tr>\n",
              "      <th>9759</th>\n",
              "      <td>0.0</td>\n",
              "      <td>1</td>\n",
              "      <td>-111.0</td>\n",
              "      <td>Fraud Management: Detection and Prevention in ...</td>\n",
              "    </tr>\n",
              "    <tr>\n",
              "      <th>14490</th>\n",
              "      <td>0.0</td>\n",
              "      <td>1</td>\n",
              "      <td>-84.0</td>\n",
              "      <td>Google is Using its AI to Track U.S. Hate Crimes</td>\n",
              "    </tr>\n",
              "    <tr>\n",
              "      <th>18784</th>\n",
              "      <td>0.0</td>\n",
              "      <td>1</td>\n",
              "      <td>-87.0</td>\n",
              "      <td>Why Every Business Needs Fraud Analytics</td>\n",
              "    </tr>\n",
              "  </tbody>\n",
              "</table>\n",
              "</div>"
            ],
            "text/plain": [
              "       totalClapCount  ...                                              title\n",
              "663               2.0  ...                            Fraud Detection with ML\n",
              "2936              0.0  ...  Pdf Download eBook Free Fraud Analytics Using ...\n",
              "7065              0.0  ...  Download pdf Online No bullshit guide to linea...\n",
              "9759              0.0  ...  Fraud Management: Detection and Prevention in ...\n",
              "14490             0.0  ...   Google is Using its AI to Track U.S. Hate Crimes\n",
              "18784             0.0  ...           Why Every Business Needs Fraud Analytics\n",
              "\n",
              "[6 rows x 4 columns]"
            ]
          },
          "metadata": {
            "tags": []
          },
          "execution_count": 95
        }
      ]
    },
    {
      "cell_type": "code",
      "metadata": {
        "id": "446zLedtlWlH",
        "colab": {
          "base_uri": "https://localhost:8080/",
          "height": 545
        },
        "outputId": "ce604369-7a94-4c10-f7dd-a9e74e1ad6e9"
      },
      "source": [
        "pos_senti = tr_cl.loc[tr_cl.sentiment > 80, [\"totalClapCount\", \"emotionality\", \"sentiment\", \"title\"]]\n",
        "pos_senti #very negative sentiment has barely any claps"
      ],
      "execution_count": null,
      "outputs": [
        {
          "output_type": "execute_result",
          "data": {
            "text/html": [
              "<div>\n",
              "<style scoped>\n",
              "    .dataframe tbody tr th:only-of-type {\n",
              "        vertical-align: middle;\n",
              "    }\n",
              "\n",
              "    .dataframe tbody tr th {\n",
              "        vertical-align: top;\n",
              "    }\n",
              "\n",
              "    .dataframe thead th {\n",
              "        text-align: right;\n",
              "    }\n",
              "</style>\n",
              "<table border=\"1\" class=\"dataframe\">\n",
              "  <thead>\n",
              "    <tr style=\"text-align: right;\">\n",
              "      <th></th>\n",
              "      <th>totalClapCount</th>\n",
              "      <th>emotionality</th>\n",
              "      <th>sentiment</th>\n",
              "      <th>title</th>\n",
              "    </tr>\n",
              "  </thead>\n",
              "  <tbody>\n",
              "    <tr>\n",
              "      <th>2225</th>\n",
              "      <td>0.0</td>\n",
              "      <td>1</td>\n",
              "      <td>81.0</td>\n",
              "      <td>Introducing “NEVA” by NICE — The First Robotic...</td>\n",
              "    </tr>\n",
              "    <tr>\n",
              "      <th>3706</th>\n",
              "      <td>5.0</td>\n",
              "      <td>1</td>\n",
              "      <td>114.0</td>\n",
              "      <td>We analyzed historical Super Bowl data and fou...</td>\n",
              "    </tr>\n",
              "    <tr>\n",
              "      <th>4776</th>\n",
              "      <td>0.0</td>\n",
              "      <td>1</td>\n",
              "      <td>110.0</td>\n",
              "      <td>Pdf download Journey to Data Scientist: Interv...</td>\n",
              "    </tr>\n",
              "    <tr>\n",
              "      <th>4996</th>\n",
              "      <td>234.0</td>\n",
              "      <td>1</td>\n",
              "      <td>88.0</td>\n",
              "      <td>Artificial Intelligence (AI) In Beauty Industry</td>\n",
              "    </tr>\n",
              "    <tr>\n",
              "      <th>8480</th>\n",
              "      <td>0.0</td>\n",
              "      <td>1</td>\n",
              "      <td>96.0</td>\n",
              "      <td>Download pdf Read Online Howl’s Moving Castle ...</td>\n",
              "    </tr>\n",
              "    <tr>\n",
              "      <th>9405</th>\n",
              "      <td>526.0</td>\n",
              "      <td>1</td>\n",
              "      <td>87.0</td>\n",
              "      <td>Free game-analytics on moreMMR.com VS DotA Plus</td>\n",
              "    </tr>\n",
              "    <tr>\n",
              "      <th>11582</th>\n",
              "      <td>0.0</td>\n",
              "      <td>1</td>\n",
              "      <td>96.0</td>\n",
              "      <td>Read Artificial Intelligence: A Guide To Intel...</td>\n",
              "    </tr>\n",
              "    <tr>\n",
              "      <th>12240</th>\n",
              "      <td>0.0</td>\n",
              "      <td>1</td>\n",
              "      <td>90.0</td>\n",
              "      <td>buy elo boost</td>\n",
              "    </tr>\n",
              "    <tr>\n",
              "      <th>13038</th>\n",
              "      <td>0.0</td>\n",
              "      <td>1</td>\n",
              "      <td>99.0</td>\n",
              "      <td>Tips on How to Hire an Artificial Intelligence...</td>\n",
              "    </tr>\n",
              "    <tr>\n",
              "      <th>14387</th>\n",
              "      <td>106.0</td>\n",
              "      <td>1</td>\n",
              "      <td>83.0</td>\n",
              "      <td>2017 in review — startups, bots &amp; AI</td>\n",
              "    </tr>\n",
              "    <tr>\n",
              "      <th>15427</th>\n",
              "      <td>15.0</td>\n",
              "      <td>1</td>\n",
              "      <td>83.0</td>\n",
              "      <td>KDD 2018 Announces Best Paper &amp; Other Awards</td>\n",
              "    </tr>\n",
              "    <tr>\n",
              "      <th>17515</th>\n",
              "      <td>0.0</td>\n",
              "      <td>1</td>\n",
              "      <td>97.0</td>\n",
              "      <td>Download Robot Ethics: The Ethical and Social ...</td>\n",
              "    </tr>\n",
              "    <tr>\n",
              "      <th>18422</th>\n",
              "      <td>105.0</td>\n",
              "      <td>1</td>\n",
              "      <td>85.0</td>\n",
              "      <td>Basketball Analytics: Predicting Win Shares</td>\n",
              "    </tr>\n",
              "    <tr>\n",
              "      <th>18661</th>\n",
              "      <td>1322.0</td>\n",
              "      <td>1</td>\n",
              "      <td>83.0</td>\n",
              "      <td>Sustainable Product Growth</td>\n",
              "    </tr>\n",
              "    <tr>\n",
              "      <th>19480</th>\n",
              "      <td>92.0</td>\n",
              "      <td>1</td>\n",
              "      <td>93.0</td>\n",
              "      <td>IJCAI 2018 Kicks Off; DeepMind AlphaGo Wins Ma...</td>\n",
              "    </tr>\n",
              "    <tr>\n",
              "      <th>19608</th>\n",
              "      <td>1.0</td>\n",
              "      <td>1</td>\n",
              "      <td>85.0</td>\n",
              "      <td>Why Beauty Is Essential to Human Survival</td>\n",
              "    </tr>\n",
              "  </tbody>\n",
              "</table>\n",
              "</div>"
            ],
            "text/plain": [
              "       totalClapCount  ...                                              title\n",
              "2225              0.0  ...  Introducing “NEVA” by NICE — The First Robotic...\n",
              "3706              5.0  ...  We analyzed historical Super Bowl data and fou...\n",
              "4776              0.0  ...  Pdf download Journey to Data Scientist: Interv...\n",
              "4996            234.0  ...    Artificial Intelligence (AI) In Beauty Industry\n",
              "8480              0.0  ...  Download pdf Read Online Howl’s Moving Castle ...\n",
              "9405            526.0  ...    Free game-analytics on moreMMR.com VS DotA Plus\n",
              "11582             0.0  ...  Read Artificial Intelligence: A Guide To Intel...\n",
              "12240             0.0  ...                                      buy elo boost\n",
              "13038             0.0  ...  Tips on How to Hire an Artificial Intelligence...\n",
              "14387           106.0  ...               2017 in review — startups, bots & AI\n",
              "15427            15.0  ...       KDD 2018 Announces Best Paper & Other Awards\n",
              "17515             0.0  ...  Download Robot Ethics: The Ethical and Social ...\n",
              "18422           105.0  ...        Basketball Analytics: Predicting Win Shares\n",
              "18661          1322.0  ...                         Sustainable Product Growth\n",
              "19480            92.0  ...  IJCAI 2018 Kicks Off; DeepMind AlphaGo Wins Ma...\n",
              "19608             1.0  ...          Why Beauty Is Essential to Human Survival\n",
              "\n",
              "[16 rows x 4 columns]"
            ]
          },
          "metadata": {
            "tags": []
          },
          "execution_count": 97
        }
      ]
    },
    {
      "cell_type": "code",
      "metadata": {
        "id": "tp9B5eK79hZf",
        "colab": {
          "base_uri": "https://localhost:8080/",
          "height": 119
        },
        "outputId": "e28534ea-cca7-4ec8-d8aa-bcd3248d6cb0"
      },
      "source": [
        "print(np.corrcoef(tr_cl.totalClapCount, tr_cl.sentiment))\n",
        "#print(np.corrcoef(tr_cl.totalClapCount, tr_cl.rel_sentiment))\n",
        "print(np.corrcoef(tr_cl.totalClapCount, tr_cl.text_len))\n",
        "#validation check: should be somewhat positive correlated \n",
        "print(np.corrcoef(tr_cl.text_len, tr_cl.sentiment))"
      ],
      "execution_count": null,
      "outputs": [
        {
          "output_type": "stream",
          "text": [
            "[[ 1.         -0.00419232]\n",
            " [-0.00419232  1.        ]]\n",
            "[[1.         0.02545214]\n",
            " [0.02545214 1.        ]]\n",
            "[[1.         0.21701534]\n",
            " [0.21701534 1.        ]]\n"
          ],
          "name": "stdout"
        }
      ]
    },
    {
      "cell_type": "markdown",
      "metadata": {
        "id": "u2xxU01oFrQa"
      },
      "source": [
        "## Embeddings\n",
        "\n",
        "Before feeding the words to a neural network with the target of predicting the clap scores, the words of the blog posts can be be transformed into number in order to keep information about the relation between words, e.g. how similar a word is to another or the co-occurence of words. This is either possible with pre-trained embedding as well as with \"self-trained\" embeddings. The goal is to catch the semantic as well as syntatic relationship between words. Both option will be applied and compared. <br>\n",
        "Training own embeddings is computationally very costly and can take up a long time. Furthermore, it is dependend on the amount and quality of the training data, the used algorithm and the size of the vectors. The underlying hardware has a significant impact and sets limitation on the choice of the parameters of the algorithm such as the dimensions of the vector. However, the upside of this approach is that the word embeddings are tailored to solve a task with exactly the underlying kind of data. In contrast, pre-trained embeddings contain huge amounts of data in their embeddings. But, they might be trained on different kinds of data and therefore, might be outperformed by the self-trained embeddings. It is possible to fine-tune them with the target corpus. [4] <br>\n"
      ]
    },
    {
      "cell_type": "code",
      "metadata": {
        "id": "emgcBCO0zBYS"
      },
      "source": [
        "X = tr_cl.loc[:,[\"text\"]] \n",
        "y = tr_cl.loc[:,[\"totalClapCount\"]]\n",
        "X_train, X_test, y_train, y_test = train_test_split(X, y, test_size=0.2, random_state=123) #random state for comparability"
      ],
      "execution_count": null,
      "outputs": []
    },
    {
      "cell_type": "code",
      "metadata": {
        "id": "SegAP5BNLbNh"
      },
      "source": [
        "word_counter = collections.Counter()\n",
        "for r in X_train[\"text\"]:\n",
        "  for w in r:\n",
        "    word_counter.update({w: 1})"
      ],
      "execution_count": null,
      "outputs": []
    },
    {
      "cell_type": "code",
      "metadata": {
        "id": "0Lzw2hUYMID5",
        "colab": {
          "base_uri": "https://localhost:8080/",
          "height": 442
        },
        "outputId": "0a33471e-efa6-4a95-ff20-6829a8bf0d1f"
      },
      "source": [
        "#most common words occuring in the text corpus of X_train\n",
        "word_counter.most_common(25)"
      ],
      "execution_count": null,
      "outputs": [
        {
          "output_type": "execute_result",
          "data": {
            "text/plain": [
              "[('data', 360322),\n",
              " ('ai', 199470),\n",
              " ('not', 175814),\n",
              " ('learn', 152833),\n",
              " ('machine', 149704),\n",
              " ('model', 131426),\n",
              " ('time', 116843),\n",
              " ('use', 107613),\n",
              " ('like', 106578),\n",
              " ('intelligence', 100385),\n",
              " ('work', 98651),\n",
              " ('learning', 93021),\n",
              " ('new', 92458),\n",
              " ('human', 90804),\n",
              " ('technology', 87100),\n",
              " ('artificial', 85584),\n",
              " ('need', 84517),\n",
              " ('way', 73486),\n",
              " ('network', 72830),\n",
              " ('create', 70346),\n",
              " ('people', 69399),\n",
              " ('good', 68987),\n",
              " ('system', 68262),\n",
              " ('company', 66180),\n",
              " ('user', 66115)]"
            ]
          },
          "metadata": {
            "tags": []
          },
          "execution_count": 48
        }
      ]
    },
    {
      "cell_type": "markdown",
      "metadata": {
        "id": "GVnYGDgSkdko"
      },
      "source": [
        "### Self-trained Embeddings"
      ]
    },
    {
      "cell_type": "markdown",
      "metadata": {
        "id": "6ivZWScgBKlu"
      },
      "source": [
        "A famous method for creating word embeddings is Word2Vec. Word2Vec inherits two methods that work slightly different. They are called Skip-Gram (SG) and Common Bag of Words (CBOW). Both are based on neural networks. [4] <br> Skip-gram is slower than cbow but it is more suitable for infrequent words. Both algorithms will be tested with the similar parameter (except window size) in order to be able to compare them. Setting the hyper-parameter is essential for the performance and the accuracy of the resulting embedding. Google suggests to set the window size for cbow to 5 and for skip-gram to 10. The hierarchical softmax function provides better results for infrequent words. In contrast, the negative sampling is more suitable for frequent words but also for vectors with low dimensions. In general, the most dimensions the better. [1] Unfortunately, the computing PC has computational limitations.\n",
        "<br> Often only unigram approaches are applied. However, in the contest of the analysis many important bigrams occur such as artificial intelligence and data science. In order to obtain those bigrams we include the bigram tokens in our analysis. <br>\n",
        "Both models are trained 25 epochs with an embedding dimension with 150 and 300. In the following both models will explained in more detail. <br> \n"
      ]
    },
    {
      "cell_type": "markdown",
      "metadata": {
        "id": "QFodU78EGpTm"
      },
      "source": [
        "####Preparation of Bigram Tokens"
      ]
    },
    {
      "cell_type": "code",
      "metadata": {
        "id": "9DcnlExdGuOV"
      },
      "source": [
        "#including bigrams to word embedding; some unneccessary bigram which do not contribute anything to the word embedding quality\n",
        "#however, very important bigrams such as artificial intelligent etc. are included which contribute a lot; as it can be observed\n",
        "#in the most frequent words the first 10 bigrams are very meaningful regarding the context\n",
        "bigram_model = Phrases(X_train[\"text\"], min_count=100, threshold=2, delimiter=b\"_\")\n",
        "bigram_phraser = Phraser(bigram_model)\n",
        "\n",
        "bigram_token = []\n",
        "for x in X_train[\"text\"]:\n",
        "    bigram_token.append(bigram_phraser[x])"
      ],
      "execution_count": null,
      "outputs": []
    },
    {
      "cell_type": "code",
      "metadata": {
        "id": "Z_yBlICVY9Zt"
      },
      "source": [
        "#count bigrams\n",
        "bigram_counter = collections.Counter()\n",
        "for key in bigram_model.vocab.keys():\n",
        "  if key.decode().find(\"_\")>-1:\n",
        "    bigram_counter[key] += bigram_model.vocab[key]"
      ],
      "execution_count": null,
      "outputs": []
    },
    {
      "cell_type": "code",
      "metadata": {
        "id": "AFZtYcH9ZSuu",
        "colab": {
          "base_uri": "https://localhost:8080/",
          "height": 442
        },
        "outputId": "22220396-43a7-45c1-a3af-8e2b9cdb9af4"
      },
      "source": [
        "bigram_counter.most_common(25)"
      ],
      "execution_count": null,
      "outputs": [
        {
          "output_type": "execute_result",
          "data": {
            "text/plain": [
              "[(b'artificial_intelligence', 78673),\n",
              " (b'machine_learning', 54116),\n",
              " (b'machine_learn', 52847),\n",
              " (b'data_science', 44161),\n",
              " (b'neural_network', 33346),\n",
              " (b'deep_learn', 19734),\n",
              " (b'data_scientist', 17342),\n",
              " (b'deep_learning', 16678),\n",
              " (b'big_data', 14431),\n",
              " (b'data_set', 11296),\n",
              " (b'natural_language', 9291),\n",
              " (b'real_time', 8935),\n",
              " (b'look_like', 8196),\n",
              " (b'social_medium', 7770),\n",
              " (b'use_case', 6998),\n",
              " (b'open_source', 6602),\n",
              " (b'computer_vision', 6536),\n",
              " (b'learning_model', 6529),\n",
              " (b'training_data', 6520),\n",
              " (b'data_analysis', 6514),\n",
              " (b'real_world', 6071),\n",
              " (b'intelligence_ai', 5886),\n",
              " (b'language_processing', 5423),\n",
              " (b'linear_regression', 5410),\n",
              " (b'learn_artificial', 5309)]"
            ]
          },
          "metadata": {
            "tags": []
          },
          "execution_count": 58
        }
      ]
    },
    {
      "cell_type": "markdown",
      "metadata": {
        "id": "OUnBgMMlBDhg"
      },
      "source": [
        "####Skip-gram Model"
      ]
    },
    {
      "cell_type": "markdown",
      "metadata": {
        "id": "rSRd8nijAzvc"
      },
      "source": [
        "The skip-gram approach loops over the each word of the corpus aka the input sequence and tries to predict the neighboring words which are the representation of the context. How many neighboring words is dependend on the parameter \"window_size\". If the window size is e.g. 5, the model tries to predict the two words in front and behind the target word. The model is trained on a one layer neural network. [5]"
      ]
    },
    {
      "cell_type": "code",
      "metadata": {
        "id": "IBHR0H8S-g6r",
        "colab": {
          "base_uri": "https://localhost:8080/",
          "height": 51
        },
        "outputId": "159a310a-3bac-477e-91d8-856ce00e37e6"
      },
      "source": [
        "epochs = 25\n",
        "\n",
        "t1 = time.perf_counter()\n",
        "model_sg_bigram = Word2Vec(bigram_token,\n",
        "                 min_count = 5,## min_count means the frequency benchmark, if =2 and word is used only once - it's not included\n",
        "                 sg = 1, #trains for skip-gram (tut: CBOW by default, we have to add it to specify for skipgram)\n",
        "                 window = 10, #the size of context\n",
        "                 iter = epochs, #how many times the training code will run through the data set, same as epochs (first pass is to create dict)\n",
        "                 size = 150, #size of embedding\n",
        "                 workers = 4, #for parallel computing\n",
        "                 hs = 0) #0 for negative sampling; 1 for softmax function\n",
        "    \n",
        "t2 = time.perf_counter()\n",
        "t3_sg_bigram = (t2-t1)/60\n",
        "print(model_sg_bigram)\n",
        "print(\"The computation of the embedding for the skip-gram model took {:.2f} minutes.\".format(t3_sg_bigram))\n",
        "\n",
        "#with epoch = 15, size = 150\n",
        "#Word2Vec(vocab=58073, size=150, alpha=0.025)\n",
        "#The computation of the embedding for the skip-gram model took 81.55 minutes.\n",
        "\n",
        "#with epoch = 25, size = 300\n",
        "#Word2Vec(vocab=58073, size=300, alpha=0.025)\n",
        "#The computation of the embedding for the skip-gram model took 159.33 minutes.\n",
        "\n",
        "#with epoch = 25, size = 300\n",
        "#Word2Vec(vocab=64334, size=300, alpha=0.025)\n",
        "#The computation of the embedding for the skip-gram model took 179.85 minutes.\n",
        "\n",
        "#with epoch = 25, size = 300\n",
        "#Word2Vec(vocab=64334, size=150, alpha=0.025)\n",
        "#The computation of the embedding for the skip-gram model took 150.50 minutes."
      ],
      "execution_count": null,
      "outputs": [
        {
          "output_type": "stream",
          "text": [
            "Word2Vec(vocab=64334, size=150, alpha=0.025)\n",
            "The computation of the embedding for the skip-gram model took 150.50 minutes.\n"
          ],
          "name": "stdout"
        }
      ]
    },
    {
      "cell_type": "code",
      "metadata": {
        "id": "P7kEDZJJ7QBc",
        "colab": {
          "base_uri": "https://localhost:8080/",
          "height": 258
        },
        "outputId": "a2f5a7ff-af47-474d-dca5-40765307c7d7"
      },
      "source": [
        "#results: 150\n",
        "print(model_sg_bigram.wv.vectors.shape)\n",
        "model_sg_bigram.wv.most_similar(positive=[\"good\"], topn = 10) "
      ],
      "execution_count": null,
      "outputs": [
        {
          "output_type": "stream",
          "text": [
            "(64334, 150)\n"
          ],
          "name": "stdout"
        },
        {
          "output_type": "stream",
          "text": [
            "/usr/local/lib/python3.6/dist-packages/gensim/matutils.py:737: FutureWarning: Conversion of the second argument of issubdtype from `int` to `np.signedinteger` is deprecated. In future, it will be treated as `np.int64 == np.dtype(int).type`.\n",
            "  if np.issubdtype(vec.dtype, np.int):\n"
          ],
          "name": "stderr"
        },
        {
          "output_type": "execute_result",
          "data": {
            "text/plain": [
              "[('best', 0.7949308156967163),\n",
              " ('well', 0.7241239547729492),\n",
              " ('better', 0.6603259444236755),\n",
              " ('bad', 0.6512195467948914),\n",
              " ('great', 0.646959125995636),\n",
              " ('perfect', 0.6388470530509949),\n",
              " ('excellent', 0.6254705786705017),\n",
              " ('decent', 0.6192342042922974),\n",
              " ('not', 0.6097713112831116),\n",
              " ('want', 0.6087747812271118)]"
            ]
          },
          "metadata": {
            "tags": []
          },
          "execution_count": 60
        }
      ]
    },
    {
      "cell_type": "code",
      "metadata": {
        "id": "-5FgA9am53sI",
        "colab": {
          "base_uri": "https://localhost:8080/",
          "height": 258
        },
        "outputId": "f3c542ce-ae15-4ced-eae7-976817cc5dbc"
      },
      "source": [
        "#results: 300\n",
        "print(model_sg_bigram.wv.vectors.shape)\n",
        "model_sg_bigram.wv.most_similar(positive=[\"good\"], topn = 10) #model seems to catch the meaning very well"
      ],
      "execution_count": null,
      "outputs": [
        {
          "output_type": "stream",
          "text": [
            "(64334, 300)\n"
          ],
          "name": "stdout"
        },
        {
          "output_type": "stream",
          "text": [
            "/usr/local/lib/python3.6/dist-packages/gensim/matutils.py:737: FutureWarning: Conversion of the second argument of issubdtype from `int` to `np.signedinteger` is deprecated. In future, it will be treated as `np.int64 == np.dtype(int).type`.\n",
            "  if np.issubdtype(vec.dtype, np.int):\n"
          ],
          "name": "stderr"
        },
        {
          "output_type": "execute_result",
          "data": {
            "text/plain": [
              "[('best', 0.6863915324211121),\n",
              " ('well', 0.6473300457000732),\n",
              " ('bad', 0.596216082572937),\n",
              " ('excellent', 0.5689988732337952),\n",
              " ('great', 0.5610009431838989),\n",
              " ('better', 0.5605751872062683),\n",
              " ('perfect', 0.533531665802002),\n",
              " ('find_good', 0.5205310583114624),\n",
              " ('decent', 0.5025161504745483),\n",
              " ('want', 0.49737104773521423)]"
            ]
          },
          "metadata": {
            "tags": []
          },
          "execution_count": 57
        }
      ]
    },
    {
      "cell_type": "markdown",
      "metadata": {
        "id": "YaXdF1N2BnlH"
      },
      "source": [
        "Saving"
      ]
    },
    {
      "cell_type": "code",
      "metadata": {
        "id": "talkVL_maeTg",
        "colab": {
          "base_uri": "https://localhost:8080/",
          "height": 71
        },
        "outputId": "f2a6f6fc-94d1-45e1-9bc7-a7f795818d9f"
      },
      "source": [
        "#saving\n",
        "embs=\"sg_150_bigram_embeddings.txt\"\n",
        "model_sg_bigram.wv.save_word2vec_format(embs, binary=False)\n",
        "#embs=\"sg_300_bigram_embeddings.txt\"\n",
        "#model_sg_bigram.wv.save_word2vec_format(embs, binary=False)"
      ],
      "execution_count": null,
      "outputs": [
        {
          "output_type": "stream",
          "text": [
            "/usr/local/lib/python3.6/dist-packages/smart_open/smart_open_lib.py:254: UserWarning: This function is deprecated, use smart_open.open instead. See the migration notes for details: https://github.com/RaRe-Technologies/smart_open/blob/master/README.rst#migrating-to-the-new-open-function\n",
            "  'See the migration notes for details: %s' % _MIGRATION_NOTES_URL\n"
          ],
          "name": "stderr"
        }
      ]
    },
    {
      "cell_type": "markdown",
      "metadata": {
        "id": "WoNWaNBwA6Ct"
      },
      "source": [
        "####Cbow Model (Word2Vec)"
      ]
    },
    {
      "cell_type": "markdown",
      "metadata": {
        "id": "Ri4dy672FgU4"
      },
      "source": [
        "The CBOW model works similar to the skip-gram model just the other way around. Instead of predicting the neighboring words, it uses the neighboring words in order to predict the target word. [5]"
      ]
    },
    {
      "cell_type": "code",
      "metadata": {
        "id": "UqF_Xa4w2eZD",
        "colab": {
          "base_uri": "https://localhost:8080/",
          "height": 51
        },
        "outputId": "ff9e8582-fa0b-4b2e-e3cc-512d0c246201"
      },
      "source": [
        "epochs = 25\n",
        "\n",
        "t1 = time.perf_counter()\n",
        "model_cbow_bigram = Word2Vec(bigram_token,\n",
        "                 min_count = 5, # min_count means the frequency benchmark, if =2 and word is used only once - it's not included\n",
        "                 sg = 0, #trains for skip-gram (tut: CBOW by default, we have to add it to specify for skipgram)\n",
        "                 window = 5, #the size of context\n",
        "                 iter = epochs, #how many times the training code will run through the data set, same as epochs (first pass is to create dict)\n",
        "                 size = 300, #size of embedding\n",
        "                 workers = 4, #for parallel computing\n",
        "                 hs = 0) #0 for negative sampling; 1 for softmax function\n",
        "    \n",
        "t2 = time.perf_counter()\n",
        "t3_cbow_bigram = (t2-t1)/60\n",
        "print(model_cbow_bigram)\n",
        "print(\"The computation of the embedding for the cbow model took {:.2f} minutes.\".format(t3_cbow_bigram))\n",
        "\n",
        "#Word2Vec(vocab=56943, size=150, alpha=0.025)\n",
        "#The computation of the embedding for the cbow model took 20.29 minutes.\n",
        "\n",
        "#Word2Vec(vocab=56943, size=300, alpha=0.025)\n",
        "#The computation of the embedding for the cbow model took 22.09 minutes.\n",
        "\n",
        "#Word2Vec(vocab=64334, size=300, alpha=0.025)\n",
        "#The computation of the embedding for the cbow model took 27.93 minutes."
      ],
      "execution_count": null,
      "outputs": [
        {
          "output_type": "stream",
          "text": [
            "Word2Vec(vocab=64334, size=300, alpha=0.025)\n",
            "The computation of the embedding for the cbow model took 27.93 minutes.\n"
          ],
          "name": "stdout"
        }
      ]
    },
    {
      "cell_type": "code",
      "metadata": {
        "id": "Vgy7ZBKJ4Der",
        "colab": {
          "base_uri": "https://localhost:8080/",
          "height": 71
        },
        "outputId": "345f6f5c-1319-4e00-9583-646a0de1e439"
      },
      "source": [
        "#saving (depending on the further use both types of saving can be useful)\n",
        "\n",
        "embs=\"cbow_300_bigram_embeddings.txt\"\n",
        "model_cbow_bigram.wv.save_word2vec_format(embs, binary=False)\n",
        "\n",
        "embs_cbow_bigram = \"w2v_article_text_embeddings_cbow_e25_s300.model\"\n",
        "model_cbow_bigram.wv.save_word2vec_format(embs_cbow_bigram, binary = False)"
      ],
      "execution_count": null,
      "outputs": [
        {
          "output_type": "stream",
          "text": [
            "/usr/local/lib/python3.6/dist-packages/smart_open/smart_open_lib.py:254: UserWarning: This function is deprecated, use smart_open.open instead. See the migration notes for details: https://github.com/RaRe-Technologies/smart_open/blob/master/README.rst#migrating-to-the-new-open-function\n",
            "  'See the migration notes for details: %s' % _MIGRATION_NOTES_URL\n"
          ],
          "name": "stderr"
        }
      ]
    },
    {
      "cell_type": "code",
      "metadata": {
        "id": "pY6msUFZ4C5K",
        "colab": {
          "base_uri": "https://localhost:8080/",
          "height": 258
        },
        "outputId": "71d0c7b4-8585-4286-e956-355f6a73d4c6"
      },
      "source": [
        "print(model_cbow_bigram.wv.vectors.shape)\n",
        "model_cbow_bigram.wv.most_similar(positive=[\"good\"], topn = 10) "
      ],
      "execution_count": null,
      "outputs": [
        {
          "output_type": "stream",
          "text": [
            "(64334, 300)\n"
          ],
          "name": "stdout"
        },
        {
          "output_type": "stream",
          "text": [
            "/usr/local/lib/python3.6/dist-packages/gensim/matutils.py:737: FutureWarning: Conversion of the second argument of issubdtype from `int` to `np.signedinteger` is deprecated. In future, it will be treated as `np.int64 == np.dtype(int).type`.\n",
            "  if np.issubdtype(vec.dtype, np.int):\n"
          ],
          "name": "stderr"
        },
        {
          "output_type": "execute_result",
          "data": {
            "text/plain": [
              "[('well', 0.5801551342010498),\n",
              " ('best', 0.5796145796775818),\n",
              " ('pretty_good', 0.5109511613845825),\n",
              " ('perfect', 0.5035198926925659),\n",
              " ('find_good', 0.48832467198371887),\n",
              " ('decent', 0.4844015836715698),\n",
              " ('great', 0.4740249812602997),\n",
              " ('bad', 0.4659029543399811),\n",
              " ('want', 0.45844513177871704),\n",
              " ('good_way', 0.4515240788459778)]"
            ]
          },
          "metadata": {
            "tags": []
          },
          "execution_count": 67
        }
      ]
    },
    {
      "cell_type": "code",
      "metadata": {
        "id": "A64ylFdkuQNw",
        "colab": {
          "base_uri": "https://localhost:8080/",
          "height": 258
        },
        "outputId": "e01ab2aa-9fb8-4fd4-c55f-1b74d91f298b"
      },
      "source": [
        "print(model_cbow_bigram.wv.vectors.shape)\n",
        "model_cbow_bigram.wv.most_similar(positive=[\"ai\"], topn = 10) "
      ],
      "execution_count": null,
      "outputs": [
        {
          "output_type": "stream",
          "text": [
            "(64334, 300)\n"
          ],
          "name": "stdout"
        },
        {
          "output_type": "stream",
          "text": [
            "/usr/local/lib/python3.6/dist-packages/gensim/matutils.py:737: FutureWarning: Conversion of the second argument of issubdtype from `int` to `np.signedinteger` is deprecated. In future, it will be treated as `np.int64 == np.dtype(int).type`.\n",
            "  if np.issubdtype(vec.dtype, np.int):\n"
          ],
          "name": "stderr"
        },
        {
          "output_type": "execute_result",
          "data": {
            "text/plain": [
              "[('artificial_intelligence', 0.7699136734008789),\n",
              " ('technology', 0.6802035570144653),\n",
              " ('ai_ml', 0.5772320032119751),\n",
              " ('new_technology', 0.531817615032196),\n",
              " ('cognitive_technology', 0.5301433801651001),\n",
              " ('advance_ai', 0.5288519859313965),\n",
              " ('automation', 0.5155724287033081),\n",
              " ('intelligent_machine', 0.510002613067627),\n",
              " ('ai_technologies', 0.4944221079349518),\n",
              " ('narrow_ai', 0.4883231222629547)]"
            ]
          },
          "metadata": {
            "tags": []
          },
          "execution_count": 66
        }
      ]
    },
    {
      "cell_type": "code",
      "metadata": {
        "id": "wGAbpJflyHsk",
        "colab": {
          "base_uri": "https://localhost:8080/",
          "height": 51
        },
        "outputId": "c3ef8f79-2072-4ac0-ebed-8077cac2e46c"
      },
      "source": [
        "epochs = 25\n",
        "\n",
        "t1 = time.perf_counter()\n",
        "model_cbow_bigram = Word2Vec(bigram_token,\n",
        "                 min_count = 5, # min_count means the frequency benchmark, if =2 and word is used only once - it's not included\n",
        "                 sg = 0, #trains for skip-gram (tut: CBOW by default, we have to add it to specify for skipgram)\n",
        "                 window = 5, #the size of context\n",
        "                 iter = epochs, #how many times the training code will run through the data set, same as epochs (first pass is to create dict)\n",
        "                 size = 150, #size of embedding\n",
        "                 workers = 4, #for parallel computing\n",
        "                 hs = 0) #0 for negative sampling; 1 for softmax function\n",
        "    \n",
        "t2 = time.perf_counter()\n",
        "t3_cbow_bigram = (t2-t1)/60\n",
        "print(model_cbow_bigram)\n",
        "print(\"The computation of the embedding for the cbow model took {:.2f} minutes.\".format(t3_cbow_bigram))\n",
        "\n",
        "#Word2Vec(vocab=56943, size=150, alpha=0.025)\n",
        "#The computation of the embedding for the cbow model took 20.29 minutes.\n",
        "\n",
        "#Word2Vec(vocab=56943, size=300, alpha=0.025)\n",
        "#The computation of the embedding for the cbow model took 22.09 minutes.\n",
        "\n",
        "#Word2Vec(vocab=64334, size=150, alpha=0.025)\n",
        "#The computation of the embedding for the cbow model took 23.69 minutes."
      ],
      "execution_count": null,
      "outputs": [
        {
          "output_type": "stream",
          "text": [
            "Word2Vec(vocab=64334, size=150, alpha=0.025)\n",
            "The computation of the embedding for the cbow model took 23.69 minutes.\n"
          ],
          "name": "stdout"
        }
      ]
    },
    {
      "cell_type": "code",
      "metadata": {
        "id": "uZBGlzT9yHso",
        "colab": {
          "base_uri": "https://localhost:8080/",
          "height": 71
        },
        "outputId": "2931393f-9a97-4e9a-f177-c76808070af7"
      },
      "source": [
        "#saving\n",
        "embs=\"cbow_150_bigram_embeddings.txt\"\n",
        "model_cbow_bigram.wv.save_word2vec_format(embs, binary=False)\n",
        "\n",
        "embs_cbow_bigram = \"w2v_article_text_embeddings_cbow_e25_s150.model\"\n",
        "model_cbow_bigram.wv.save_word2vec_format(embs_cbow_bigram, binary = False)"
      ],
      "execution_count": null,
      "outputs": [
        {
          "output_type": "stream",
          "text": [
            "/usr/local/lib/python3.6/dist-packages/smart_open/smart_open_lib.py:254: UserWarning: This function is deprecated, use smart_open.open instead. See the migration notes for details: https://github.com/RaRe-Technologies/smart_open/blob/master/README.rst#migrating-to-the-new-open-function\n",
            "  'See the migration notes for details: %s' % _MIGRATION_NOTES_URL\n"
          ],
          "name": "stderr"
        }
      ]
    },
    {
      "cell_type": "code",
      "metadata": {
        "id": "6tqOiKuKyHfZ",
        "colab": {
          "base_uri": "https://localhost:8080/",
          "height": 258
        },
        "outputId": "c4759381-1506-47b8-e7ab-99660d9fb24c"
      },
      "source": [
        "print(model_cbow_bigram.wv.vectors.shape)\n",
        "model_cbow_bigram.wv.most_similar(positive=[\"good\"], topn = 10) "
      ],
      "execution_count": null,
      "outputs": [
        {
          "output_type": "stream",
          "text": [
            "(64334, 150)\n"
          ],
          "name": "stdout"
        },
        {
          "output_type": "stream",
          "text": [
            "/usr/local/lib/python3.6/dist-packages/gensim/matutils.py:737: FutureWarning: Conversion of the second argument of issubdtype from `int` to `np.signedinteger` is deprecated. In future, it will be treated as `np.int64 == np.dtype(int).type`.\n",
            "  if np.issubdtype(vec.dtype, np.int):\n"
          ],
          "name": "stderr"
        },
        {
          "output_type": "execute_result",
          "data": {
            "text/plain": [
              "[('well', 0.6915244460105896),\n",
              " ('best', 0.6755548715591431),\n",
              " ('perfect', 0.6312260627746582),\n",
              " ('pretty_good', 0.6138462424278259),\n",
              " ('great', 0.5810209512710571),\n",
              " ('decent', 0.5731098651885986),\n",
              " ('better', 0.5647061467170715),\n",
              " ('bad', 0.5459110140800476),\n",
              " ('find_good', 0.5434296727180481),\n",
              " ('want', 0.5409783124923706)]"
            ]
          },
          "metadata": {
            "tags": []
          },
          "execution_count": 70
        }
      ]
    },
    {
      "cell_type": "markdown",
      "metadata": {
        "id": "c2A43Kv4kmsN"
      },
      "source": [
        "### Pre-trained Embeddings"
      ]
    },
    {
      "cell_type": "markdown",
      "metadata": {
        "id": "KNKT644sJj2K"
      },
      "source": [
        "As a pre-trained embedding we used GloVe which is trained by Stanford and publicly accessible. The training of GloVe is performed with an unsupervised machine model on \"aggregated global word-word co-occurrence statistics from a corpus, and the resulting representations showcase interesting linear substructures of the word vector space\" [6].\n",
        "<br>The corpus that we downloaded and used was trained on Wikipedia 2014 + Gigaword 5. It contains 400.000 tokens. We decided on the Wikipedia trained version since it is the most similar to the underlying data. It is a public blog where professionals and non-professionals published condensed information. The word embedding has 300 dimensions which is needed for comparability.\n",
        "<br> \n",
        "A drawback of this model might be that it is not trained on bigrams.\n"
      ]
    },
    {
      "cell_type": "code",
      "metadata": {
        "id": "HhCTOtjYMrkK"
      },
      "source": [
        "glove_emb_index = {}\n",
        "\n",
        "file = open(os.getcwd() + \"/\" + \"glove.6B.300d.txt\", encoding = \"utf-8\")\n",
        "for line in file:\n",
        "  values = line.split()\n",
        "  word = values[0]\n",
        "  coefs = np.asarray(values[1:], dtype = \"float32\")\n",
        "  embeddings_index[word] = coefs\n",
        "file.close()"
      ],
      "execution_count": null,
      "outputs": []
    },
    {
      "cell_type": "markdown",
      "metadata": {
        "id": "u3sQB9dt7o_D"
      },
      "source": [
        "##Implementation of Prediction Models"
      ]
    },
    {
      "cell_type": "markdown",
      "metadata": {
        "id": "4vWrgmhEO1PW"
      },
      "source": [
        "In the following chapter we will implement an Elastic Net as a baseline model as a benchmark. Afterwards all word embeddings will be evaluate applied to a GRU architecture in order to decide with which word embedding we want to train our prediction models."
      ]
    },
    {
      "cell_type": "markdown",
      "metadata": {
        "id": "bkcGVEXaqP5I"
      },
      "source": [
        "**Checkpoint**"
      ]
    },
    {
      "cell_type": "code",
      "metadata": {
        "id": "Z5fUYTDmqMM-",
        "colab": {
          "base_uri": "https://localhost:8080/",
          "height": 54
        },
        "outputId": "ccbd8f97-20cb-461e-ef2d-e9a5658232bc"
      },
      "source": [
        "#load new training data file\n",
        "with open(\"train_cleaned\", \"rb\") as path_name:\n",
        "  tr_cl = pickle.load(path_name)\n",
        "\n",
        "print(tr_cl.loc[10, \"text\"])"
      ],
      "execution_count": null,
      "outputs": [
        {
          "output_type": "stream",
          "text": [
            "['artificial', 'intelligence', 'ai', 'impact', 'world', 'actually', 'ai', 'efiicte', 'world', 'good', 'way', 'efficient', 'way', 'go', 'to', 'kill', 'no', 'different', 'job', 'world', 'today', 'go', 'to', 'automate', 'open', 'open', 'no', 'opportunity', 'different', 'job', 'jobs', 'people', 'like', 'current', 'world', 'save', 'complex', 'statistic', 'mathematics', 'didn', 'ai', 'ai', 'get', 'new', 'feature', 'like', 'machine', 'talk', 'like', 'human', 'someday', 'machine', 'not', 'machine', 'human', 'like', 'solve', 'no', 'current', 'problem', 'fear', 'ai', 'apoocylapse', 'not', 'usedsny', 'command', 'line', 'server', 'language', 'programmer', 'know', 'machine', 'way', 'dumb', 'human']\n"
          ],
          "name": "stdout"
        }
      ]
    },
    {
      "cell_type": "markdown",
      "metadata": {
        "id": "8rKhTe5xQf7z"
      },
      "source": [
        "###Data Preparation for Prediction"
      ]
    },
    {
      "cell_type": "code",
      "metadata": {
        "id": "MJmTepsc7wf3"
      },
      "source": [
        "#LOAD data\n",
        "X = tr_cl.loc[:,[\"text\"]] \n",
        "#X = tr_cl.drop([\"totalClapCount\"], axis = 1) \n",
        "y = tr_cl.loc[:,[\"totalClapCount\"]]\n",
        "#X_train, X_test, y_train, y_test = train_test_split(X, y, test_size=0.2)#, random_state=123) \n",
        "#test data are 20 % of the full data set\n",
        "#the seed 123 is provided for comparability of the results since I will test different approaches"
      ],
      "execution_count": null,
      "outputs": []
    },
    {
      "cell_type": "code",
      "metadata": {
        "id": "IHU5AZk18XS1",
        "colab": {
          "base_uri": "https://localhost:8080/",
          "height": 71
        },
        "outputId": "97cff159-e62b-40b2-d994-76a86aa1de13"
      },
      "source": [
        "print(X.shape)\n",
        "print(y.shape)"
      ],
      "execution_count": null,
      "outputs": [
        {
          "output_type": "stream",
          "text": [
            "(66380, 1)\n",
            "(66380, 1)\n"
          ],
          "name": "stdout"
        }
      ]
    },
    {
      "cell_type": "code",
      "metadata": {
        "id": "i9BoH9jvnKvD"
      },
      "source": [
        "#split data\n",
        "X_train, X_test, y_train, y_test = train_test_split(X, y, test_size=0.2, random_state=123) #random state for comparability"
      ],
      "execution_count": null,
      "outputs": []
    },
    {
      "cell_type": "code",
      "metadata": {
        "id": "0oYFKI4OL6uu",
        "colab": {
          "base_uri": "https://localhost:8080/",
          "height": 71
        },
        "outputId": "98cd4118-6397-40e6-94b1-5fa6dc8dea3e"
      },
      "source": [
        "#train\n",
        "\n",
        "#tokenize texts to sequence (NNs only take numerical values as inputs and no strings)\n",
        "tokenizer_obj_train = Tokenizer() #vectorizes the text corpus\n",
        "tokenizer_obj_train.fit_on_texts(X_train[\"text\"])\n",
        "seq_train = tokenizer_obj_train.texts_to_sequences(X_train[\"text\"])\n",
        "\n",
        "max_text_len = 400\n",
        "\n",
        "#the length of the word index holds the number of unique tokens in the data set\n",
        "word_index = tokenizer_obj_train.word_index\n",
        "print(\"Unique tokens: {:,.0f} \".format(len(word_index)))\n",
        "word_index_train = word_index\n",
        "\n",
        "#\"filling up\" embeddings with a text length less than the max text length of 427 with 0s\n",
        "X_train = pad_sequences(seq_train, max_text_len) \n",
        "print(X_train.shape) #(number of text (rows), number of max length of a sequence)"
      ],
      "execution_count": null,
      "outputs": [
        {
          "output_type": "stream",
          "text": [
            "Unique tokens: 205,741 \n",
            "(53104, 400)\n"
          ],
          "name": "stdout"
        }
      ]
    },
    {
      "cell_type": "code",
      "metadata": {
        "id": "BBuZ3U6poQ7e",
        "colab": {
          "base_uri": "https://localhost:8080/",
          "height": 71
        },
        "outputId": "f06172a3-a44c-42a6-a68c-96838ef393ce"
      },
      "source": [
        "#test\n",
        "\n",
        "#tokenize texts to sequence (NNs only take numerical values as inputs and no strings)\n",
        "tokenizer_obj_test = Tokenizer() #vectorizes the text corpus\n",
        "tokenizer_obj_test.fit_on_texts(X_test[\"text\"])\n",
        "seq_test = tokenizer_obj_test.texts_to_sequences(X_test[\"text\"])\n",
        "\n",
        "#the length of the word index holds the number of unique tokens in the data set\n",
        "word_index_test = tokenizer_obj_test.word_index  #word_index contains vector words (shape: 1 x number of unique tokens)\n",
        "print(\"Unique tokens: {:,.0f} \".format(len(word_index_test)))\n",
        "\n",
        "#\"filling up\" embeddings with a text length less than the max text length of 427 with 0s\n",
        "X_test = pad_sequences(seq_test, max_text_len) \n",
        "print(X_test.shape) #(number of text (rows), number of max length of a sequence)"
      ],
      "execution_count": null,
      "outputs": [
        {
          "output_type": "stream",
          "text": [
            "Unique tokens: 93,945 \n",
            "(13276, 400)\n"
          ],
          "name": "stdout"
        }
      ]
    },
    {
      "cell_type": "markdown",
      "metadata": {
        "id": "pd_DMQszP1P4"
      },
      "source": [
        "As already stated in the first part of the analysis, the target variable contains extreme values. Therefore, we decided to make a commom outlier cut at 3*Interquartile-Range (IQR). Hence, our model will not be able to calculate a huge number of claps but will train better and more common observations."
      ]
    },
    {
      "cell_type": "code",
      "metadata": {
        "id": "kGsEtLhA43LG",
        "colab": {
          "base_uri": "https://localhost:8080/",
          "height": 292
        },
        "outputId": "2c14f72b-7bcd-42d9-c4c3-944706438103"
      },
      "source": [
        "Q1 = np.percentile(y_train[\"totalClapCount\"], 25, interpolation = 'midpoint') \n",
        "Q3 = np.percentile(y_train[\"totalClapCount\"], 75, interpolation = 'midpoint') \n",
        "IQR = Q3 - Q1\n",
        "cutoff = IQR * 3\n",
        "claps = np.clip(y_train[\"totalClapCount\"], 0, cutoff)\n",
        "y_train[\"totalClapCount\"] = claps\n",
        "y_train[\"totalClapCount\"].describe()"
      ],
      "execution_count": null,
      "outputs": [
        {
          "output_type": "stream",
          "text": [
            "/usr/local/lib/python3.6/dist-packages/ipykernel_launcher.py:6: SettingWithCopyWarning: \n",
            "A value is trying to be set on a copy of a slice from a DataFrame.\n",
            "Try using .loc[row_indexer,col_indexer] = value instead\n",
            "\n",
            "See the caveats in the documentation: https://pandas.pydata.org/pandas-docs/stable/user_guide/indexing.html#returning-a-view-versus-a-copy\n",
            "  \n"
          ],
          "name": "stderr"
        },
        {
          "output_type": "execute_result",
          "data": {
            "text/plain": [
              "count    53104.000000\n",
              "mean        46.330521\n",
              "std         68.312569\n",
              "min          0.000000\n",
              "25%          0.000000\n",
              "50%          6.000000\n",
              "75%         65.000000\n",
              "max        195.000000\n",
              "Name: totalClapCount, dtype: float64"
            ]
          },
          "metadata": {
            "tags": []
          },
          "execution_count": 10
        }
      ]
    },
    {
      "cell_type": "markdown",
      "metadata": {
        "id": "X6qMQhx5rGGr"
      },
      "source": [
        "**Other Variables**"
      ]
    },
    {
      "cell_type": "code",
      "metadata": {
        "id": "VOUv0XAUrE-K"
      },
      "source": [
        "X = tr_cl.loc[:,[\"author\", \"responsesCreatedCount\", \"totalClapCount\"]] #the target variable totalClapCount is needed in order to compute the target encoding and will be removed later on"
      ],
      "execution_count": null,
      "outputs": []
    },
    {
      "cell_type": "code",
      "metadata": {
        "id": "cBh7jQFEsRxk"
      },
      "source": [
        "X_train_var, X_test_var = train_test_split(X, test_size=0.2, random_state=123)"
      ],
      "execution_count": null,
      "outputs": []
    },
    {
      "cell_type": "code",
      "metadata": {
        "id": "x1OQNDKV8S9I",
        "colab": {
          "base_uri": "https://localhost:8080/",
          "height": 241
        },
        "outputId": "d20a4f48-a507-41f2-defc-755406716a26"
      },
      "source": [
        "#target encoding\n",
        "#https://maxhalford.github.io/blog/target-encoding/\n",
        "\n",
        "X_train_var[\"author\"] = X_train_var[\"author\"].map(X_train_var.groupby(\"author\")[\"totalClapCount\"].mean())\n",
        "X_test_var[\"author\"] = X_test_var[\"author\"].map(X_test_var.groupby(\"author\")[\"totalClapCount\"].mean())"
      ],
      "execution_count": null,
      "outputs": [
        {
          "output_type": "stream",
          "text": [
            "/usr/local/lib/python3.6/dist-packages/ipykernel_launcher.py:4: SettingWithCopyWarning: \n",
            "A value is trying to be set on a copy of a slice from a DataFrame.\n",
            "Try using .loc[row_indexer,col_indexer] = value instead\n",
            "\n",
            "See the caveats in the documentation: https://pandas.pydata.org/pandas-docs/stable/user_guide/indexing.html#returning-a-view-versus-a-copy\n",
            "  after removing the cwd from sys.path.\n",
            "/usr/local/lib/python3.6/dist-packages/ipykernel_launcher.py:5: SettingWithCopyWarning: \n",
            "A value is trying to be set on a copy of a slice from a DataFrame.\n",
            "Try using .loc[row_indexer,col_indexer] = value instead\n",
            "\n",
            "See the caveats in the documentation: https://pandas.pydata.org/pandas-docs/stable/user_guide/indexing.html#returning-a-view-versus-a-copy\n",
            "  \"\"\"\n"
          ],
          "name": "stderr"
        }
      ]
    },
    {
      "cell_type": "code",
      "metadata": {
        "id": "o6BEKEiu9OmS"
      },
      "source": [
        "X_train_var = X_train_var.drop(columns = \"totalClapCount\")\n",
        "X_test_var = X_test_var.drop(columns = \"totalClapCount\")"
      ],
      "execution_count": null,
      "outputs": []
    },
    {
      "cell_type": "code",
      "metadata": {
        "id": "KETMyddmxY0e"
      },
      "source": [
        "X_train_var = X_train_var[[\"author\", \"responsesCreatedCount\"]].values\n",
        "X_test_var = X_test_var[[\"author\", \"responsesCreatedCount\"]].values"
      ],
      "execution_count": null,
      "outputs": []
    },
    {
      "cell_type": "code",
      "metadata": {
        "id": "mIOHUAKo-ey9",
        "colab": {
          "base_uri": "https://localhost:8080/",
          "height": 54
        },
        "outputId": "52ff05a5-1cf2-419e-94ce-78060bfd45ff"
      },
      "source": [
        "X_train_var.shape"
      ],
      "execution_count": null,
      "outputs": [
        {
          "output_type": "execute_result",
          "data": {
            "text/plain": [
              "(53104, 2)"
            ]
          },
          "metadata": {
            "tags": []
          },
          "execution_count": 16
        }
      ]
    },
    {
      "cell_type": "code",
      "metadata": {
        "id": "1bIMM8aIuyeY"
      },
      "source": [
        "scale = StandardScaler().fit(X_train_var)\n",
        "\n",
        "X_train_var_scaled = scale.transform(X_train_var)\n",
        "X_test_var_scaled = scale.transform(X_test_var)"
      ],
      "execution_count": null,
      "outputs": []
    },
    {
      "cell_type": "code",
      "metadata": {
        "id": "-T3-aGhu3vRN"
      },
      "source": [
        "#Input for models\n",
        "X_train = np.concatenate((X_train, X_train_var_scaled), axis=1)\n",
        "X_test = np.concatenate((X_test, X_test_var_scaled), axis=1)"
      ],
      "execution_count": null,
      "outputs": []
    },
    {
      "cell_type": "code",
      "metadata": {
        "id": "s6z99J3vxNXi",
        "colab": {
          "base_uri": "https://localhost:8080/",
          "height": 54
        },
        "outputId": "f5b6afc9-4d3f-44c3-fdf1-bc7de64a4a56"
      },
      "source": [
        "print(X_train.shape, X_test.shape)"
      ],
      "execution_count": null,
      "outputs": [
        {
          "output_type": "stream",
          "text": [
            "(53104, 402) (13276, 402)\n"
          ],
          "name": "stdout"
        }
      ]
    },
    {
      "cell_type": "markdown",
      "metadata": {
        "id": "7Mzcf_8oOrFR"
      },
      "source": [
        "###Benchmark Model"
      ]
    },
    {
      "cell_type": "markdown",
      "metadata": {
        "id": "bDWKjoJSRh7w"
      },
      "source": [
        "As a model to benchmark the performance of the other models we choose an elastic net. Elastic Net is linear model but it also applies regularization. It can be a mixture of Lasso and Ridge depending on the parameter l1_ratio. If it is 1 than an Elastic Net is equal to Lasso and with a l1_ratio equal to 0, it is a Ridge Model. Elastic Net is suitable if the dimension are high and the assumption of unnecessary features. [7]"
      ]
    },
    {
      "cell_type": "code",
      "metadata": {
        "id": "7-smdfZ_JoXD"
      },
      "source": [
        "models = {}"
      ],
      "execution_count": null,
      "outputs": []
    },
    {
      "cell_type": "markdown",
      "metadata": {
        "id": "KA7r8M7MTvzV"
      },
      "source": [
        "We applied parameter tuning with grid search in order to optimize the basic model since it will compete with more sophisticated models later on. To reduce the chance of overfitting, a 10-fold crossvalidation is performed."
      ]
    },
    {
      "cell_type": "code",
      "metadata": {
        "id": "_C2E-oF5CUKz"
      },
      "source": [
        "#tune parameters of model with grid search\n",
        "parametersGrid = {\"max_iter\": [1, 5, 10],\n",
        "                  \"alpha\": [0.0001, 0.001, 0.01, 0.1, 1, 10, 100],\n",
        "                  \"l1_ratio\": np.arange(0.0, 1.0, 0.1)} #l1-ration: 0 = ridge, 1 = lasso\n",
        "\n",
        "model = ElasticNet(tol = 1) #otherwise: \"ConvergenceWarning: Objective did not converge. You might want to increase the number of iterations\"\n",
        "grid = GridSearchCV(model, parametersGrid, cv=10)\n",
        "grid = grid.fit(X_train, y_train)\n",
        "y_pred = grid.predict(X_test)"
      ],
      "execution_count": null,
      "outputs": []
    },
    {
      "cell_type": "code",
      "metadata": {
        "id": "DwcYDqEidG-S",
        "colab": {
          "base_uri": "https://localhost:8080/",
          "height": 297
        },
        "outputId": "3b3ae761-48d5-4572-97e9-c4ac38d2ba25"
      },
      "source": [
        "x_ax = range(len(X_test))\n",
        "plt.scatter(x_ax, y_test, s=5, color=\"blue\", label=\"original\")\n",
        "plt.plot(x_ax, y_pred, lw=0.8, color=\"red\", label=\"predicted\")\n",
        "plt.legend()\n",
        "plt.show()"
      ],
      "execution_count": null,
      "outputs": [
        {
          "output_type": "display_data",
          "data": {
            "image/png": "[encoded data removed]",
            "text/plain": [
              "<Figure size 1296x360 with 1 Axes>"
            ]
          },
          "metadata": {
            "tags": [],
            "needs_background": "light"
          }
        }
      ]
    },
    {
      "cell_type": "code",
      "metadata": {
        "id": "SM3Xx4wLTOOt",
        "colab": {
          "base_uri": "https://localhost:8080/",
          "height": 33
        },
        "outputId": "dbc40fba-3bef-4c6c-a091-11522c7e6a48"
      },
      "source": [
        "grid.best_params_"
      ],
      "execution_count": null,
      "outputs": [
        {
          "output_type": "execute_result",
          "data": {
            "text/plain": [
              "{'alpha': 1, 'l1_ratio': 0.7000000000000001, 'max_iter': 5}"
            ]
          },
          "metadata": {
            "tags": []
          },
          "execution_count": 345
        }
      ]
    },
    {
      "cell_type": "code",
      "metadata": {
        "id": "nvfnrc3PE95Y"
      },
      "source": [
        "mse_en_grid = mean_squared_error(y_test, y_pred)"
      ],
      "execution_count": null,
      "outputs": []
    },
    {
      "cell_type": "code",
      "metadata": {
        "id": "yb8PA_Z8RV5Y"
      },
      "source": [
        "models.update({\"ElastricNet_Grid\" : mse_en_grid})"
      ],
      "execution_count": null,
      "outputs": []
    },
    {
      "cell_type": "code",
      "metadata": {
        "id": "vmz91zVrTb17",
        "colab": {
          "base_uri": "https://localhost:8080/",
          "height": 33
        },
        "outputId": "6d77b3e8-cfdf-49f2-d1da-91faf035ec00"
      },
      "source": [
        "models"
      ],
      "execution_count": null,
      "outputs": [
        {
          "output_type": "execute_result",
          "data": {
            "text/plain": [
              "{'ElastricNet_Grid': 1243992.2881074175}"
            ]
          },
          "metadata": {
            "tags": []
          },
          "execution_count": 350
        }
      ]
    },
    {
      "cell_type": "markdown",
      "metadata": {
        "id": "IMBlYVuUi_Aw"
      },
      "source": [
        "###Evaluation of Word Embeddings\n",
        "\n"
      ]
    },
    {
      "cell_type": "markdown",
      "metadata": {
        "id": "0U1gjmjgWwoV"
      },
      "source": [
        "####Preparation for Evaluation"
      ]
    },
    {
      "cell_type": "markdown",
      "metadata": {
        "id": "HpheW0dtPeK2"
      },
      "source": [
        "**Loading Functions**"
      ]
    },
    {
      "cell_type": "code",
      "metadata": {
        "id": "l_BJDTKdQ9V-"
      },
      "source": [
        "def load_embedding(file):\n",
        "  \n",
        "    embeddings_index = {}\n",
        "    file = open(file, encoding = \"utf-8\")\n",
        "    for line in file:\n",
        "        values = line.split()\n",
        "        word = values[0]\n",
        "        coefs = np.asarray(values[1:], dtype = \"float32\")\n",
        "        embeddings_index[word] = coefs\n",
        "    file.close()\n",
        "\n",
        "    return embeddings_index"
      ],
      "execution_count": null,
      "outputs": []
    },
    {
      "cell_type": "markdown",
      "metadata": {
        "id": "Mg64w5DSlXrc"
      },
      "source": [
        "An embedding matrix functions as a lookup table for input words. The embedding of a word , e.g. \"data\", has an index i which can be \"looked up\" in the $i^{th}$ row of the embedding matrix. Hence, we match the word indexes with the embedding matrix. An embedding matrix can be used as input for the training of a neural network. <p>The code of the following function is inspired by the [code]({https://github.com/stefanlessmann/adams/blob/master/exercises/Ex11_GRU_GloVe/Ex11%20sentiment_analysis.ipynb}) given in lecture 11 of the ADAM course by Prof. Lessmann (HU zu Berlin). "
      ]
    },
    {
      "cell_type": "code",
      "metadata": {
        "id": "BgnZexYTR0KB"
      },
      "source": [
        "#word_index = word_index from tokenizer (it the same for all following NN-models)\n",
        "#embedding_index = loaded word embedding\n",
        "#dim = size of word embedding\n",
        "#num_words should be the length of the word index + 1 for collection the unknown words which will be represented by 0s in the embedding matrix\n",
        "\n",
        "def generate_emb_mat(word_index, embedding_index, dim):\n",
        "    \n",
        "    num_words = len(word_index) + 1\n",
        "    embedding_matrix = np.zeros((num_words, dim))\n",
        "\n",
        "    for word, i in word_index.items():\n",
        "        if i > num_words:\n",
        "            continue\n",
        "      \n",
        "        try:\n",
        "            embedding_vector = embedding_index.get(word)\n",
        "        except:\n",
        "            embedding_vector = embedding_index.word_vectors[embedding_index.dictionary[word]]\n",
        "        if embedding_vector is not None:\n",
        "            embedding_matrix[i] = embedding_vector\n",
        "        \n",
        "    return embedding_matrix"
      ],
      "execution_count": null,
      "outputs": []
    },
    {
      "cell_type": "code",
      "metadata": {
        "id": "LIAs94YKTjQx"
      },
      "source": [
        "def plot_hist(model_hist):\n",
        "    plt.figure(figsize=(15, 8))\n",
        "    plt.subplot(1, 2, 1)\n",
        "    \n",
        "    #show training loss\n",
        "    plt.plot(model_hist.history[\"loss\"], color=\"green\")\n",
        "    plt.title(\"model loss\")\n",
        "    plt.ylabel(\"MSE\")\n",
        "    plt.xlabel(\"epoch\")\n",
        "    plt.legend([\"train\"], loc=\"upper right\")\n",
        "\n",
        "    #show validation loss\n",
        "    plt.subplot(1, 2, 2)\n",
        "    plt.plot(model_hist.history[\"val_loss\"], color = \"orange\")\n",
        "    plt.title(\"validation loss\")\n",
        "    plt.ylabel(\"MSE\")\n",
        "    plt.xlabel(\"epoch\")\n",
        "    plt.legend([\"val\"], loc=\"upper right\")\n",
        "    plt.subplots_adjust(bottom=0.25, top=0.75)\n",
        "\n",
        "    return plt.show()"
      ],
      "execution_count": null,
      "outputs": []
    },
    {
      "cell_type": "code",
      "metadata": {
        "id": "qZi_OQB_7-h5"
      },
      "source": [
        "#Method/Function for training a GRU model and making a prediction (besides calling the function for generating the embedding matrix)\n",
        "#No trainable features\n",
        "\n",
        "#dim = size of the embedding (150 or 300)\n",
        "#emb_mat = generated embedding matrix\n",
        "#name = for naming the produced scores etc. (e.g. cbow150)\n",
        "#word_index = needed for the gen_embed_matrix function\n",
        "\n",
        "def GRU_embed_models(embedding_index, name, word_index, dim):\n",
        "  \n",
        "  emb_mat = generate_emb_mat(word_index, embedding_index, dim) \n",
        "  \n",
        "  print(\"Training the GRU with a pretrained {}-embedding\".format(name))\n",
        "\n",
        "  #embedding layer\n",
        "  embedding_layer = Embedding(input_dim = no_of_words,\n",
        "                            output_dim = dim,\n",
        "                            input_length = max_text_len,\n",
        "                            embeddings_initializer = Constant(emb_mat),\n",
        "                            trainable = False)\n",
        "\n",
        "  #GRU set up\n",
        "  model = Sequential()\n",
        "  model.add(embedding_layer)\n",
        "  model.add(GRU(100))\n",
        "  model.add(Dense(1, activation = \"relu\"))\n",
        "  model.compile(loss = \"mse\", optimizer = \"adam\")#, metrics = [\"mae\"])\n",
        "  model.summary()\n",
        "\n",
        "  #train\n",
        "  model_hist_GRU = model.fit(X_train, y_train, validation_split = val_split, epochs= epochs, batch_size = batch_size) #validation_data=(x_val, y_val)\n",
        "\n",
        "  #save weights\n",
        "  GRU_w_up = model.layers[1].get_weights()\n",
        "  model.save_weights(\"GRU_\" + name + \"_10ep_64ba.h5\")\n",
        "  print(\"Saving successful\")\n",
        "\n",
        "  #show\n",
        "  plot_hist(model_hist_GRU)\n",
        "\n",
        "  #evaluate and predict\n",
        "  scores = model.evaluate(X_test, y_test, verbose = 0)\n",
        "  #print(\"The loss is: {}\".format(scores[0])) #loss and mae\n",
        "  #print(\"The MAE is: {:.2f}\".format(scores[1])) \n",
        "  y_pred = model.predict(X_test)\n",
        "\n",
        "  GRU_models.update({name + \" MSE\": mean_squared_error(y_test, y_pred)})\n",
        "  GRU_models_hist.update({name: model_hist_GRU.history})\n",
        "\n",
        "  return scores, model_hist_GRU.history"
      ],
      "execution_count": null,
      "outputs": []
    },
    {
      "cell_type": "code",
      "metadata": {
        "id": "ugt_7sQtRCRD"
      },
      "source": [
        "#loading pretrained embedding matrices\n",
        "cbow150_emb_index = load_embedding(os.getcwd() + \"/\" + \"cbow_150_bigram_embeddings.txt\")\n",
        "cbow300_emb_index = load_embedding(os.getcwd() + \"/\" + \"cbow_300_bigram_embeddings.txt\")\n",
        "sg150_emb_index = load_embedding(os.getcwd() + \"/\" + \"sg_150_bigram_embeddings.txt\")\n",
        "sg300_emb_index = load_embedding(os.getcwd() + \"/\" + \"sg_300_bigram_embeddings.txt\")\n",
        "\n",
        "glove_emb_index = load_embedding(os.getcwd() + \"/\" + \"glove.6B.300d.txt\")\n",
        "#not working this way: news_emb_index = load_embedding(os.getcwd() + \"/\" + \"GoogleNews-vectors-negative300.bin\")\n",
        "\n",
        "#print(\"The embedding contains {} word vectors\".format(len(cbow_emb_index)))"
      ],
      "execution_count": null,
      "outputs": []
    },
    {
      "cell_type": "code",
      "metadata": {
        "id": "A6B9nWW94PDm",
        "colab": {
          "base_uri": "https://localhost:8080/",
          "height": 102
        },
        "outputId": "0aa3d213-b1f1-47ca-9dcf-cba424b7062b"
      },
      "source": [
        "print(len(cbow150_emb_index))\n",
        "print(len(cbow300_emb_index))\n",
        "print(len(sg150_emb_index))\n",
        "print(len(sg300_emb_index))\n",
        "print(len(glove_emb_index))"
      ],
      "execution_count": null,
      "outputs": [
        {
          "output_type": "stream",
          "text": [
            "64335\n",
            "64335\n",
            "64335\n",
            "64335\n",
            "400000\n"
          ],
          "name": "stdout"
        }
      ]
    },
    {
      "cell_type": "markdown",
      "metadata": {
        "id": "yryNtV8xmCRE"
      },
      "source": [
        "With help of the parameter \"embeddings_initializer\" and the keras function \"Constant\", an pretrained embedding matrix can be used as an input for the embedding layer. If not, embedding weights are initialized. The function \"embedding\" assigns by default randomly weights to the given words by using an uniform distribution. The parameter \"trainable\" controlls which weights will be trained and which will be frozen. Setting this parameter to false speeds up training since less parameters have to be trained (see model summary non-trainable parameters) and the problem of a vanishing gradient is less present. Nevertheless, the trained models performed better with updating the weights during training.<p>\n",
        "In preparation for this model, the weights of the pretrained cbow word embedding matrix were trained on the model. This updated weights are used in the following model in order to fine-tune the results of the GRU model."
      ]
    },
    {
      "cell_type": "markdown",
      "metadata": {
        "id": "K0V9dP8YWMMu"
      },
      "source": [
        "**Set Parameters**"
      ]
    },
    {
      "cell_type": "code",
      "metadata": {
        "id": "l76Q02_JMEhB"
      },
      "source": [
        "#set parameters\n",
        "\n",
        "no_of_words = len(tokenizer_obj_train.word_index)+1 #number of unique words in the embedding plus one for unknown tokens\n",
        "max_text_len = 400 #take only the first 400 words per article\n",
        "nb_hidden = 100\n",
        "epochs = 10\n",
        "batch_size = 128\n",
        "val_split = 0.25"
      ],
      "execution_count": null,
      "outputs": []
    },
    {
      "cell_type": "code",
      "metadata": {
        "id": "-jEZ5354LxLd",
        "colab": {
          "base_uri": "https://localhost:8080/",
          "height": 34
        },
        "outputId": "fa42db09-6d1c-464c-f5bf-c893d813bb2c"
      },
      "source": [
        "no_of_words"
      ],
      "execution_count": null,
      "outputs": [
        {
          "output_type": "execute_result",
          "data": {
            "text/plain": [
              "205742"
            ]
          },
          "metadata": {
            "tags": []
          },
          "execution_count": 27
        }
      ]
    },
    {
      "cell_type": "markdown",
      "metadata": {
        "id": "795sbLNiMQ2j"
      },
      "source": [
        "####Application of Word Embeddings"
      ]
    },
    {
      "cell_type": "markdown",
      "metadata": {
        "id": "7PYtcfWdXnmc"
      },
      "source": [
        "All word embeddings will be trained on a non-trainable GRU architecture with 10 epochs. Even though 10 epochs is not very big, it is sufficient for the task of evaluation the different performances of the word embeddings because the validation losses stop dropping after this period for all word embeddings<br> The MSE of each model is summed up in the subchapter results."
      ]
    },
    {
      "cell_type": "code",
      "metadata": {
        "id": "QMju3r97BtJh"
      },
      "source": [
        "GRU_models = {}\n",
        "GRU_models_hist = {}"
      ],
      "execution_count": null,
      "outputs": []
    },
    {
      "cell_type": "code",
      "metadata": {
        "id": "XxanS8sK8n0D",
        "colab": {
          "base_uri": "https://localhost:8080/",
          "height": 1000
        },
        "outputId": "f4107cb7-9383-4c87-8e57-089e7be586ce"
      },
      "source": [
        "#cbow150\n",
        "GRU_embed_models(cbow150_emb_index, \"cbow150\", word_index, 150)\n",
        "#pretrained w2v\n",
        "#embed_models_notrain(cbow150_emb_index, \"cbow150\", word_index, 150)"
      ],
      "execution_count": null,
      "outputs": [
        {
          "output_type": "stream",
          "text": [
            "Training the GRU with a pretrained cbow150-embedding\n",
            "Model: \"sequential_10\"\n",
            "_________________________________________________________________\n",
            "Layer (type)                 Output Shape              Param #   \n",
            "=================================================================\n",
            "embedding_10 (Embedding)     (None, 400, 150)          34813350  \n",
            "_________________________________________________________________\n",
            "gru_8 (GRU)                  (None, 100)               75600     \n",
            "_________________________________________________________________\n",
            "dense_8 (Dense)              (None, 1)                 101       \n",
            "=================================================================\n",
            "Total params: 34,889,051\n",
            "Trainable params: 75,701\n",
            "Non-trainable params: 34,813,350\n",
            "_________________________________________________________________\n",
            "Epoch 1/10\n",
            "623/623 [==============================] - 303s 487ms/step - loss: 4966.9668 - val_loss: 4407.6982\n",
            "Epoch 2/10\n",
            "623/623 [==============================] - 307s 493ms/step - loss: 4072.6179 - val_loss: 3767.0737\n",
            "Epoch 3/10\n",
            "623/623 [==============================] - 304s 488ms/step - loss: 3691.6062 - val_loss: 3620.1265\n",
            "Epoch 4/10\n",
            "623/623 [==============================] - 303s 487ms/step - loss: 3479.7461 - val_loss: 3600.7480\n",
            "Epoch 5/10\n",
            "623/623 [==============================] - 304s 488ms/step - loss: 3316.1521 - val_loss: 3488.9421\n",
            "Epoch 6/10\n",
            "623/623 [==============================] - 304s 489ms/step - loss: 3166.0056 - val_loss: 3477.9316\n",
            "Epoch 7/10\n",
            "623/623 [==============================] - 307s 493ms/step - loss: 3003.7610 - val_loss: 3502.8896\n",
            "Epoch 8/10\n",
            "623/623 [==============================] - 309s 496ms/step - loss: 2835.7971 - val_loss: 3440.2314\n",
            "Epoch 9/10\n",
            "623/623 [==============================] - 313s 503ms/step - loss: 2700.7927 - val_loss: 3522.3511\n",
            "Epoch 10/10\n",
            "623/623 [==============================] - 310s 497ms/step - loss: 2544.5322 - val_loss: 3572.9309\n",
            "Saving successful\n"
          ],
          "name": "stdout"
        },
        {
          "output_type": "display_data",
          "data": {
            "image/png": "[encoded data removed]",
            "text/plain": [
              "<Figure size 1080x576 with 2 Axes>"
            ]
          },
          "metadata": {
            "tags": [],
            "needs_background": "light"
          }
        },
        {
          "output_type": "execute_result",
          "data": {
            "text/plain": [
              "(1246689.75,\n",
              " {'loss': [4966.966796875,\n",
              "   4072.617919921875,\n",
              "   3691.606201171875,\n",
              "   3479.74609375,\n",
              "   3316.152099609375,\n",
              "   3166.005615234375,\n",
              "   3003.760986328125,\n",
              "   2835.797119140625,\n",
              "   2700.792724609375,\n",
              "   2544.5322265625],\n",
              "  'val_loss': [4407.6982421875,\n",
              "   3767.07373046875,\n",
              "   3620.12646484375,\n",
              "   3600.748046875,\n",
              "   3488.942138671875,\n",
              "   3477.931640625,\n",
              "   3502.8896484375,\n",
              "   3440.2314453125,\n",
              "   3522.35107421875,\n",
              "   3572.930908203125]})"
            ]
          },
          "metadata": {
            "tags": []
          },
          "execution_count": 54
        }
      ]
    },
    {
      "cell_type": "code",
      "metadata": {
        "id": "DPN4hgLHdM60",
        "colab": {
          "base_uri": "https://localhost:8080/",
          "height": 1000
        },
        "outputId": "3d57dfc7-1e7f-4111-84ac-059cd63e7fce"
      },
      "source": [
        "#cbow300\n",
        "GRU_embed_models(cbow300_emb_index, \"cbow300\", word_index, 300)"
      ],
      "execution_count": null,
      "outputs": [
        {
          "output_type": "stream",
          "text": [
            "Training the GRU with a pretrained cbow300-embedding\n",
            "Model: \"sequential_11\"\n",
            "_________________________________________________________________\n",
            "Layer (type)                 Output Shape              Param #   \n",
            "=================================================================\n",
            "embedding_11 (Embedding)     (None, 400, 300)          69626700  \n",
            "_________________________________________________________________\n",
            "gru_9 (GRU)                  (None, 100)               120600    \n",
            "_________________________________________________________________\n",
            "dense_9 (Dense)              (None, 1)                 101       \n",
            "=================================================================\n",
            "Total params: 69,747,401\n",
            "Trainable params: 120,701\n",
            "Non-trainable params: 69,626,700\n",
            "_________________________________________________________________\n",
            "Epoch 1/10\n",
            "623/623 [==============================] - 415s 666ms/step - loss: 4949.6353 - val_loss: 4275.0791\n",
            "Epoch 2/10\n",
            "623/623 [==============================] - 419s 673ms/step - loss: 4027.7305 - val_loss: 3720.2024\n",
            "Epoch 3/10\n",
            "623/623 [==============================] - 416s 667ms/step - loss: 3604.8821 - val_loss: 3595.9099\n",
            "Epoch 4/10\n",
            "623/623 [==============================] - 416s 668ms/step - loss: 3342.7695 - val_loss: 3496.8911\n",
            "Epoch 5/10\n",
            "623/623 [==============================] - 413s 663ms/step - loss: 3110.2046 - val_loss: 3480.9011\n",
            "Epoch 6/10\n",
            "623/623 [==============================] - 416s 667ms/step - loss: 2879.8953 - val_loss: 3465.9194\n",
            "Epoch 7/10\n",
            "623/623 [==============================] - 416s 667ms/step - loss: 2649.1748 - val_loss: 3522.8516\n",
            "Epoch 8/10\n",
            "623/623 [==============================] - 413s 662ms/step - loss: 2446.5684 - val_loss: 3710.0400\n",
            "Epoch 9/10\n",
            "623/623 [==============================] - 412s 661ms/step - loss: 2270.5903 - val_loss: 3677.7524\n",
            "Epoch 10/10\n",
            "623/623 [==============================] - 413s 664ms/step - loss: 2101.2161 - val_loss: 3682.2151\n",
            "Saving successful\n"
          ],
          "name": "stdout"
        },
        {
          "output_type": "display_data",
          "data": {
            "image/png": "[encoded data removed]",
            "text/plain": [
              "<Figure size 1080x576 with 2 Axes>"
            ]
          },
          "metadata": {
            "tags": [],
            "needs_background": "light"
          }
        },
        {
          "output_type": "execute_result",
          "data": {
            "text/plain": [
              "(1244447.625,\n",
              " {'loss': [4949.63525390625,\n",
              "   4027.73046875,\n",
              "   3604.882080078125,\n",
              "   3342.76953125,\n",
              "   3110.20458984375,\n",
              "   2879.895263671875,\n",
              "   2649.1748046875,\n",
              "   2446.568359375,\n",
              "   2270.59033203125,\n",
              "   2101.216064453125],\n",
              "  'val_loss': [4275.0791015625,\n",
              "   3720.202392578125,\n",
              "   3595.909912109375,\n",
              "   3496.89111328125,\n",
              "   3480.901123046875,\n",
              "   3465.91943359375,\n",
              "   3522.8515625,\n",
              "   3710.0400390625,\n",
              "   3677.75244140625,\n",
              "   3682.215087890625]})"
            ]
          },
          "metadata": {
            "tags": []
          },
          "execution_count": 55
        }
      ]
    },
    {
      "cell_type": "code",
      "metadata": {
        "id": "8GsIGkROdOw0",
        "colab": {
          "base_uri": "https://localhost:8080/",
          "height": 1000
        },
        "outputId": "b365ac22-01c3-463d-efab-44d004a62a3f"
      },
      "source": [
        "#sg150\n",
        "GRU_embed_models(sg150_emb_index, \"sg150\", word_index, 150)"
      ],
      "execution_count": null,
      "outputs": [
        {
          "output_type": "stream",
          "text": [
            "Training the GRU with a pretrained sg150-embedding\n",
            "Model: \"sequential\"\n",
            "_________________________________________________________________\n",
            "Layer (type)                 Output Shape              Param #   \n",
            "=================================================================\n",
            "embedding (Embedding)        (None, 400, 150)          34813350  \n",
            "_________________________________________________________________\n",
            "gru (GRU)                    (None, 100)               75600     \n",
            "_________________________________________________________________\n",
            "dense (Dense)                (None, 1)                 101       \n",
            "=================================================================\n",
            "Total params: 34,889,051\n",
            "Trainable params: 75,701\n",
            "Non-trainable params: 34,813,350\n",
            "_________________________________________________________________\n",
            "Epoch 1/10\n",
            "623/623 [==============================] - 300s 481ms/step - loss: 5012.7129 - val_loss: 4568.1396\n",
            "Epoch 2/10\n",
            "623/623 [==============================] - 305s 490ms/step - loss: 4700.3833 - val_loss: 4564.0327\n",
            "Epoch 3/10\n",
            "623/623 [==============================] - 300s 482ms/step - loss: 5289.3315 - val_loss: 6609.2632\n",
            "Epoch 4/10\n",
            "623/623 [==============================] - 306s 491ms/step - loss: 6127.4756 - val_loss: 5966.9014\n",
            "Epoch 5/10\n",
            "623/623 [==============================] - 305s 490ms/step - loss: 6125.5317 - val_loss: 6154.1743\n",
            "Epoch 6/10\n",
            "623/623 [==============================] - 306s 492ms/step - loss: 6832.3984 - val_loss: 6622.2310\n",
            "Epoch 7/10\n",
            "623/623 [==============================] - 306s 492ms/step - loss: 6872.3276 - val_loss: 6621.4883\n",
            "Epoch 8/10\n",
            "623/623 [==============================] - 308s 494ms/step - loss: 6407.4746 - val_loss: 5773.8091\n",
            "Epoch 9/10\n",
            "623/623 [==============================] - 309s 496ms/step - loss: 6834.3467 - val_loss: 6618.2573\n",
            "Epoch 10/10\n",
            "623/623 [==============================] - 309s 496ms/step - loss: 6270.8364 - val_loss: 5740.6426\n",
            "Saving successful\n"
          ],
          "name": "stdout"
        },
        {
          "output_type": "display_data",
          "data": {
            "image/png": "[encoded data removed]",
            "text/plain": [
              "<Figure size 1080x576 with 2 Axes>"
            ]
          },
          "metadata": {
            "tags": [],
            "needs_background": "light"
          }
        },
        {
          "output_type": "execute_result",
          "data": {
            "text/plain": [
              "(1263030.0,\n",
              " {'loss': [5012.712890625,\n",
              "   4700.38330078125,\n",
              "   5289.33154296875,\n",
              "   6127.4755859375,\n",
              "   6125.53173828125,\n",
              "   6832.3984375,\n",
              "   6872.32763671875,\n",
              "   6407.474609375,\n",
              "   6834.3466796875,\n",
              "   6270.83642578125],\n",
              "  'val_loss': [4568.1396484375,\n",
              "   4564.03271484375,\n",
              "   6609.26318359375,\n",
              "   5966.9013671875,\n",
              "   6154.17431640625,\n",
              "   6622.23095703125,\n",
              "   6621.48828125,\n",
              "   5773.80908203125,\n",
              "   6618.25732421875,\n",
              "   5740.642578125]})"
            ]
          },
          "metadata": {
            "tags": []
          },
          "execution_count": 25
        }
      ]
    },
    {
      "cell_type": "code",
      "metadata": {
        "id": "75WFMuHbdQd2",
        "colab": {
          "base_uri": "https://localhost:8080/",
          "height": 1000
        },
        "outputId": "4238968d-38f9-4733-fc83-d708c438f1ea"
      },
      "source": [
        "#sg300\n",
        "GRU_embed_models(sg300_emb_index, \"sg300\", word_index, 300)"
      ],
      "execution_count": null,
      "outputs": [
        {
          "output_type": "stream",
          "text": [
            "Training the GRU with a pretrained sg300-embedding\n",
            "Model: \"sequential_1\"\n",
            "_________________________________________________________________\n",
            "Layer (type)                 Output Shape              Param #   \n",
            "=================================================================\n",
            "embedding_1 (Embedding)      (None, 400, 300)          69626700  \n",
            "_________________________________________________________________\n",
            "gru_1 (GRU)                  (None, 100)               120600    \n",
            "_________________________________________________________________\n",
            "dense_1 (Dense)              (None, 1)                 101       \n",
            "=================================================================\n",
            "Total params: 69,747,401\n",
            "Trainable params: 120,701\n",
            "Non-trainable params: 69,626,700\n",
            "_________________________________________________________________\n",
            "Epoch 1/10\n",
            "623/623 [==============================] - 424s 680ms/step - loss: 4977.9497 - val_loss: 4567.2534\n",
            "Epoch 2/10\n",
            "623/623 [==============================] - 416s 668ms/step - loss: 4694.2432 - val_loss: 4514.7583\n",
            "Epoch 3/10\n",
            "623/623 [==============================] - 416s 667ms/step - loss: 4222.0552 - val_loss: 3750.3000\n",
            "Epoch 4/10\n",
            "623/623 [==============================] - 414s 665ms/step - loss: 3661.6394 - val_loss: 3642.4980\n",
            "Epoch 5/10\n",
            "623/623 [==============================] - 415s 666ms/step - loss: 3464.2727 - val_loss: 3469.9023\n",
            "Epoch 6/10\n",
            "623/623 [==============================] - 415s 666ms/step - loss: 3311.0901 - val_loss: 3421.1968\n",
            "Epoch 7/10\n",
            "623/623 [==============================] - 415s 666ms/step - loss: 3172.8096 - val_loss: 3409.3667\n",
            "Epoch 8/10\n",
            "623/623 [==============================] - 414s 664ms/step - loss: 3023.7729 - val_loss: 3461.3772\n",
            "Epoch 9/10\n",
            "623/623 [==============================] - 417s 669ms/step - loss: 2873.4075 - val_loss: 3447.5159\n",
            "Epoch 10/10\n",
            "623/623 [==============================] - 412s 661ms/step - loss: 2721.0952 - val_loss: 3453.1865\n",
            "Saving successful\n"
          ],
          "name": "stdout"
        },
        {
          "output_type": "display_data",
          "data": {
            "image/png": "[encoded data removed]",
            "text/plain": [
              "<Figure size 1080x576 with 2 Axes>"
            ]
          },
          "metadata": {
            "tags": [],
            "needs_background": "light"
          }
        },
        {
          "output_type": "execute_result",
          "data": {
            "text/plain": [
              "(1247335.875,\n",
              " {'loss': [4977.94970703125,\n",
              "   4694.2431640625,\n",
              "   4222.05517578125,\n",
              "   3661.639404296875,\n",
              "   3464.272705078125,\n",
              "   3311.090087890625,\n",
              "   3172.8095703125,\n",
              "   3023.77294921875,\n",
              "   2873.407470703125,\n",
              "   2721.09521484375],\n",
              "  'val_loss': [4567.25341796875,\n",
              "   4514.75830078125,\n",
              "   3750.300048828125,\n",
              "   3642.498046875,\n",
              "   3469.90234375,\n",
              "   3421.19677734375,\n",
              "   3409.36669921875,\n",
              "   3461.377197265625,\n",
              "   3447.515869140625,\n",
              "   3453.1865234375]})"
            ]
          },
          "metadata": {
            "tags": []
          },
          "execution_count": 26
        }
      ]
    },
    {
      "cell_type": "code",
      "metadata": {
        "id": "tLRhkK2xdRw0",
        "colab": {
          "base_uri": "https://localhost:8080/",
          "height": 1000
        },
        "outputId": "a532271f-74b3-42c7-decc-7f063851cf41"
      },
      "source": [
        "#glove300\n",
        "GRU_embed_models(glove_emb_index, \"glove300\", word_index, 300)"
      ],
      "execution_count": null,
      "outputs": [
        {
          "output_type": "stream",
          "text": [
            "Training the GRU with a pretrained glove300-embedding\n",
            "Model: \"sequential_2\"\n",
            "_________________________________________________________________\n",
            "Layer (type)                 Output Shape              Param #   \n",
            "=================================================================\n",
            "embedding_2 (Embedding)      (None, 400, 300)          69626700  \n",
            "_________________________________________________________________\n",
            "gru_2 (GRU)                  (None, 100)               120600    \n",
            "_________________________________________________________________\n",
            "dense_2 (Dense)              (None, 1)                 101       \n",
            "=================================================================\n",
            "Total params: 69,747,401\n",
            "Trainable params: 120,701\n",
            "Non-trainable params: 69,626,700\n",
            "_________________________________________________________________\n",
            "Epoch 1/10\n",
            "623/623 [==============================] - 415s 667ms/step - loss: 4979.5283 - val_loss: 4557.9258\n",
            "Epoch 2/10\n",
            "623/623 [==============================] - 414s 664ms/step - loss: 4574.3379 - val_loss: 4127.1904\n",
            "Epoch 3/10\n",
            "623/623 [==============================] - 414s 664ms/step - loss: 4099.1084 - val_loss: 3938.1995\n",
            "Epoch 4/10\n",
            "623/623 [==============================] - 413s 663ms/step - loss: 3889.6648 - val_loss: 3795.8240\n",
            "Epoch 5/10\n",
            "623/623 [==============================] - 412s 661ms/step - loss: 3726.0806 - val_loss: 3699.2007\n",
            "Epoch 6/10\n",
            "623/623 [==============================] - 411s 660ms/step - loss: 3583.2593 - val_loss: 3638.4941\n",
            "Epoch 7/10\n",
            "623/623 [==============================] - 412s 661ms/step - loss: 3439.6392 - val_loss: 3625.0691\n",
            "Epoch 8/10\n",
            "623/623 [==============================] - 411s 660ms/step - loss: 3286.0818 - val_loss: 3573.7734\n",
            "Epoch 9/10\n",
            "623/623 [==============================] - 412s 662ms/step - loss: 3128.7041 - val_loss: 3584.5615\n",
            "Epoch 10/10\n",
            "623/623 [==============================] - 415s 667ms/step - loss: 2964.7910 - val_loss: 3807.4805\n",
            "Saving successful\n"
          ],
          "name": "stdout"
        },
        {
          "output_type": "display_data",
          "data": {
            "image/png": "[encoded data removed]",
            "text/plain": [
              "<Figure size 1080x576 with 2 Axes>"
            ]
          },
          "metadata": {
            "tags": [],
            "needs_background": "light"
          }
        },
        {
          "output_type": "execute_result",
          "data": {
            "text/plain": [
              "(1245252.625,\n",
              " {'loss': [4979.5283203125,\n",
              "   4574.337890625,\n",
              "   4099.1083984375,\n",
              "   3889.664794921875,\n",
              "   3726.08056640625,\n",
              "   3583.25927734375,\n",
              "   3439.63916015625,\n",
              "   3286.081787109375,\n",
              "   3128.7041015625,\n",
              "   2964.791015625],\n",
              "  'val_loss': [4557.92578125,\n",
              "   4127.1904296875,\n",
              "   3938.199462890625,\n",
              "   3795.823974609375,\n",
              "   3699.20068359375,\n",
              "   3638.494140625,\n",
              "   3625.069091796875,\n",
              "   3573.7734375,\n",
              "   3584.5615234375,\n",
              "   3807.48046875]})"
            ]
          },
          "metadata": {
            "tags": []
          },
          "execution_count": 27
        }
      ]
    },
    {
      "cell_type": "markdown",
      "metadata": {
        "id": "n7VOporhXA0X"
      },
      "source": [
        "####Results"
      ]
    },
    {
      "cell_type": "markdown",
      "metadata": {
        "id": "6rO5qOo1XJrN"
      },
      "source": [
        "The word embedding model Cbow with 300 dimension performs the best. The GloVe is the second best. Even if the GloVe was trained on more data, the Cbow is more fitted on the underlying data. Moreover, it can be assumed that the implementation of bigram has a positive effect. The skip-gram model with 150 dimension performs by far the worst. It also shows big jumps in the train and validation history."
      ]
    },
    {
      "cell_type": "markdown",
      "metadata": {
        "id": "Xvr7Fw0v84H0"
      },
      "source": [
        "\\begin{array}{lll}\n",
        "Word \\: Embedding \\: Model & Dimension & MSE \\: on \\: Test Set\\\\\n",
        "\\hline\n",
        "Cbow & 150 & 1,246,689.75 \\\\\n",
        "Cbow & 300 & \\bf{1,244,447.63} \\\\\n",
        "Skip-gram & 150 & 1,263,030.00 \\\\\n",
        "Skip-gram & 300 & 1,247,335.88 \\\\\n",
        "GloVe & 300 & 1,245,252.63 \\\\\n",
        "\\end{array}"
      ]
    },
    {
      "cell_type": "code",
      "metadata": {
        "id": "5XNii85RjWxk",
        "colab": {
          "base_uri": "https://localhost:8080/",
          "height": 491
        },
        "outputId": "e745ec23-73c4-4372-890f-b5af98e62b1f"
      },
      "source": [
        "plt.figure(figsize=(15, 8))\n",
        "\n",
        "#show loss\n",
        "plt.subplot(1, 2, 1)\n",
        "plt.plot(GRU_models_hist['sg150']['loss'], color=\"green\")\n",
        "plt.plot(GRU_models_hist['sg300']['loss'], color=\"red\")\n",
        "plt.plot(GRU_models_hist['cbow300']['loss'], color=\"purple\")\n",
        "plt.plot(GRU_models_hist['cbow150']['loss'], color=\"orange\")\n",
        "plt.plot(GRU_models_hist['glove300']['loss'], color=\"blue\")\n",
        "plt.legend(labels = (\"Skip-gram 150\", \"Skip-gram 300\", \"Cbow 150\", \"Cbow 300\", \"GloVe 300\"), loc = \"upper left\")\n",
        "plt.title(\"model loss\")\n",
        "plt.ylabel(\"loss\")\n",
        "plt.xlabel(\"epoch\")\n",
        "\n",
        "#show validation loss\n",
        "plt.subplot(1, 2, 2)\n",
        "plt.plot(GRU_models_hist['sg150']['val_loss'], color=\"green\")\n",
        "plt.plot(GRU_models_hist['sg300']['val_loss'], color=\"red\")\n",
        "plt.plot(GRU_models_hist['cbow300']['val_loss'], color=\"purple\")\n",
        "plt.plot(GRU_models_hist['cbow150']['val_loss'], color=\"orange\")\n",
        "plt.plot(GRU_models_hist['glove300']['val_loss'], color=\"blue\")\n",
        "plt.legend(labels = (\"Skip-gram 150\", \"Skip-gram 300\", \"Cbow 150\", \"Cbow 300\", \"GloVe 300\"), loc = \"upper left\")\n",
        "plt.title(\"model validation loss\")\n",
        "plt.ylabel(\"validation loss\")\n",
        "plt.xlabel(\"epoch\")\n",
        "#plt.subplots_adjust(bottom=0.25, top=0.75)\n",
        "plt.show()"
      ],
      "execution_count": null,
      "outputs": [
        {
          "output_type": "display_data",
          "data": {
            "image/png": "[encoded data removed]",
            "text/plain": [
              "<Figure size 1080x576 with 2 Axes>"
            ]
          },
          "metadata": {
            "tags": [],
            "needs_background": "light"
          }
        }
      ]
    },
    {
      "cell_type": "markdown",
      "metadata": {
        "id": "FkqSdUsnUvRl"
      },
      "source": [
        "###Prediction Models"
      ]
    },
    {
      "cell_type": "markdown",
      "metadata": {
        "id": "pqnnBeOHU-V_"
      },
      "source": [
        "We will predict the number of claps with help of a Multi-Layer-Perceptron (MLP), a Gated Recurrent Unit (GRU) and a Bidirectional GRU. <br>For all models the activation function \"rectified linear\" (relu) is applied since it ensures that the output is positive. All negative outputs are set to zero. This behaviour is favorable because the number of claps can never be negative -- as least not on the blog posts of our data set. Moreover, the relu activation functions overcome the problem of a vanishing gradient which is especially important for bidirectional architectures or neural networks with many layers. Additionally, the computation is very efficiently [8]<br>\n",
        "Also one classifier is applied to all models. It is called \"Adam\". It can be used instead of the classical stochastic gradient descent. In contrast to the classical stochastic gradient descent, Adam updates the weights during training in an individual and adaptive manne. [9] As the original paper states, it combines the benefits are the classifer Adaptive Gradient Algorithm (AdaGrad) and Root Mean Square Propagation (RMSProp) -- handling problem with sparse gradients but also dealing with e.g. noice. Further benefits that are presented in the orginal paper are an efficient computation and the good performance on big data. [10] <br>\n",
        "As presented in the results of the word embedding evaluation, the embedding matrix of the Cbow model with 300 dimensions is used. To increase performance in the next models, we use the already pretrained embedding weights that were saved during evaluation or rather training process of the word embeddings."
      ]
    },
    {
      "cell_type": "markdown",
      "metadata": {
        "id": "MVSlXiCoiy7U"
      },
      "source": [
        "####Multi-Layer-Perceptron (MLP)"
      ]
    },
    {
      "cell_type": "markdown",
      "metadata": {
        "id": "2p3XGZwN1JMa"
      },
      "source": [
        "Single neurons cannot solve complex task because they are restricted to a linear function. In order to overcome this problem, non-linearity is needed. A MLP is one way to do that. It is a finite directed acyclic graph with neurons that are activated with some activaton function which is in our case relu. The architecture consists of an input layer which is not a target to any connection, an output layer which are, in contrast to the input layer, no source of any connection and a hidden layer which is a layer that is not the input nor output layer. MLPs are also called vanila neural network and belong to the group of feedforward artificial neural networks. [11]"
      ]
    },
    {
      "cell_type": "code",
      "metadata": {
        "id": "DmLuaM2TrKDO"
      },
      "source": [
        "cbow300_emb_index = load_embedding(os.getcwd() + \"/\" + \"cbow_300_bigram_embeddings.txt\")\n",
        "cbow300_emb_mat = generate_emb_mat(word_index_train, cbow300_emb_index, 300) #dim = 300"
      ],
      "execution_count": null,
      "outputs": []
    },
    {
      "cell_type": "code",
      "metadata": {
        "id": "bJmylXo5_Nd4",
        "colab": {
          "base_uri": "https://localhost:8080/",
          "height": 289
        },
        "outputId": "a93ead28-739a-4abe-99fa-9cc62c8b1a9d"
      },
      "source": [
        "embedding_layer = Embedding(input_dim = no_of_words,\n",
        "                            output_dim = 300, #embed_dim,\n",
        "                            input_length = 402,\n",
        "                            embeddings_initializer=Constant(cbow300_emb_mat),\n",
        "                            trainable= True)\n",
        "\n",
        "#MLP set up\n",
        "model = Sequential()\n",
        "model.add(embedding_layer)\n",
        "model.add(Dense(100))\n",
        "model.add(Dropout(0.4))\n",
        "model.add(Dense(1, activation = \"relu\"))\n",
        "model.compile(loss = \"mse\", optimizer = \"adam\")\n",
        "model.summary()"
      ],
      "execution_count": null,
      "outputs": [
        {
          "output_type": "stream",
          "text": [
            "Model: \"sequential\"\n",
            "_________________________________________________________________\n",
            "Layer (type)                 Output Shape              Param #   \n",
            "=================================================================\n",
            "embedding (Embedding)        (None, 402, 300)          61722600  \n",
            "_________________________________________________________________\n",
            "dense (Dense)                (None, 402, 100)          30100     \n",
            "_________________________________________________________________\n",
            "dropout (Dropout)            (None, 402, 100)          0         \n",
            "_________________________________________________________________\n",
            "dense_1 (Dense)              (None, 402, 1)            101       \n",
            "=================================================================\n",
            "Total params: 61,752,801\n",
            "Trainable params: 61,752,801\n",
            "Non-trainable params: 0\n",
            "_________________________________________________________________\n"
          ],
          "name": "stdout"
        }
      ]
    },
    {
      "cell_type": "code",
      "metadata": {
        "id": "EotcmGJnR-D1"
      },
      "source": [
        "model.load_weights(\"GRU_cbow300_10ep_64ba.h5\")"
      ],
      "execution_count": null,
      "outputs": []
    },
    {
      "cell_type": "code",
      "metadata": {
        "id": "UVlXZWXHbTmQ",
        "colab": {
          "base_uri": "https://localhost:8080/",
          "height": 374
        },
        "outputId": "c0a6bfd2-f937-4f2f-b30f-12c1d5d85add"
      },
      "source": [
        "model.fit(X_train, y_train, validation_split = val_split, epochs= epochs, batch_size = batch_size, verbose = 1)"
      ],
      "execution_count": null,
      "outputs": [
        {
          "output_type": "stream",
          "text": [
            "Epoch 1/10\n",
            "312/312 [==============================] - 285s 913ms/step - loss: 5061.3452 - val_loss: 4614.2632\n",
            "Epoch 2/10\n",
            "312/312 [==============================] - 285s 915ms/step - loss: 4716.9189 - val_loss: 4555.1558\n",
            "Epoch 3/10\n",
            "312/312 [==============================] - 286s 916ms/step - loss: 4674.0293 - val_loss: 4538.6680\n",
            "Epoch 4/10\n",
            "312/312 [==============================] - 286s 917ms/step - loss: 4643.7314 - val_loss: 4525.1450\n",
            "Epoch 5/10\n",
            "312/312 [==============================] - 287s 920ms/step - loss: 4624.7217 - val_loss: 4506.7173\n",
            "Epoch 6/10\n",
            "312/312 [==============================] - 287s 919ms/step - loss: 4606.0815 - val_loss: 4514.4492\n",
            "Epoch 7/10\n",
            "312/312 [==============================] - 287s 921ms/step - loss: 4595.4150 - val_loss: 4494.6211\n",
            "Epoch 8/10\n",
            "312/312 [==============================] - 285s 913ms/step - loss: 4582.2612 - val_loss: 4494.1226\n",
            "Epoch 9/10\n",
            "312/312 [==============================] - 283s 906ms/step - loss: 4573.1211 - val_loss: 4492.7319\n",
            "Epoch 10/10\n",
            "312/312 [==============================] - 282s 903ms/step - loss: 4566.4653 - val_loss: 4488.6157\n"
          ],
          "name": "stdout"
        },
        {
          "output_type": "execute_result",
          "data": {
            "text/plain": [
              "<tensorflow.python.keras.callbacks.History at 0x7f25682dc908>"
            ]
          },
          "metadata": {
            "tags": []
          },
          "execution_count": 31
        }
      ]
    },
    {
      "cell_type": "code",
      "metadata": {
        "id": "uu5zKqyqa1Cr"
      },
      "source": [
        "MLP_MSE = model.evaluate(X_test, y_test, verbose = 0)"
      ],
      "execution_count": null,
      "outputs": []
    },
    {
      "cell_type": "code",
      "metadata": {
        "id": "J06D7jISitpD"
      },
      "source": [
        "y_pred = model.predict(X_test)"
      ],
      "execution_count": null,
      "outputs": []
    },
    {
      "cell_type": "code",
      "metadata": {
        "id": "eONZlBy3blE8"
      },
      "source": [
        "models.update({MLP_MSE})"
      ],
      "execution_count": null,
      "outputs": []
    },
    {
      "cell_type": "markdown",
      "metadata": {
        "id": "3siw9FcJMV-o"
      },
      "source": [
        "####GRU with trained weights"
      ]
    },
    {
      "cell_type": "markdown",
      "metadata": {
        "id": "HPctRB6BDznb"
      },
      "source": [
        "GRUs and LSTMs have very similar recurrent neural network architectures that aim to solve the vanishing gradient problem which is typically introduced by standard recurrent neural networks (RNN) [12]. However, GRUs are computationally less costly to implement. Moreover, LSTM does not perform better in general. [13] Therefore, we decided to implement a GRU and run e.g. more epochs. <br> In contrast to an standard RNN, the architecture of GRU contain a update and reset gate. These two types of gates decides on which information is passed through to the next layer. However, they can still keep long term information which does not vanish over time like it would in a standard RNN. The update gate controlls if information is copied for instance or if only a little bit of information is passed through. Additionally, the reset gate supports in that way that it decides how much of the previous information can be forgotten. [12] <br>GRUs work in an online mode which means that they do not know the whole text in advance but rather learn word by word. In contrast bidirectional GRU work in an offline mode. This means that they know the text sequence as a whole. In some context it is crucial to know the whole context beforehand like in text summarization. [14] <br>\n",
        "\n"
      ]
    },
    {
      "cell_type": "code",
      "metadata": {
        "id": "UWBN_N5BJsgA"
      },
      "source": [
        "#load generated embedding matrix\n",
        "cbow300_emb_index = load_embedding(os.getcwd() + \"/\" + \"cbow_300_bigram_embeddings.txt\")\n",
        "cbow300_emb_mat = generate_emb_mat(word_index_train, cbow300_emb_index, 300) #dim = 300"
      ],
      "execution_count": null,
      "outputs": []
    },
    {
      "cell_type": "code",
      "metadata": {
        "id": "8VFh0ZLddL2U",
        "colab": {
          "base_uri": "https://localhost:8080/",
          "height": 289
        },
        "outputId": "09cc12ae-a262-4ee0-a40e-3945cd581b5a"
      },
      "source": [
        "#Size of RNN hidden state. Rule of thumb for RNN hidden state size: 'the optimal size of the hidden layer is usually between the size of the input and size of the output layers'. -Jeff Heaton, author of Introduction to Neural Networks in Java\n",
        "#embedding layer\n",
        "embedding_layer = Embedding(input_dim = no_of_words,\n",
        "                            output_dim = 300, #embed_dim,\n",
        "                            input_length = 402, #max_len_text,\n",
        "                            embeddings_initializer=Constant(cbow300_emb_mat),\n",
        "                            trainable=True)\n",
        "                            #embeddings_regularizer=l2_reg)\n",
        "\n",
        "\n",
        "#GRU set up\n",
        "model = Sequential()\n",
        "model.add(embedding_layer)\n",
        "model.add(GRU(100)) #, weights = pre_weights)\n",
        "model.add(Dropout(0.2))\n",
        "model.add(Dense(1, activation = \"relu\"))\n",
        "model.compile(loss = \"mse\", optimizer = \"adam\")\n",
        "model.summary()"
      ],
      "execution_count": null,
      "outputs": [
        {
          "output_type": "stream",
          "text": [
            "Model: \"sequential_1\"\n",
            "_________________________________________________________________\n",
            "Layer (type)                 Output Shape              Param #   \n",
            "=================================================================\n",
            "embedding_1 (Embedding)      (None, 402, 300)          69626700  \n",
            "_________________________________________________________________\n",
            "gru_1 (GRU)                  (None, 100)               120600    \n",
            "_________________________________________________________________\n",
            "dropout_1 (Dropout)          (None, 100)               0         \n",
            "_________________________________________________________________\n",
            "dense_1 (Dense)              (None, 1)                 101       \n",
            "=================================================================\n",
            "Total params: 69,747,401\n",
            "Trainable params: 69,747,401\n",
            "Non-trainable params: 0\n",
            "_________________________________________________________________\n"
          ],
          "name": "stdout"
        }
      ]
    },
    {
      "cell_type": "code",
      "metadata": {
        "id": "PKFyxJRIcZyu"
      },
      "source": [
        "model.load_weights(\"GRU_cbow300_10ep_64ba.h5\") #load pretrained weights"
      ],
      "execution_count": null,
      "outputs": []
    },
    {
      "cell_type": "code",
      "metadata": {
        "id": "EEblmlxtHT7g",
        "colab": {
          "base_uri": "https://localhost:8080/",
          "height": 697
        },
        "outputId": "5261ecb0-75e7-4816-a71a-7c987b6b89d3"
      },
      "source": [
        "model_hist_GRU_w = model.fit(X_train, y_train, validation_split= val_split, epochs= epochs, batch_size = batch_size) #validation_data=(X_test, y_test)"
      ],
      "execution_count": null,
      "outputs": [
        {
          "output_type": "stream",
          "text": [
            "Epoch 1/20\n",
            "312/312 [==============================] - 759s 2s/step - loss: 2062.7976 - val_loss: 3704.5308\n",
            "Epoch 2/20\n",
            "312/312 [==============================] - 759s 2s/step - loss: 1653.6630 - val_loss: 3828.9692\n",
            "Epoch 3/20\n",
            "312/312 [==============================] - 750s 2s/step - loss: 1362.3687 - val_loss: 3915.8696\n",
            "Epoch 4/20\n",
            "312/312 [==============================] - 765s 2s/step - loss: 1086.8198 - val_loss: 3997.7192\n",
            "Epoch 5/20\n",
            "312/312 [==============================] - 767s 2s/step - loss: 895.4716 - val_loss: 4064.7925\n",
            "Epoch 6/20\n",
            "312/312 [==============================] - 767s 2s/step - loss: 767.1475 - val_loss: 4242.9126\n",
            "Epoch 7/20\n",
            "312/312 [==============================] - 760s 2s/step - loss: 614.1409 - val_loss: 4158.6689\n",
            "Epoch 8/20\n",
            "312/312 [==============================] - 766s 2s/step - loss: 533.3627 - val_loss: 4212.9863\n",
            "Epoch 9/20\n",
            "312/312 [==============================] - 750s 2s/step - loss: 452.2273 - val_loss: 4286.1270\n",
            "Epoch 10/20\n",
            "312/312 [==============================] - 759s 2s/step - loss: 396.7936 - val_loss: 4300.3623\n",
            "Epoch 11/20\n",
            "312/312 [==============================] - 753s 2s/step - loss: 345.0874 - val_loss: 4260.9487\n",
            "Epoch 12/20\n",
            "312/312 [==============================] - 757s 2s/step - loss: 308.3256 - val_loss: 4107.3423\n",
            "Epoch 13/20\n",
            "312/312 [==============================] - 769s 2s/step - loss: 337.5449 - val_loss: 4400.8623\n",
            "Epoch 14/20\n",
            "312/312 [==============================] - 763s 2s/step - loss: 324.3201 - val_loss: 4155.4443\n",
            "Epoch 15/20\n",
            "312/312 [==============================] - 766s 2s/step - loss: 294.5098 - val_loss: 4334.2026\n",
            "Epoch 16/20\n",
            "312/312 [==============================] - 765s 2s/step - loss: 283.1808 - val_loss: 4117.9722\n",
            "Epoch 17/20\n",
            "312/312 [==============================] - 761s 2s/step - loss: 262.8714 - val_loss: 4098.8613\n",
            "Epoch 18/20\n",
            "312/312 [==============================] - 754s 2s/step - loss: 227.2899 - val_loss: 4168.6123\n",
            "Epoch 19/20\n",
            "312/312 [==============================] - 751s 2s/step - loss: 188.8043 - val_loss: 4054.0435\n",
            "Epoch 20/20\n",
            "312/312 [==============================] - 754s 2s/step - loss: 179.4255 - val_loss: 4044.2725\n"
          ],
          "name": "stdout"
        }
      ]
    },
    {
      "cell_type": "code",
      "metadata": {
        "id": "eVC5HymtTph5",
        "colab": {
          "base_uri": "https://localhost:8080/",
          "height": 350
        },
        "outputId": "f78a0944-e697-4200-e084-d6e8ed8e37f8"
      },
      "source": [
        "plot_hist(model_hist_GRU_w)"
      ],
      "execution_count": null,
      "outputs": [
        {
          "output_type": "display_data",
          "data": {
            "image/png": "[encoded data removed]",
            "text/plain": [
              "<Figure size 1080x576 with 2 Axes>"
            ]
          },
          "metadata": {
            "tags": [],
            "needs_background": "light"
          }
        }
      ]
    },
    {
      "cell_type": "code",
      "metadata": {
        "id": "PPkleWkyYS9h"
      },
      "source": [
        "y_pred = model.predict(X_test)\n",
        "mse_GRU = mean_squared_error(y_test, y_pred)"
      ],
      "execution_count": null,
      "outputs": []
    },
    {
      "cell_type": "code",
      "metadata": {
        "id": "ouGKH1w9CgBf",
        "colab": {
          "base_uri": "https://localhost:8080/",
          "height": 34
        },
        "outputId": "a406895e-1d57-43e4-92f5-b43cc585b5ff"
      },
      "source": [
        "mse_GRU"
      ],
      "execution_count": null,
      "outputs": [
        {
          "output_type": "execute_result",
          "data": {
            "text/plain": [
              "1238598.8923287229"
            ]
          },
          "metadata": {
            "tags": []
          },
          "execution_count": 52
        }
      ]
    },
    {
      "cell_type": "markdown",
      "metadata": {
        "id": "DPAoDhFXcg9A"
      },
      "source": [
        "####Bidirectional GRU"
      ]
    },
    {
      "cell_type": "code",
      "metadata": {
        "id": "Hnuj7ZxXKuTU",
        "colab": {
          "base_uri": "https://localhost:8080/",
          "height": 289
        },
        "outputId": "cc47b4df-4fba-4a3f-877a-f34d3530c73c"
      },
      "source": [
        "#size of RNN hidden state. Rule of thumb for RNN hidden state size: 'the optimal size of the hidden layer is usually between the size of the input and size of the output layers'. -Jeff Heaton, author of Introduction to Neural Networks in Java\n",
        "\n",
        "#embedding layer\n",
        "embedding_layer = Embedding(input_dim = no_of_words,\n",
        "                            output_dim = 300, #embed_dim,\n",
        "                            input_length = 402, #max_len_text,\n",
        "                            embeddings_initializer=Constant(cbow300_emb_mat),\n",
        "                            trainable=True)\n",
        "                            #embeddings_regularizer=l2_reg)\n",
        "\n",
        "\n",
        "#GRU set up\n",
        "model = Sequential()\n",
        "model.add(embedding_layer)\n",
        "model.add(Bidirectional(GRU(100), merge_mode = \"concat\")) #, weights = pre_weights)\n",
        "model.add(Dropout(0.4))\n",
        "model.add(Dense(1, activation = \"relu\"))\n",
        "model.compile(loss = \"mse\", optimizer = \"adam\")\n",
        "model.summary()\n",
        "\n"
      ],
      "execution_count": null,
      "outputs": [
        {
          "output_type": "stream",
          "text": [
            "Model: \"sequential_1\"\n",
            "_________________________________________________________________\n",
            "Layer (type)                 Output Shape              Param #   \n",
            "=================================================================\n",
            "embedding_1 (Embedding)      (None, 402, 300)          69626700  \n",
            "_________________________________________________________________\n",
            "bidirectional_1 (Bidirection (None, 200)               241200    \n",
            "_________________________________________________________________\n",
            "dropout_1 (Dropout)          (None, 200)               0         \n",
            "_________________________________________________________________\n",
            "dense_1 (Dense)              (None, 1)                 201       \n",
            "=================================================================\n",
            "Total params: 69,868,101\n",
            "Trainable params: 69,868,101\n",
            "Non-trainable params: 0\n",
            "_________________________________________________________________\n"
          ],
          "name": "stdout"
        }
      ]
    },
    {
      "cell_type": "code",
      "metadata": {
        "id": "FkBjK6Ckc-oc",
        "colab": {
          "base_uri": "https://localhost:8080/",
          "height": 357
        },
        "outputId": "99a30ede-43bd-43e5-c1e0-ba9baeaaf1cd"
      },
      "source": [
        "model_hist_BiGRU = model.fit(X_train, y_train, validation_split= val_split, epochs= epochs, batch_size = batch_size) #validation_data=(X_test, y_test)"
      ],
      "execution_count": null,
      "outputs": [
        {
          "output_type": "stream",
          "text": [
            "Epoch 1/10\n",
            "312/312 [==============================] - 1224s 4s/step - loss: 4922.8496 - val_loss: 4353.7422\n",
            "Epoch 2/10\n",
            "312/312 [==============================] - 1274s 4s/step - loss: 4034.5369 - val_loss: 3667.1392\n",
            "Epoch 3/10\n",
            "312/312 [==============================] - 1225s 4s/step - loss: 3312.4834 - val_loss: 3395.3215\n",
            "Epoch 4/10\n",
            "312/312 [==============================] - 1266s 4s/step - loss: 2406.7710 - val_loss: 3559.4353\n",
            "Epoch 5/10\n",
            "312/312 [==============================] - 1306s 4s/step - loss: 1594.3810 - val_loss: 3720.5793\n",
            "Epoch 6/10\n",
            "312/312 [==============================] - 1304s 4s/step - loss: 1040.1787 - val_loss: 3861.9666\n",
            "Epoch 7/10\n",
            "312/312 [==============================] - 1299s 4s/step - loss: 721.3184 - val_loss: 3832.3081\n",
            "Epoch 8/10\n",
            "312/312 [==============================] - 1322s 4s/step - loss: 524.5369 - val_loss: 3907.1851\n",
            "Epoch 9/10\n",
            "312/312 [==============================] - 1354s 4s/step - loss: 393.2196 - val_loss: 3867.0562\n",
            "Epoch 10/10\n",
            "312/312 [==============================] - 1357s 4s/step - loss: 323.2965 - val_loss: 3854.4802\n"
          ],
          "name": "stdout"
        }
      ]
    },
    {
      "cell_type": "code",
      "metadata": {
        "id": "4hhjODidKmQG"
      },
      "source": [
        "model.save(\"BiGRU_10.h5\")"
      ],
      "execution_count": null,
      "outputs": []
    },
    {
      "cell_type": "code",
      "metadata": {
        "id": "ENdn4vFsB7R9",
        "colab": {
          "base_uri": "https://localhost:8080/",
          "height": 366
        },
        "outputId": "8ea0a2e1-4d37-4c87-be64-73da02c8a390"
      },
      "source": [
        "plot_hist(model_hist_BiGRU)"
      ],
      "execution_count": null,
      "outputs": [
        {
          "output_type": "display_data",
          "data": {
            "image/png": "[encoded data removed]",
            "text/plain": [
              "<Figure size 1080x576 with 2 Axes>"
            ]
          },
          "metadata": {
            "tags": [],
            "needs_background": "light"
          }
        }
      ]
    },
    {
      "cell_type": "code",
      "metadata": {
        "id": "Eq3j6RDbfObz"
      },
      "source": [
        "from keras import models    \n",
        "model = models.load_model('BiGRU_10.h5')"
      ],
      "execution_count": null,
      "outputs": []
    },
    {
      "cell_type": "code",
      "metadata": {
        "id": "osN5ryFqgQjG",
        "colab": {
          "base_uri": "https://localhost:8080/",
          "height": 33
        },
        "outputId": "2f4fdee4-c239-4681-8ced-d339147006c6"
      },
      "source": [
        "BiGru_mse = model.evaluate(X_test, y_test, verbose = 0)\n",
        "BiGru_mse"
      ],
      "execution_count": null,
      "outputs": [
        {
          "output_type": "execute_result",
          "data": {
            "text/plain": [
              "1248442.625"
            ]
          },
          "metadata": {
            "tags": []
          },
          "execution_count": 26
        }
      ]
    },
    {
      "cell_type": "code",
      "metadata": {
        "id": "GLEczsMyh09Q"
      },
      "source": [
        "?model.evaluate"
      ],
      "execution_count": null,
      "outputs": []
    },
    {
      "cell_type": "markdown",
      "metadata": {
        "id": "vYRa7SUPd15I"
      },
      "source": [
        "####Results"
      ]
    },
    {
      "cell_type": "markdown",
      "metadata": {
        "id": "ytMMfsCJL9eu"
      },
      "source": [
        "The models are compared with their scalar test loss which is in our case equal to the mean-squared-error since we specified loss as \"mse\" in all models set-ups. The function model.evaluate(X_test, y_test) returns two scores. The loss and the accuracy (not specified in our analysis).\n"
      ]
    },
    {
      "cell_type": "markdown",
      "metadata": {
        "id": "H6TOx0jWgRWs"
      },
      "source": [
        "\\begin{array}{ll}\n",
        "Model & MSE \\\\\n",
        "\\hline\n",
        "Elastic Net & 1,243,992.29 \\\\\n",
        "MLP \\:10 & 1,257,236.75 \\\\\n",
        "Gru \\:20 & 1,238,598.89 \\\\\n",
        "BiGru \\:10 & 1,248,442.63 \\\\\n",
        "\\end{array}"
      ]
    },
    {
      "cell_type": "markdown",
      "metadata": {
        "id": "nhC-jKFKlW_p"
      },
      "source": [
        "Even though the dropout rates of the GRU and BiGRU are with 0.4 quite high and should prevent the model from overfitting, both models seem to suffer from overfitting. Nevertheless, the forward GRU that trained 20 epochs performed the best in spite of overfitting and therefore will be used for the final prediction."
      ]
    },
    {
      "cell_type": "code",
      "metadata": {
        "id": "l7kYQq0qd5-G"
      },
      "source": [
        "models"
      ],
      "execution_count": null,
      "outputs": []
    },
    {
      "cell_type": "markdown",
      "metadata": {
        "id": "hf0DJ-i8ymkQ"
      },
      "source": [
        "##Test Set Prediction"
      ]
    },
    {
      "cell_type": "code",
      "metadata": {
        "id": "u6STMkPgiS1h"
      },
      "source": [
        "from keras import models    \n",
        "model = models.load_model('GRU_test.h5')"
      ],
      "execution_count": null,
      "outputs": []
    },
    {
      "cell_type": "code",
      "metadata": {
        "id": "ZkD4Oomlyp99"
      },
      "source": [
        "#combine, header und text, clean text\n",
        "#clean author, clean zum numbers, check for empty authors\n",
        "\n",
        "data_file = \"Test.csv\"\n",
        "test = pd.read_csv(data_file, encoding='utf-8')\n",
        "del(test[\"Unnamed: 0\"])\n",
        "#test = test.drop(\"index\", axis=1)\n",
        "#test = test.reset_index()"
      ],
      "execution_count": null,
      "outputs": []
    },
    {
      "cell_type": "code",
      "metadata": {
        "id": "Ufvt96iBzsLe",
        "colab": {
          "base_uri": "https://localhost:8080/",
          "height": 156
        },
        "outputId": "14542dd8-3cd9-4db3-83f9-2ec212be5cf1"
      },
      "source": [
        "#extract number of responses, remove all characters which is not numeric, impute missing value with value 0\n",
        "\n",
        "print(test.Responses.isnull().sum())\n",
        "test.Responses[test.Responses.isnull()] = 0\n",
        "print(test.Responses.isnull().sum())\n",
        "\n",
        "def clean_respond(row, df_length):\n",
        "  \n",
        "  row[\"Responses\"] = str(row[\"Responses\"])\n",
        "  row[\"Responses\"] = re.sub(\"[^0-9]\", \" \", row[\"Responses\"])\n",
        "\n",
        "  return row\n",
        "\n",
        "test = test.apply(lambda row: clean_respond(row, len(test)), axis=1)"
      ],
      "execution_count": null,
      "outputs": [
        {
          "output_type": "stream",
          "text": [
            "82\n",
            "0\n"
          ],
          "name": "stdout"
        },
        {
          "output_type": "stream",
          "text": [
            "/usr/local/lib/python3.6/dist-packages/ipykernel_launcher.py:4: SettingWithCopyWarning: \n",
            "A value is trying to be set on a copy of a slice from a DataFrame\n",
            "\n",
            "See the caveats in the documentation: https://pandas.pydata.org/pandas-docs/stable/user_guide/indexing.html#returning-a-view-versus-a-copy\n",
            "  after removing the cwd from sys.path.\n"
          ],
          "name": "stderr"
        }
      ]
    },
    {
      "cell_type": "code",
      "metadata": {
        "id": "5UdPmb0m_aCE"
      },
      "source": [
        "#extract date zum PublicationDetails, remove all characters which is not numeric\n",
        "\n",
        "def clean_publ(row, df_length):\n",
        "  \n",
        "  #row[\"Responses\"] = str(row[\"Responses\"])\n",
        "  row[\"PublicationDetails\"] = row[\"PublicationDetails\"].replace(\"Dec\", \"12\")\n",
        "  row[\"PublicationDetails\"] = row[\"PublicationDetails\"].replace(\"Nov\", \"11\")\n",
        "  row[\"PublicationDetails\"] = row[\"PublicationDetails\"].replace(\"Oct\", \"10\")\n",
        "  row[\"PublicationDetails\"] = row[\"PublicationDetails\"].replace(\"Sep\", \"09\")\n",
        "  row[\"PublicationDetails\"] = row[\"PublicationDetails\"].replace(\"Aug\", \"08\")\n",
        "  row[\"PublicationDetails\"] = row[\"PublicationDetails\"].replace(\"Jul\", \"07\")\n",
        "  row[\"PublicationDetails\"] = row[\"PublicationDetails\"].replace(\"Jun\", \"06\")\n",
        "  row[\"PublicationDetails\"] = row[\"PublicationDetails\"].replace(\"May\", \"05\")\n",
        "  row[\"PublicationDetails\"] = row[\"PublicationDetails\"].replace(\"Apr\", \"04\")\n",
        "  row[\"PublicationDetails\"] = row[\"PublicationDetails\"].replace(\"Mar\", \"03\")\n",
        "  row[\"PublicationDetails\"] = row[\"PublicationDetails\"].replace(\"Feb\", \"02\")\n",
        "  row[\"PublicationDetails\"] = row[\"PublicationDetails\"].replace(\"Jan\", \"01\")\n",
        "  \n",
        "  return row\n",
        "\n",
        "test = test.apply(lambda row: clean_publ(row, len(test)), axis=1) \n",
        "\n",
        "test[\"date\"] = [re.sub(\"[^0-9]\", \"\", x) for x in test[\"PublicationDetails\"]]\n",
        "test[\"year\"] = [int(str(x)[-4:]) for x in test[\"date\"]]\n",
        "test[\"author_info\"] = [re.sub(\"[0-9]\", \"\", x) for x in test[\"PublicationDetails\"]]"
      ],
      "execution_count": null,
      "outputs": []
    },
    {
      "cell_type": "code",
      "metadata": {
        "id": "slLCwzGjDexo"
      },
      "source": [
        "#author cleaning: remove digits/date from var\n",
        "\n",
        "def clean_author(row, df_length):\n",
        "  \n",
        "  row[\"Author\"] = row[\"Author\"].replace(\"Dec\", \"12\")\n",
        "  row[\"Author\"] = row[\"Author\"].replace(\"Nov\", \"11\")\n",
        "  row[\"Author\"] = row[\"Author\"].replace(\"Oct\", \"10\")\n",
        "  row[\"Author\"] = row[\"Author\"].replace(\"Sep\", \"09\")\n",
        "  row[\"Author\"] = row[\"Author\"].replace(\"Aug\", \"08\")\n",
        "  row[\"Author\"] = row[\"Author\"].replace(\"Jul\", \"07\")\n",
        "  row[\"Author\"] = row[\"Author\"].replace(\"Jun\", \"06\")\n",
        "  row[\"Author\"] = row[\"Author\"].replace(\"May\", \"05\")\n",
        "  row[\"Author\"] = row[\"Author\"].replace(\"Apr\", \"04\")\n",
        "  row[\"Author\"] = row[\"Author\"].replace(\"Mar\", \"03\")\n",
        "  row[\"Author\"] = row[\"Author\"].replace(\"Feb\", \"02\")\n",
        "  row[\"Author\"] = row[\"Author\"].replace(\"Jan\", \"01\")\n",
        "  \n",
        "  return row\n",
        "\n",
        "test = test.apply(lambda row: clean_author(row, len(test)), axis=1) \n",
        "test[\"Author\"] = [re.sub(\"[0-9]\", \"\", x) for x in test[\"Author\"]]\n",
        "test[\"Author\"] = test[\"Author\"].replace(\" , \", \"Unknown\")\n",
        "test[\"Author\"] = test[\"Author\"].replace(\"-\", \"Unknown\")"
      ],
      "execution_count": null,
      "outputs": []
    },
    {
      "cell_type": "code",
      "metadata": {
        "id": "kfWKiLTuKVr4"
      },
      "source": [
        "def clean_split(row, df_length):\n",
        "\n",
        "  #row[\"author_info\"] = str(row[\"author_info\"])\n",
        "  #row[\"author_info\"] = row[\"author_info\"].split(\"in\")\n",
        "  row[\"author_info\"] = row[\"author_info\"].partition('in')[0]\n",
        "  row[\"author_info\"] = re.sub(\"[^a-zA-Z]\", \" \", row[\"author_info\"])\n",
        "  row[\"author_info\"] = ' '.join( [w for w in row[\"author_info\"].split() if len(w)>1] )\n",
        "  \n",
        "  return row\n",
        "\n",
        "test = test.apply(lambda row: clean_split(row, len(test)), axis=1) "
      ],
      "execution_count": null,
      "outputs": []
    },
    {
      "cell_type": "code",
      "metadata": {
        "id": "WEwxuIX4AzIl"
      },
      "source": [
        "test[\"Author\"] = np.where((test[\"Author\"] == \"Unknown\") & (test[\"author_info\"] != \"\"), test[\"author_info\"], np.where((test[\"Author\"] == \"Unknown\") & (test[\"author_info\"] == \"\"), \"Unknown\", test[\"Author\"]))"
      ],
      "execution_count": null,
      "outputs": []
    },
    {
      "cell_type": "code",
      "metadata": {
        "id": "oJkqoyXuR51U",
        "colab": {
          "base_uri": "https://localhost:8080/",
          "height": 397
        },
        "outputId": "006f2918-046a-4509-8ffd-c685ec4c121d"
      },
      "source": [
        "test.tail()"
      ],
      "execution_count": null,
      "outputs": [
        {
          "output_type": "execute_result",
          "data": {
            "text/html": [
              "<div>\n",
              "<style scoped>\n",
              "    .dataframe tbody tr th:only-of-type {\n",
              "        vertical-align: middle;\n",
              "    }\n",
              "\n",
              "    .dataframe tbody tr th {\n",
              "        vertical-align: top;\n",
              "    }\n",
              "\n",
              "    .dataframe thead th {\n",
              "        text-align: right;\n",
              "    }\n",
              "</style>\n",
              "<table border=\"1\" class=\"dataframe\">\n",
              "  <thead>\n",
              "    <tr style=\"text-align: right;\">\n",
              "      <th></th>\n",
              "      <th>index</th>\n",
              "      <th>Author</th>\n",
              "      <th>PublicationDetails</th>\n",
              "      <th>Responses</th>\n",
              "      <th>Header</th>\n",
              "      <th>Text</th>\n",
              "      <th>Length</th>\n",
              "      <th>date</th>\n",
              "      <th>year</th>\n",
              "      <th>author_info</th>\n",
              "    </tr>\n",
              "  </thead>\n",
              "  <tbody>\n",
              "    <tr>\n",
              "      <th>509</th>\n",
              "      <td>598</td>\n",
              "      <td>Tim Romero</td>\n",
              "      <td>Tim Romero in Startup Lessons Learned06 9, 2016</td>\n",
              "      <td>181</td>\n",
              "      <td>Why I turned down $500K, Pissed off my investo...</td>\n",
              "      <td>I just did what no startup founder is ever sup...</td>\n",
              "      <td>9025</td>\n",
              "      <td>0692016</td>\n",
              "      <td>2016</td>\n",
              "      <td>Tim Romero</td>\n",
              "    </tr>\n",
              "    <tr>\n",
              "      <th>510</th>\n",
              "      <td>599</td>\n",
              "      <td>Product Hunt</td>\n",
              "      <td>Product Hunt06 10, 2016</td>\n",
              "      <td>24</td>\n",
              "      <td>These Tools Will Help You Launch Your Startup</td>\n",
              "      <td>If you’re embarking on the startup journey and...</td>\n",
              "      <td>5571</td>\n",
              "      <td>06102016</td>\n",
              "      <td>2016</td>\n",
              "      <td>Product Hunt</td>\n",
              "    </tr>\n",
              "    <tr>\n",
              "      <th>511</th>\n",
              "      <td>600</td>\n",
              "      <td>Joe Procopio</td>\n",
              "      <td>Joe Procopio03 19</td>\n",
              "      <td>24</td>\n",
              "      <td>Why Startups Fall Apart at 50 Employees</td>\n",
              "      <td>Fuck you startups with your extravagant partie...</td>\n",
              "      <td>475</td>\n",
              "      <td>0319</td>\n",
              "      <td>319</td>\n",
              "      <td>Joe Procopio</td>\n",
              "    </tr>\n",
              "    <tr>\n",
              "      <th>512</th>\n",
              "      <td>601</td>\n",
              "      <td>Unknown</td>\n",
              "      <td>Winerist in Be Yourself03 18, 2016</td>\n",
              "      <td>116</td>\n",
              "      <td>Beware of Startup Prostitution</td>\n",
              "      <td>Note: This is not a post to glorify prostituti...</td>\n",
              "      <td>13483</td>\n",
              "      <td>03182016</td>\n",
              "      <td>2016</td>\n",
              "      <td></td>\n",
              "    </tr>\n",
              "    <tr>\n",
              "      <th>513</th>\n",
              "      <td>602</td>\n",
              "      <td>Aytek</td>\n",
              "      <td>Aytekin Tank in The Startup01 11, 2018</td>\n",
              "      <td>34</td>\n",
              "      <td>How to build a startup — without quitting your...</td>\n",
              "      <td>Question: What do Craigslist and Albert Einste...</td>\n",
              "      <td>8736</td>\n",
              "      <td>01112018</td>\n",
              "      <td>2018</td>\n",
              "      <td>Aytek</td>\n",
              "    </tr>\n",
              "  </tbody>\n",
              "</table>\n",
              "</div>"
            ],
            "text/plain": [
              "     index        Author  ...  year   author_info\n",
              "509    598    Tim Romero  ...  2016    Tim Romero\n",
              "510    599  Product Hunt  ...  2016  Product Hunt\n",
              "511    600  Joe Procopio  ...   319  Joe Procopio\n",
              "512    601       Unknown  ...  2016              \n",
              "513    602         Aytek  ...  2018         Aytek\n",
              "\n",
              "[5 rows x 10 columns]"
            ]
          },
          "metadata": {
            "tags": []
          },
          "execution_count": 12
        }
      ]
    },
    {
      "cell_type": "code",
      "metadata": {
        "id": "087wmtPFCdS4",
        "colab": {
          "base_uri": "https://localhost:8080/",
          "height": 111
        },
        "outputId": "67f61b90-84a3-4a8f-d450-c61118a40507"
      },
      "source": [
        "test.loc[test.Author == \"Product Hunt\", [\"Author\"]]"
      ],
      "execution_count": null,
      "outputs": [
        {
          "output_type": "execute_result",
          "data": {
            "text/html": [
              "<div>\n",
              "<style scoped>\n",
              "    .dataframe tbody tr th:only-of-type {\n",
              "        vertical-align: middle;\n",
              "    }\n",
              "\n",
              "    .dataframe tbody tr th {\n",
              "        vertical-align: top;\n",
              "    }\n",
              "\n",
              "    .dataframe thead th {\n",
              "        text-align: right;\n",
              "    }\n",
              "</style>\n",
              "<table border=\"1\" class=\"dataframe\">\n",
              "  <thead>\n",
              "    <tr style=\"text-align: right;\">\n",
              "      <th></th>\n",
              "      <th>Author</th>\n",
              "    </tr>\n",
              "  </thead>\n",
              "  <tbody>\n",
              "    <tr>\n",
              "      <th>505</th>\n",
              "      <td>Product Hunt</td>\n",
              "    </tr>\n",
              "    <tr>\n",
              "      <th>510</th>\n",
              "      <td>Product Hunt</td>\n",
              "    </tr>\n",
              "  </tbody>\n",
              "</table>\n",
              "</div>"
            ],
            "text/plain": [
              "           Author\n",
              "505  Product Hunt\n",
              "510  Product Hunt"
            ]
          },
          "metadata": {
            "tags": []
          },
          "execution_count": 56
        }
      ]
    },
    {
      "cell_type": "code",
      "metadata": {
        "id": "JMLGEfiokl1p",
        "colab": {
          "base_uri": "https://localhost:8080/",
          "height": 34
        },
        "outputId": "2457dfb3-a11d-4cab-b9cc-f98848f5ef81"
      },
      "source": [
        "#Reset missing values in Header, otherwise, the next processing step does not work properly, 0 is implement because it is easy to apply, store and remove in the text cleaning\n",
        "test[\"Header\"] = np.where(test.Header.isnull(), 0, test[\"Header\"])\n",
        "\n",
        "#Merge headlines and texts \n",
        "test[\"text_full\"] = test[\"Header\"].astype(str) + \" \" + test[\"Text\"]\n",
        "\n",
        "#Clean text like the training set\n",
        "def clean_all(row, df_length):\n",
        "  \n",
        "  row[\"text_full\"] = cleaning_function(row[\"text_full\"])\n",
        "\n",
        "  print(f\"\\rcompleted: {row.name + 1} of {df_length}\", end=\"\")\n",
        "  return row\n",
        "\n",
        "t1 = time.perf_counter()\n",
        "#für später: tr_new anstatt df (2x)\n",
        "#train_cleaned = tr_new.reset_index()\n",
        "#train_cleaned = train_cleaned.drop(\"index\", axis=1)\n",
        "test_cleaned = test.apply(lambda row: clean_all(row, len(test)), axis=1)\n",
        "t2 = time.perf_counter()\n",
        "\n",
        "print(\"It took {:.2f} minutes to compile\".format((t2-t1)/60))"
      ],
      "execution_count": null,
      "outputs": [
        {
          "output_type": "stream",
          "text": [
            "completed: 514 of 514It took 0.38 minutes to compile\n"
          ],
          "name": "stdout"
        }
      ]
    },
    {
      "cell_type": "code",
      "metadata": {
        "id": "skq7yAvFu8FP",
        "colab": {
          "base_uri": "https://localhost:8080/",
          "height": 51
        },
        "outputId": "03a0020d-74d3-4d88-9bff-2abac2dd06d2"
      },
      "source": [
        "X_test = test_cleaned.loc[:,[\"text_full\"]]\n",
        "\n",
        "tokenizer_obj = Tokenizer() #vectorizes the text corpus\n",
        "tokenizer_obj.fit_on_texts(X_test[\"text_full\"])\n",
        "seq = tokenizer_obj.texts_to_sequences(X_test[\"text_full\"])\n",
        "\n",
        "from nltk.tokenize.treebank import TreebankWordDetokenizer\n",
        "test_cleaned[\"text_full_detoken\"] = [TreebankWordDetokenizer().detokenize(token) for token in test_cleaned[\"text_full\"]] \n",
        "\n",
        "#max. length of text (of the training data)\n",
        "max_len_text = max([len(x.split()) for x in test_cleaned[\"text_full_detoken\"]]) #\"text_cl\" because tokens are not countable this way\n",
        "print(\"Max. text length: {}\".format(max_len_text))\n",
        "\n",
        "X_test = pad_sequences(seq, 402) \n",
        "print(X_test.shape)\n"
      ],
      "execution_count": null,
      "outputs": [
        {
          "output_type": "stream",
          "text": [
            "Max. text length: 2026\n",
            "(514, 402)\n"
          ],
          "name": "stdout"
        }
      ]
    },
    {
      "cell_type": "code",
      "metadata": {
        "id": "DkkgVKvdxdDh"
      },
      "source": [
        "claps_pred = model.predict(X_test)"
      ],
      "execution_count": null,
      "outputs": []
    },
    {
      "cell_type": "code",
      "metadata": {
        "id": "K6Xo0Ghix2LG"
      },
      "source": [
        "data_file = \"Sample_submission.csv\"\n",
        "sample = pd.read_csv(data_file, encoding='utf-8')"
      ],
      "execution_count": null,
      "outputs": []
    },
    {
      "cell_type": "code",
      "metadata": {
        "id": "ESt2gGGdzjS-"
      },
      "source": [
        "test[\"Claps\"] = claps_pred"
      ],
      "execution_count": null,
      "outputs": []
    },
    {
      "cell_type": "code",
      "metadata": {
        "id": "YiG5sM7g0zHh",
        "colab": {
          "base_uri": "https://localhost:8080/",
          "height": 37
        },
        "outputId": "f83cc765-28ad-4158-d1bf-57a511490307"
      },
      "source": [
        "path = os.getcwd()\n",
        "path"
      ],
      "execution_count": null,
      "outputs": [
        {
          "output_type": "execute_result",
          "data": {
            "application/vnd.google.colaboratory.intrinsic+json": {
              "type": "string"
            },
            "text/plain": [
              "'/content/gdrive/My Drive/ADAMS/Assignment'"
            ]
          },
          "metadata": {
            "tags": []
          },
          "execution_count": 74
        }
      ]
    },
    {
      "cell_type": "code",
      "metadata": {
        "id": "Soz4ZvE7sjQg"
      },
      "source": [
        "test[[\"index\",\"Claps\"]].to_csv(path + \"/finalprediction2.csv\",index=False)"
      ],
      "execution_count": null,
      "outputs": []
    },
    {
      "cell_type": "markdown",
      "metadata": {
        "id": "kXO-2dMuWd7x"
      },
      "source": [
        "##Recap and Potential Next Steps"
      ]
    },
    {
      "cell_type": "markdown",
      "metadata": {
        "id": "Xen8ZnoQWthA"
      },
      "source": [
        "1) Tune the number of claps<br> \n",
        "Right now we choose a cutoff at 3*IQR. This cutoff effected about the top 12% of the observations. The finalprediction.csv file shows that the model has difficulties to predict a number of claps that was more than 150. Instead of taking a cutoff related to the IQR, one could cutoff the top x%. <p>\n",
        "2) Focus on the sentiment analysis<br>\n",
        "Use different dictionaries, form clusters or similar. <p>\n",
        "3) Scrapping more data for the test set<br>\n",
        "If allowed, one could also scrap more data for the test set to be able to use variable with very high correlations such as the train variable recommends with a correlation towards the target variable of 0.96. <p> \n",
        "4) Focus on publishing websites<br>\n",
        "Extracting the websites on which the post first were published might show a correlation towards the number of claps.<p>\n",
        "5) Tune parameters<br>\n",
        "Tuning the parameter, more regularization to the GRUs etc."
      ]
    },
    {
      "cell_type": "markdown",
      "metadata": {
        "id": "U2PF2chgsDjQ"
      },
      "source": [
        "## References\n",
        "\n",
        "[1] Google Code Archive, word2vec, project created on Jul 30, 2013, https://code.google.com/archive/p/word2vec/. <br>\n",
        "[2] Kennedy, J. J. (1970), The eta coefficient in complex ANOVA designs, Educational and Psychological Measurement, 30(4), 885-889. <br>\n",
        "[3] Zakaria Jaadi, Everything you need to know about interpreting correlations, Towards Data Science. Oct 15, 2019.<br>\n",
        "[4] Dhruvil Karani, Introduction to Word Embedding and Word2Vec, Towards Data Science, Sep 1, 2018.<br>\n",
        "[5] Manish Chablani, Word2Vec (skip-gram model): PART 1 - Intuition. Jun 14, 2017.<br>\n",
        "[6] Jeffrey Pennington, Richard Socher, and Christopher D. Manning. 2014. GloVe: Global Vectors for Word Representation. <br>\n",
        "[7] Amar Mandal, Ridge, Lasso and Elastic Net Regularization methods. Jun 07, 2020.<br>\n",
        "[8] Jason Brownlee, A Gentle Introduction to the Rectified Linear Unit (ReLU), Deep Learning Performance. Jan 09, 2019 (last update: Aug 20, 2020), https://machinelearningmastery.com/rectified-linear-activation-function-for-deep-learning-neural-networks/.<br>\n",
        "[9] Jason Brownlee, Gentle Introduction to the Adam Optimization Algorithm for Deep Learning,  Deep Learning Performance. Jul 03, 2017 (last update: Aug 20, 2020) https://machinelearningmastery.com/adam-optimization-algorithm-for-deep-learning/. <br> \n",
        "[10] Kingma, D. P., & Ba, J. (2014). Adam: A method for stochastic optimization. arXiv preprint arXiv:1412.6980.<br>\n",
        "[11] Prof. Dr. Martin Riedmiller, Machine Learning: Multi Layer Perceptrons, Albert-Ludwigs-University Freiburg AG Maschinelles Lernen, http://ml.informatik.uni-freiburg.de/former/_media/documents/teaching/ss09/ml/mlps.pdf. (last accessed: Aug 31, 2020).<br>\n",
        "[12] Simeon Kostadinov, Understanding GRU Networks, Towards Data Science. Dec 16, 2017. https://towardsdatascience.com/understanding-gru-networks-2ef37df6c9be.<br>\n",
        "[13] Chung, J., Gulcehre, C., Cho, K., & Bengio, Y. (2014). Empirical evaluation of gated recurrent neural networks on sequence modeling. arXiv preprint arXiv:1412.3555.<br>\n",
        "[14] Madhu Ramiah, Bi-directional RNN & Basics of LSTM and GRU. Jul 9, 2019. https://medium.com/@madhuramiah/bi-directional-rnn-basics-of-lstm-and-gru-e114aa4779bb.\n",
        "\n"
      ]
    }
  ]
}